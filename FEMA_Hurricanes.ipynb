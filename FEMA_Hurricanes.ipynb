{
 "cells": [
  {
   "cell_type": "markdown",
   "metadata": {},
   "source": [
    "# Phase 4 Project - Time Series Modeling Introduction"
   ]
  },
  {
   "cell_type": "markdown",
   "metadata": {},
   "source": [
    "### By Rachel Beery"
   ]
  },
  {
   "cell_type": "markdown",
   "metadata": {},
   "source": [
    "## Overview"
   ]
  },
  {
   "cell_type": "markdown",
   "metadata": {},
   "source": [
    "### In this project we are using a time series model to understand the patterns of natural disasters declarations in the United States. By understanding these patterns we will then provide recommendations on what natural disasters to prepare for and when they may occur. "
   ]
  },
  {
   "cell_type": "markdown",
   "metadata": {},
   "source": [
    "Source: https://www.fema.gov/openfema-data-page/disaster-declarations-summaries-v2 "
   ]
  },
  {
   "cell_type": "code",
   "execution_count": 1,
   "metadata": {
    "scrolled": true
   },
   "outputs": [],
   "source": [
    "# We will begin by importing all of the packages we anticipate to use\n",
    "import pandas as pd\n",
    "import pandas.tseries  \n",
    "import numpy as np  \n",
    "\n",
    "import statsmodels.api as sm \n",
    "import itertools\n",
    "\n",
    "import matplotlib.pyplot as plt   \n",
    "from matplotlib.pylab import rcParams \n",
    "%matplotlib inline\n",
    "plt.style.use('ggplot') \n",
    "import plotly.express as px\n",
    "import plotly.figure_factory as ff \n",
    "import plotly.graph_objects as go \n",
    "import seaborn as sns  \n",
    "\n",
    "from statsmodels.tsa.arima_model import ARMA\n",
    "from statsmodels.tsa.statespace.sarimax import SARIMAX\n",
    "\n",
    "import warnings\n",
    "warnings.filterwarnings('ignore') "
   ]
  },
  {
   "cell_type": "code",
   "execution_count": 2,
   "metadata": {},
   "outputs": [],
   "source": [
    "# Setting the display defaults\n",
    "pd.set_option('display.max_columns', 0)\n",
    "# pd.set_option('display.max_rows',)\n",
    "\n",
    "# Turning off scientific notation in pandas\n",
    "pd.set_option('display.float_format', lambda x: '%.3f' % x)"
   ]
  },
  {
   "cell_type": "code",
   "execution_count": 3,
   "metadata": {},
   "outputs": [
    {
     "data": {
      "text/html": [
       "<div>\n",
       "<style scoped>\n",
       "    .dataframe tbody tr th:only-of-type {\n",
       "        vertical-align: middle;\n",
       "    }\n",
       "\n",
       "    .dataframe tbody tr th {\n",
       "        vertical-align: top;\n",
       "    }\n",
       "\n",
       "    .dataframe thead th {\n",
       "        text-align: right;\n",
       "    }\n",
       "</style>\n",
       "<table border=\"1\" class=\"dataframe\">\n",
       "  <thead>\n",
       "    <tr style=\"text-align: right;\">\n",
       "      <th></th>\n",
       "      <th>femaDeclarationString</th>\n",
       "      <th>disasterNumber</th>\n",
       "      <th>state</th>\n",
       "      <th>declarationType</th>\n",
       "      <th>declarationDate</th>\n",
       "      <th>fyDeclared</th>\n",
       "      <th>incidentType</th>\n",
       "      <th>declarationTitle</th>\n",
       "      <th>ihProgramDeclared</th>\n",
       "      <th>iaProgramDeclared</th>\n",
       "      <th>paProgramDeclared</th>\n",
       "      <th>hmProgramDeclared</th>\n",
       "      <th>incidentBeginDate</th>\n",
       "      <th>incidentEndDate</th>\n",
       "      <th>disasterCloseoutDate</th>\n",
       "      <th>fipsStateCode</th>\n",
       "      <th>fipsCountyCode</th>\n",
       "      <th>placeCode</th>\n",
       "      <th>designatedArea</th>\n",
       "      <th>declarationRequestNumber</th>\n",
       "      <th>hash</th>\n",
       "      <th>lastRefresh</th>\n",
       "      <th>id</th>\n",
       "    </tr>\n",
       "  </thead>\n",
       "  <tbody>\n",
       "    <tr>\n",
       "      <td>0</td>\n",
       "      <td>DR-1-GA</td>\n",
       "      <td>1</td>\n",
       "      <td>GA</td>\n",
       "      <td>DR</td>\n",
       "      <td>1953-05-02T04:00:00.000Z</td>\n",
       "      <td>1953</td>\n",
       "      <td>Tornado</td>\n",
       "      <td>TORNADO</td>\n",
       "      <td>0</td>\n",
       "      <td>1</td>\n",
       "      <td>1</td>\n",
       "      <td>1</td>\n",
       "      <td>1953-05-02T04:00:00.000Z</td>\n",
       "      <td>1953-05-02T04:00:00.000Z</td>\n",
       "      <td>1954-06-01T04:00:00.000Z</td>\n",
       "      <td>13</td>\n",
       "      <td>0</td>\n",
       "      <td>0</td>\n",
       "      <td>Statewide</td>\n",
       "      <td>53013</td>\n",
       "      <td>2f28952448e0a666d367ca3f854c81ec</td>\n",
       "      <td>2020-10-05T14:21:20.694Z</td>\n",
       "      <td>5f7b2be031a8c6681cfb4342</td>\n",
       "    </tr>\n",
       "    <tr>\n",
       "      <td>1</td>\n",
       "      <td>DR-2-TX</td>\n",
       "      <td>2</td>\n",
       "      <td>TX</td>\n",
       "      <td>DR</td>\n",
       "      <td>1953-05-15T04:00:00.000Z</td>\n",
       "      <td>1953</td>\n",
       "      <td>Tornado</td>\n",
       "      <td>TORNADO &amp; HEAVY RAINFALL</td>\n",
       "      <td>0</td>\n",
       "      <td>1</td>\n",
       "      <td>1</td>\n",
       "      <td>1</td>\n",
       "      <td>1953-05-15T04:00:00.000Z</td>\n",
       "      <td>1953-05-15T04:00:00.000Z</td>\n",
       "      <td>1958-01-01T05:00:00.000Z</td>\n",
       "      <td>48</td>\n",
       "      <td>0</td>\n",
       "      <td>0</td>\n",
       "      <td>Statewide</td>\n",
       "      <td>53003</td>\n",
       "      <td>c5a1a4a1030d6730d9c562cdbe7c830f</td>\n",
       "      <td>2020-10-05T14:21:20.696Z</td>\n",
       "      <td>5f7b2be031a8c6681cfb4345</td>\n",
       "    </tr>\n",
       "    <tr>\n",
       "      <td>2</td>\n",
       "      <td>DR-5-MT</td>\n",
       "      <td>5</td>\n",
       "      <td>MT</td>\n",
       "      <td>DR</td>\n",
       "      <td>1953-06-06T04:00:00.000Z</td>\n",
       "      <td>1953</td>\n",
       "      <td>Flood</td>\n",
       "      <td>FLOODS</td>\n",
       "      <td>0</td>\n",
       "      <td>1</td>\n",
       "      <td>1</td>\n",
       "      <td>1</td>\n",
       "      <td>1953-06-06T04:00:00.000Z</td>\n",
       "      <td>1953-06-06T04:00:00.000Z</td>\n",
       "      <td>1955-12-01T05:00:00.000Z</td>\n",
       "      <td>30</td>\n",
       "      <td>0</td>\n",
       "      <td>0</td>\n",
       "      <td>Statewide</td>\n",
       "      <td>53006</td>\n",
       "      <td>59c5483387ca13c6a3c1bc692f4860e1</td>\n",
       "      <td>2020-10-05T14:21:20.698Z</td>\n",
       "      <td>5f7b2be031a8c6681cfb4348</td>\n",
       "    </tr>\n",
       "    <tr>\n",
       "      <td>3</td>\n",
       "      <td>DR-7-MA</td>\n",
       "      <td>7</td>\n",
       "      <td>MA</td>\n",
       "      <td>DR</td>\n",
       "      <td>1953-06-11T04:00:00.000Z</td>\n",
       "      <td>1953</td>\n",
       "      <td>Tornado</td>\n",
       "      <td>TORNADO</td>\n",
       "      <td>0</td>\n",
       "      <td>1</td>\n",
       "      <td>1</td>\n",
       "      <td>1</td>\n",
       "      <td>1953-06-11T04:00:00.000Z</td>\n",
       "      <td>1953-06-11T04:00:00.000Z</td>\n",
       "      <td>1956-06-01T04:00:00.000Z</td>\n",
       "      <td>25</td>\n",
       "      <td>0</td>\n",
       "      <td>0</td>\n",
       "      <td>Statewide</td>\n",
       "      <td>53009</td>\n",
       "      <td>6bab17e16984fc75f61a8445df3e95d9</td>\n",
       "      <td>2020-10-05T14:21:20.699Z</td>\n",
       "      <td>5f7b2be031a8c6681cfb434b</td>\n",
       "    </tr>\n",
       "    <tr>\n",
       "      <td>4</td>\n",
       "      <td>DR-8-IA</td>\n",
       "      <td>8</td>\n",
       "      <td>IA</td>\n",
       "      <td>DR</td>\n",
       "      <td>1953-06-11T04:00:00.000Z</td>\n",
       "      <td>1953</td>\n",
       "      <td>Flood</td>\n",
       "      <td>FLOOD</td>\n",
       "      <td>0</td>\n",
       "      <td>1</td>\n",
       "      <td>1</td>\n",
       "      <td>1</td>\n",
       "      <td>1953-06-11T04:00:00.000Z</td>\n",
       "      <td>1953-06-11T04:00:00.000Z</td>\n",
       "      <td>1955-11-01T05:00:00.000Z</td>\n",
       "      <td>19</td>\n",
       "      <td>0</td>\n",
       "      <td>0</td>\n",
       "      <td>Statewide</td>\n",
       "      <td>53008</td>\n",
       "      <td>e258e9dd25fac73939f59c8ffb5308f5</td>\n",
       "      <td>2020-10-05T14:21:20.700Z</td>\n",
       "      <td>5f7b2be031a8c6681cfb434e</td>\n",
       "    </tr>\n",
       "  </tbody>\n",
       "</table>\n",
       "</div>"
      ],
      "text/plain": [
       "  femaDeclarationString  ...                        id\n",
       "0               DR-1-GA  ...  5f7b2be031a8c6681cfb4342\n",
       "1               DR-2-TX  ...  5f7b2be031a8c6681cfb4345\n",
       "2               DR-5-MT  ...  5f7b2be031a8c6681cfb4348\n",
       "3               DR-7-MA  ...  5f7b2be031a8c6681cfb434b\n",
       "4               DR-8-IA  ...  5f7b2be031a8c6681cfb434e\n",
       "\n",
       "[5 rows x 23 columns]"
      ]
     },
     "execution_count": 3,
     "metadata": {},
     "output_type": "execute_result"
    }
   ],
   "source": [
    "#Import data and see the headers\n",
    "df = pd.read_csv(r\"DisasterDeclarationsSummaries.csv\")\n",
    "df.head()"
   ]
  },
  {
   "cell_type": "code",
   "execution_count": 4,
   "metadata": {},
   "outputs": [
    {
     "data": {
      "text/plain": [
       "(60440, 23)"
      ]
     },
     "execution_count": 4,
     "metadata": {},
     "output_type": "execute_result"
    }
   ],
   "source": [
    "# How big is this dataset?\n",
    "df.shape"
   ]
  },
  {
   "cell_type": "code",
   "execution_count": 5,
   "metadata": {},
   "outputs": [
    {
     "name": "stdout",
     "output_type": "stream",
     "text": [
      "<class 'pandas.core.frame.DataFrame'>\n",
      "RangeIndex: 60440 entries, 0 to 60439\n",
      "Data columns (total 23 columns):\n",
      "femaDeclarationString       60440 non-null object\n",
      "disasterNumber              60440 non-null int64\n",
      "state                       60440 non-null object\n",
      "declarationType             60440 non-null object\n",
      "declarationDate             60440 non-null object\n",
      "fyDeclared                  60440 non-null int64\n",
      "incidentType                60440 non-null object\n",
      "declarationTitle            60440 non-null object\n",
      "ihProgramDeclared           60440 non-null int64\n",
      "iaProgramDeclared           60440 non-null int64\n",
      "paProgramDeclared           60440 non-null int64\n",
      "hmProgramDeclared           60440 non-null int64\n",
      "incidentBeginDate           60440 non-null object\n",
      "incidentEndDate             52339 non-null object\n",
      "disasterCloseoutDate        43789 non-null object\n",
      "fipsStateCode               60440 non-null int64\n",
      "fipsCountyCode              60440 non-null int64\n",
      "placeCode                   60440 non-null int64\n",
      "designatedArea              60440 non-null object\n",
      "declarationRequestNumber    60440 non-null int64\n",
      "hash                        60440 non-null object\n",
      "lastRefresh                 60440 non-null object\n",
      "id                          60440 non-null object\n",
      "dtypes: int64(10), object(13)\n",
      "memory usage: 10.6+ MB\n"
     ]
    }
   ],
   "source": [
    "# Looking to make sure out df is the correct datatypes\n",
    "df.info()"
   ]
  },
  {
   "cell_type": "code",
   "execution_count": 6,
   "metadata": {},
   "outputs": [
    {
     "data": {
      "text/html": [
       "<div>\n",
       "<style scoped>\n",
       "    .dataframe tbody tr th:only-of-type {\n",
       "        vertical-align: middle;\n",
       "    }\n",
       "\n",
       "    .dataframe tbody tr th {\n",
       "        vertical-align: top;\n",
       "    }\n",
       "\n",
       "    .dataframe thead th {\n",
       "        text-align: right;\n",
       "    }\n",
       "</style>\n",
       "<table border=\"1\" class=\"dataframe\">\n",
       "  <thead>\n",
       "    <tr style=\"text-align: right;\">\n",
       "      <th></th>\n",
       "      <th>disasterNumber</th>\n",
       "      <th>fyDeclared</th>\n",
       "      <th>ihProgramDeclared</th>\n",
       "      <th>iaProgramDeclared</th>\n",
       "      <th>paProgramDeclared</th>\n",
       "      <th>hmProgramDeclared</th>\n",
       "      <th>fipsStateCode</th>\n",
       "      <th>fipsCountyCode</th>\n",
       "      <th>placeCode</th>\n",
       "      <th>declarationRequestNumber</th>\n",
       "    </tr>\n",
       "  </thead>\n",
       "  <tbody>\n",
       "    <tr>\n",
       "      <td>count</td>\n",
       "      <td>60440.000</td>\n",
       "      <td>60440.000</td>\n",
       "      <td>60440.000</td>\n",
       "      <td>60440.000</td>\n",
       "      <td>60440.000</td>\n",
       "      <td>60440.000</td>\n",
       "      <td>60440.000</td>\n",
       "      <td>60440.000</td>\n",
       "      <td>60440.000</td>\n",
       "      <td>60440.000</td>\n",
       "    </tr>\n",
       "    <tr>\n",
       "      <td>mean</td>\n",
       "      <td>2474.543</td>\n",
       "      <td>2003.302</td>\n",
       "      <td>0.165</td>\n",
       "      <td>0.284</td>\n",
       "      <td>0.932</td>\n",
       "      <td>0.354</td>\n",
       "      <td>31.534</td>\n",
       "      <td>97.294</td>\n",
       "      <td>96489.649</td>\n",
       "      <td>35849.570</td>\n",
       "    </tr>\n",
       "    <tr>\n",
       "      <td>std</td>\n",
       "      <td>1376.038</td>\n",
       "      <td>14.591</td>\n",
       "      <td>0.372</td>\n",
       "      <td>0.451</td>\n",
       "      <td>0.252</td>\n",
       "      <td>0.478</td>\n",
       "      <td>16.601</td>\n",
       "      <td>102.835</td>\n",
       "      <td>13747.325</td>\n",
       "      <td>35830.568</td>\n",
       "    </tr>\n",
       "    <tr>\n",
       "      <td>min</td>\n",
       "      <td>1.000</td>\n",
       "      <td>1953.000</td>\n",
       "      <td>0.000</td>\n",
       "      <td>0.000</td>\n",
       "      <td>0.000</td>\n",
       "      <td>0.000</td>\n",
       "      <td>1.000</td>\n",
       "      <td>0.000</td>\n",
       "      <td>0.000</td>\n",
       "      <td>3.000</td>\n",
       "    </tr>\n",
       "    <tr>\n",
       "      <td>25%</td>\n",
       "      <td>1249.000</td>\n",
       "      <td>1996.000</td>\n",
       "      <td>0.000</td>\n",
       "      <td>0.000</td>\n",
       "      <td>1.000</td>\n",
       "      <td>0.000</td>\n",
       "      <td>19.000</td>\n",
       "      <td>31.000</td>\n",
       "      <td>99029.000</td>\n",
       "      <td>8099.000</td>\n",
       "    </tr>\n",
       "    <tr>\n",
       "      <td>50%</td>\n",
       "      <td>2704.500</td>\n",
       "      <td>2005.000</td>\n",
       "      <td>0.000</td>\n",
       "      <td>0.000</td>\n",
       "      <td>1.000</td>\n",
       "      <td>0.000</td>\n",
       "      <td>30.000</td>\n",
       "      <td>75.000</td>\n",
       "      <td>99073.000</td>\n",
       "      <td>19026.000</td>\n",
       "    </tr>\n",
       "    <tr>\n",
       "      <td>75%</td>\n",
       "      <td>3458.000</td>\n",
       "      <td>2016.000</td>\n",
       "      <td>0.000</td>\n",
       "      <td>1.000</td>\n",
       "      <td>1.000</td>\n",
       "      <td>1.000</td>\n",
       "      <td>46.000</td>\n",
       "      <td>127.000</td>\n",
       "      <td>99123.000</td>\n",
       "      <td>76022.000</td>\n",
       "    </tr>\n",
       "    <tr>\n",
       "      <td>max</td>\n",
       "      <td>5383.000</td>\n",
       "      <td>2021.000</td>\n",
       "      <td>1.000</td>\n",
       "      <td>1.000</td>\n",
       "      <td>1.000</td>\n",
       "      <td>1.000</td>\n",
       "      <td>78.000</td>\n",
       "      <td>840.000</td>\n",
       "      <td>99507.000</td>\n",
       "      <td>99159.000</td>\n",
       "    </tr>\n",
       "  </tbody>\n",
       "</table>\n",
       "</div>"
      ],
      "text/plain": [
       "       disasterNumber  fyDeclared  ...  placeCode  declarationRequestNumber\n",
       "count       60440.000   60440.000  ...  60440.000                 60440.000\n",
       "mean         2474.543    2003.302  ...  96489.649                 35849.570\n",
       "std          1376.038      14.591  ...  13747.325                 35830.568\n",
       "min             1.000    1953.000  ...      0.000                     3.000\n",
       "25%          1249.000    1996.000  ...  99029.000                  8099.000\n",
       "50%          2704.500    2005.000  ...  99073.000                 19026.000\n",
       "75%          3458.000    2016.000  ...  99123.000                 76022.000\n",
       "max          5383.000    2021.000  ...  99507.000                 99159.000\n",
       "\n",
       "[8 rows x 10 columns]"
      ]
     },
     "execution_count": 6,
     "metadata": {},
     "output_type": "execute_result"
    }
   ],
   "source": [
    "df.describe()"
   ]
  },
  {
   "cell_type": "code",
   "execution_count": 7,
   "metadata": {},
   "outputs": [
    {
     "data": {
      "text/plain": [
       "femaDeclarationString           0\n",
       "disasterNumber                  0\n",
       "state                           0\n",
       "declarationType                 0\n",
       "declarationDate                 0\n",
       "fyDeclared                      0\n",
       "incidentType                    0\n",
       "declarationTitle                0\n",
       "ihProgramDeclared               0\n",
       "iaProgramDeclared               0\n",
       "paProgramDeclared               0\n",
       "hmProgramDeclared               0\n",
       "incidentBeginDate               0\n",
       "incidentEndDate              8101\n",
       "disasterCloseoutDate        16651\n",
       "fipsStateCode                   0\n",
       "fipsCountyCode                  0\n",
       "placeCode                       0\n",
       "designatedArea                  0\n",
       "declarationRequestNumber        0\n",
       "hash                            0\n",
       "lastRefresh                     0\n",
       "id                              0\n",
       "dtype: int64"
      ]
     },
     "execution_count": 7,
     "metadata": {},
     "output_type": "execute_result"
    }
   ],
   "source": [
    "# Do we have nulls?\n",
    "df.isna().sum()"
   ]
  },
  {
   "cell_type": "code",
   "execution_count": 8,
   "metadata": {},
   "outputs": [
    {
     "name": "stdout",
     "output_type": "stream",
     "text": [
      "0\n"
     ]
    },
    {
     "data": {
      "text/html": [
       "<div>\n",
       "<style scoped>\n",
       "    .dataframe tbody tr th:only-of-type {\n",
       "        vertical-align: middle;\n",
       "    }\n",
       "\n",
       "    .dataframe tbody tr th {\n",
       "        vertical-align: top;\n",
       "    }\n",
       "\n",
       "    .dataframe thead th {\n",
       "        text-align: right;\n",
       "    }\n",
       "</style>\n",
       "<table border=\"1\" class=\"dataframe\">\n",
       "  <thead>\n",
       "    <tr style=\"text-align: right;\">\n",
       "      <th></th>\n",
       "      <th>femaDeclarationString</th>\n",
       "      <th>disasterNumber</th>\n",
       "      <th>state</th>\n",
       "      <th>declarationType</th>\n",
       "      <th>declarationDate</th>\n",
       "      <th>fyDeclared</th>\n",
       "      <th>incidentType</th>\n",
       "      <th>declarationTitle</th>\n",
       "      <th>ihProgramDeclared</th>\n",
       "      <th>iaProgramDeclared</th>\n",
       "      <th>paProgramDeclared</th>\n",
       "      <th>hmProgramDeclared</th>\n",
       "      <th>incidentBeginDate</th>\n",
       "      <th>incidentEndDate</th>\n",
       "      <th>disasterCloseoutDate</th>\n",
       "      <th>fipsStateCode</th>\n",
       "      <th>fipsCountyCode</th>\n",
       "      <th>placeCode</th>\n",
       "      <th>designatedArea</th>\n",
       "      <th>declarationRequestNumber</th>\n",
       "      <th>hash</th>\n",
       "      <th>lastRefresh</th>\n",
       "      <th>id</th>\n",
       "    </tr>\n",
       "  </thead>\n",
       "  <tbody>\n",
       "  </tbody>\n",
       "</table>\n",
       "</div>"
      ],
      "text/plain": [
       "Empty DataFrame\n",
       "Columns: [femaDeclarationString, disasterNumber, state, declarationType, declarationDate, fyDeclared, incidentType, declarationTitle, ihProgramDeclared, iaProgramDeclared, paProgramDeclared, hmProgramDeclared, incidentBeginDate, incidentEndDate, disasterCloseoutDate, fipsStateCode, fipsCountyCode, placeCode, designatedArea, declarationRequestNumber, hash, lastRefresh, id]\n",
       "Index: []"
      ]
     },
     "execution_count": 8,
     "metadata": {},
     "output_type": "execute_result"
    }
   ],
   "source": [
    "# Do we have any duplicate rows?\n",
    "duplicates = df[df.duplicated()]\n",
    "print(len(duplicates))\n",
    "duplicates.head()\n",
    "# None"
   ]
  },
  {
   "cell_type": "code",
   "execution_count": 9,
   "metadata": {},
   "outputs": [],
   "source": [
    "# Clean the nulls\n",
    "# incidentEndDate and disasterCloseoutDate are the only values with nulls"
   ]
  },
  {
   "cell_type": "code",
   "execution_count": 10,
   "metadata": {},
   "outputs": [
    {
     "data": {
      "text/plain": [
       "(10, -0.5)"
      ]
     },
     "execution_count": 10,
     "metadata": {},
     "output_type": "execute_result"
    },
    {
     "data": {
      "image/png": "[encoded data removed]",
      "text/plain": [
       "<Figure size 864x864 with 2 Axes>"
      ]
     },
     "metadata": {
      "needs_background": "light"
     },
     "output_type": "display_data"
    }
   ],
   "source": [
    "fig, ax = plt.subplots(figsize=(12,12))\n",
    "sns.heatmap(df.corr().abs(), center=0, annot=True, linewidths=1.5, cmap='coolwarm');\n",
    "ax.set_ylim(len(df.corr())-0, -0.5)"
   ]
  },
  {
   "cell_type": "markdown",
   "metadata": {},
   "source": [
    "# Scrub"
   ]
  },
  {
   "cell_type": "code",
   "execution_count": 11,
   "metadata": {},
   "outputs": [
    {
     "data": {
      "text/plain": [
       "DR-4522-ME    437\n",
       "DR-1239-TX    257\n",
       "DR-4485-TX    257\n",
       "EM-3458-TX    257\n",
       "EM-3261-TX    255\n",
       "             ... \n",
       "FM-2524-NV      1\n",
       "FM-5122-OK      1\n",
       "DR-1003-NC      1\n",
       "FM-2848-WA      1\n",
       "FM-2790-CA      1\n",
       "Name: femaDeclarationString, Length: 4497, dtype: int64"
      ]
     },
     "execution_count": 11,
     "metadata": {},
     "output_type": "execute_result"
    }
   ],
   "source": [
    "df['femaDeclarationString'].value_counts()"
   ]
  },
  {
   "cell_type": "code",
   "execution_count": 12,
   "metadata": {},
   "outputs": [
    {
     "data": {
      "text/plain": [
       "4522    437\n",
       "3458    257\n",
       "4485    257\n",
       "1239    257\n",
       "3261    255\n",
       "       ... \n",
       "2993      1\n",
       "5010      1\n",
       "2961      1\n",
       "2929      1\n",
       "2049      1\n",
       "Name: disasterNumber, Length: 4497, dtype: int64"
      ]
     },
     "execution_count": 12,
     "metadata": {},
     "output_type": "execute_result"
    }
   ],
   "source": [
    "df['disasterNumber'].value_counts()"
   ]
  },
  {
   "cell_type": "code",
   "execution_count": 13,
   "metadata": {},
   "outputs": [
    {
     "data": {
      "text/plain": [
       "TX    4651\n",
       "MO    2670\n",
       "VA    2460\n",
       "KY    2416\n",
       "OK    2278\n",
       "GA    2239\n",
       "LA    2131\n",
       "FL    2027\n",
       "NC    1965\n",
       "PR    1825\n",
       "IA    1823\n",
       "MS    1691\n",
       "KS    1682\n",
       "AL    1619\n",
       "AR    1588\n",
       "TN    1522\n",
       "MN    1498\n",
       "IN    1451\n",
       "CA    1443\n",
       "NE    1423\n",
       "NY    1421\n",
       "ND    1301\n",
       "OH    1281\n",
       "IL    1268\n",
       "SD    1251\n",
       "PA    1226\n",
       "WV    1218\n",
       "ME    1004\n",
       "WI     891\n",
       "WA     862\n",
       "SC     855\n",
       "MI     791\n",
       "CO     642\n",
       "MT     586\n",
       "NJ     567\n",
       "OR     562\n",
       "NM     495\n",
       "MD     445\n",
       "MA     389\n",
       "ID     346\n",
       "AZ     323\n",
       "VT     314\n",
       "NH     294\n",
       "NV     271\n",
       "AK     247\n",
       "UT     241\n",
       "CT     228\n",
       "WY     128\n",
       "RI     102\n",
       "HI      95\n",
       "VI      79\n",
       "AS      75\n",
       "MP      62\n",
       "MH      53\n",
       "DE      52\n",
       "FM      31\n",
       "DC      22\n",
       "GU      19\n",
       "PW       1\n",
       "Name: state, dtype: int64"
      ]
     },
     "execution_count": 13,
     "metadata": {},
     "output_type": "execute_result"
    }
   ],
   "source": [
    "df['state'].value_counts()"
   ]
  },
  {
   "cell_type": "code",
   "execution_count": 14,
   "metadata": {},
   "outputs": [
    {
     "data": {
      "text/plain": [
       "DR    40964\n",
       "EM    17696\n",
       "FM     1780\n",
       "Name: declarationType, dtype: int64"
      ]
     },
     "execution_count": 14,
     "metadata": {},
     "output_type": "execute_result"
    }
   ],
   "source": [
    "df['declarationType'].value_counts()"
   ]
  },
  {
   "cell_type": "code",
   "execution_count": 15,
   "metadata": {
    "scrolled": true
   },
   "outputs": [
    {
     "data": {
      "text/plain": [
       "2020-03-13T20:00:00.000Z    2876\n",
       "2020-03-13T19:00:00.000Z     566\n",
       "1996-01-13T05:00:00.000Z     453\n",
       "2020-04-04T17:15:00.000Z     437\n",
       "2005-09-13T17:34:00.000Z     433\n",
       "                            ... \n",
       "1994-10-06T04:00:00.000Z       1\n",
       "1973-08-17T04:00:00.000Z       1\n",
       "2011-06-20T05:00:00.000Z       1\n",
       "2020-08-03T04:51:00.000Z       1\n",
       "1992-08-28T04:00:00.000Z       1\n",
       "Name: declarationDate, Length: 3849, dtype: int64"
      ]
     },
     "execution_count": 15,
     "metadata": {},
     "output_type": "execute_result"
    }
   ],
   "source": [
    "df['declarationDate'].value_counts()"
   ]
  },
  {
   "cell_type": "code",
   "execution_count": 16,
   "metadata": {},
   "outputs": [],
   "source": [
    "df['declarationDate'] = df['declarationDate'].str.split('T').str[0]"
   ]
  },
  {
   "cell_type": "code",
   "execution_count": 17,
   "metadata": {
    "scrolled": true
   },
   "outputs": [
    {
     "data": {
      "text/plain": [
       "2020-03-13    3683\n",
       "2005-09-11     777\n",
       "2020-04-04     738\n",
       "2005-09-05     646\n",
       "2005-09-13     615\n",
       "              ... \n",
       "1987-07-22       1\n",
       "2006-01-05       1\n",
       "2014-07-22       1\n",
       "1985-08-07       1\n",
       "1976-06-19       1\n",
       "Name: declarationDate, Length: 3118, dtype: int64"
      ]
     },
     "execution_count": 17,
     "metadata": {},
     "output_type": "execute_result"
    }
   ],
   "source": [
    "df['declarationDate'].value_counts()"
   ]
  },
  {
   "cell_type": "code",
   "execution_count": 18,
   "metadata": {},
   "outputs": [],
   "source": [
    "df['declarationDate'] = pd.to_datetime(df['declarationDate'])"
   ]
  },
  {
   "cell_type": "code",
   "execution_count": 19,
   "metadata": {},
   "outputs": [],
   "source": [
    "# df['Declaration Day of Week'] = df['declarationDate'].dt.day_name()"
   ]
  },
  {
   "cell_type": "code",
   "execution_count": 20,
   "metadata": {},
   "outputs": [],
   "source": [
    "#df['Declaration Year'] = df['declarationDate'].dt.year\n",
    "#df['Declaration Month'] = df['declarationDate'].dt.month\n",
    "#df['Declaration Day'] = df['declarationDate'].dt.day"
   ]
  },
  {
   "cell_type": "code",
   "execution_count": 21,
   "metadata": {},
   "outputs": [],
   "source": [
    "#df = df.drop(columns=['declarationDate'], axis=1)"
   ]
  },
  {
   "cell_type": "code",
   "execution_count": 22,
   "metadata": {},
   "outputs": [
    {
     "data": {
      "text/html": [
       "<div>\n",
       "<style scoped>\n",
       "    .dataframe tbody tr th:only-of-type {\n",
       "        vertical-align: middle;\n",
       "    }\n",
       "\n",
       "    .dataframe tbody tr th {\n",
       "        vertical-align: top;\n",
       "    }\n",
       "\n",
       "    .dataframe thead th {\n",
       "        text-align: right;\n",
       "    }\n",
       "</style>\n",
       "<table border=\"1\" class=\"dataframe\">\n",
       "  <thead>\n",
       "    <tr style=\"text-align: right;\">\n",
       "      <th></th>\n",
       "      <th>femaDeclarationString</th>\n",
       "      <th>disasterNumber</th>\n",
       "      <th>state</th>\n",
       "      <th>declarationType</th>\n",
       "      <th>declarationDate</th>\n",
       "      <th>fyDeclared</th>\n",
       "      <th>incidentType</th>\n",
       "      <th>declarationTitle</th>\n",
       "      <th>ihProgramDeclared</th>\n",
       "      <th>iaProgramDeclared</th>\n",
       "      <th>paProgramDeclared</th>\n",
       "      <th>hmProgramDeclared</th>\n",
       "      <th>incidentBeginDate</th>\n",
       "      <th>incidentEndDate</th>\n",
       "      <th>disasterCloseoutDate</th>\n",
       "      <th>fipsStateCode</th>\n",
       "      <th>fipsCountyCode</th>\n",
       "      <th>placeCode</th>\n",
       "      <th>designatedArea</th>\n",
       "      <th>declarationRequestNumber</th>\n",
       "      <th>hash</th>\n",
       "      <th>lastRefresh</th>\n",
       "      <th>id</th>\n",
       "    </tr>\n",
       "  </thead>\n",
       "  <tbody>\n",
       "    <tr>\n",
       "      <td>0</td>\n",
       "      <td>DR-1-GA</td>\n",
       "      <td>1</td>\n",
       "      <td>GA</td>\n",
       "      <td>DR</td>\n",
       "      <td>1953-05-02</td>\n",
       "      <td>1953</td>\n",
       "      <td>Tornado</td>\n",
       "      <td>TORNADO</td>\n",
       "      <td>0</td>\n",
       "      <td>1</td>\n",
       "      <td>1</td>\n",
       "      <td>1</td>\n",
       "      <td>1953-05-02T04:00:00.000Z</td>\n",
       "      <td>1953-05-02T04:00:00.000Z</td>\n",
       "      <td>1954-06-01T04:00:00.000Z</td>\n",
       "      <td>13</td>\n",
       "      <td>0</td>\n",
       "      <td>0</td>\n",
       "      <td>Statewide</td>\n",
       "      <td>53013</td>\n",
       "      <td>2f28952448e0a666d367ca3f854c81ec</td>\n",
       "      <td>2020-10-05T14:21:20.694Z</td>\n",
       "      <td>5f7b2be031a8c6681cfb4342</td>\n",
       "    </tr>\n",
       "    <tr>\n",
       "      <td>1</td>\n",
       "      <td>DR-2-TX</td>\n",
       "      <td>2</td>\n",
       "      <td>TX</td>\n",
       "      <td>DR</td>\n",
       "      <td>1953-05-15</td>\n",
       "      <td>1953</td>\n",
       "      <td>Tornado</td>\n",
       "      <td>TORNADO &amp; HEAVY RAINFALL</td>\n",
       "      <td>0</td>\n",
       "      <td>1</td>\n",
       "      <td>1</td>\n",
       "      <td>1</td>\n",
       "      <td>1953-05-15T04:00:00.000Z</td>\n",
       "      <td>1953-05-15T04:00:00.000Z</td>\n",
       "      <td>1958-01-01T05:00:00.000Z</td>\n",
       "      <td>48</td>\n",
       "      <td>0</td>\n",
       "      <td>0</td>\n",
       "      <td>Statewide</td>\n",
       "      <td>53003</td>\n",
       "      <td>c5a1a4a1030d6730d9c562cdbe7c830f</td>\n",
       "      <td>2020-10-05T14:21:20.696Z</td>\n",
       "      <td>5f7b2be031a8c6681cfb4345</td>\n",
       "    </tr>\n",
       "    <tr>\n",
       "      <td>2</td>\n",
       "      <td>DR-5-MT</td>\n",
       "      <td>5</td>\n",
       "      <td>MT</td>\n",
       "      <td>DR</td>\n",
       "      <td>1953-06-06</td>\n",
       "      <td>1953</td>\n",
       "      <td>Flood</td>\n",
       "      <td>FLOODS</td>\n",
       "      <td>0</td>\n",
       "      <td>1</td>\n",
       "      <td>1</td>\n",
       "      <td>1</td>\n",
       "      <td>1953-06-06T04:00:00.000Z</td>\n",
       "      <td>1953-06-06T04:00:00.000Z</td>\n",
       "      <td>1955-12-01T05:00:00.000Z</td>\n",
       "      <td>30</td>\n",
       "      <td>0</td>\n",
       "      <td>0</td>\n",
       "      <td>Statewide</td>\n",
       "      <td>53006</td>\n",
       "      <td>59c5483387ca13c6a3c1bc692f4860e1</td>\n",
       "      <td>2020-10-05T14:21:20.698Z</td>\n",
       "      <td>5f7b2be031a8c6681cfb4348</td>\n",
       "    </tr>\n",
       "    <tr>\n",
       "      <td>3</td>\n",
       "      <td>DR-7-MA</td>\n",
       "      <td>7</td>\n",
       "      <td>MA</td>\n",
       "      <td>DR</td>\n",
       "      <td>1953-06-11</td>\n",
       "      <td>1953</td>\n",
       "      <td>Tornado</td>\n",
       "      <td>TORNADO</td>\n",
       "      <td>0</td>\n",
       "      <td>1</td>\n",
       "      <td>1</td>\n",
       "      <td>1</td>\n",
       "      <td>1953-06-11T04:00:00.000Z</td>\n",
       "      <td>1953-06-11T04:00:00.000Z</td>\n",
       "      <td>1956-06-01T04:00:00.000Z</td>\n",
       "      <td>25</td>\n",
       "      <td>0</td>\n",
       "      <td>0</td>\n",
       "      <td>Statewide</td>\n",
       "      <td>53009</td>\n",
       "      <td>6bab17e16984fc75f61a8445df3e95d9</td>\n",
       "      <td>2020-10-05T14:21:20.699Z</td>\n",
       "      <td>5f7b2be031a8c6681cfb434b</td>\n",
       "    </tr>\n",
       "    <tr>\n",
       "      <td>4</td>\n",
       "      <td>DR-8-IA</td>\n",
       "      <td>8</td>\n",
       "      <td>IA</td>\n",
       "      <td>DR</td>\n",
       "      <td>1953-06-11</td>\n",
       "      <td>1953</td>\n",
       "      <td>Flood</td>\n",
       "      <td>FLOOD</td>\n",
       "      <td>0</td>\n",
       "      <td>1</td>\n",
       "      <td>1</td>\n",
       "      <td>1</td>\n",
       "      <td>1953-06-11T04:00:00.000Z</td>\n",
       "      <td>1953-06-11T04:00:00.000Z</td>\n",
       "      <td>1955-11-01T05:00:00.000Z</td>\n",
       "      <td>19</td>\n",
       "      <td>0</td>\n",
       "      <td>0</td>\n",
       "      <td>Statewide</td>\n",
       "      <td>53008</td>\n",
       "      <td>e258e9dd25fac73939f59c8ffb5308f5</td>\n",
       "      <td>2020-10-05T14:21:20.700Z</td>\n",
       "      <td>5f7b2be031a8c6681cfb434e</td>\n",
       "    </tr>\n",
       "  </tbody>\n",
       "</table>\n",
       "</div>"
      ],
      "text/plain": [
       "  femaDeclarationString  ...                        id\n",
       "0               DR-1-GA  ...  5f7b2be031a8c6681cfb4342\n",
       "1               DR-2-TX  ...  5f7b2be031a8c6681cfb4345\n",
       "2               DR-5-MT  ...  5f7b2be031a8c6681cfb4348\n",
       "3               DR-7-MA  ...  5f7b2be031a8c6681cfb434b\n",
       "4               DR-8-IA  ...  5f7b2be031a8c6681cfb434e\n",
       "\n",
       "[5 rows x 23 columns]"
      ]
     },
     "execution_count": 22,
     "metadata": {},
     "output_type": "execute_result"
    }
   ],
   "source": [
    "df.head()"
   ]
  },
  {
   "cell_type": "code",
   "execution_count": 23,
   "metadata": {
    "scrolled": false
   },
   "outputs": [
    {
     "data": {
      "text/plain": [
       "2020    9243\n",
       "2005    4661\n",
       "2011    2684\n",
       "2008    2456\n",
       "2019    1902\n",
       "        ... \n",
       "1960      13\n",
       "1961      11\n",
       "1953      10\n",
       "1959       7\n",
       "1958       6\n",
       "Name: fyDeclared, Length: 69, dtype: int64"
      ]
     },
     "execution_count": 23,
     "metadata": {},
     "output_type": "execute_result"
    }
   ],
   "source": [
    "df['fyDeclared'].value_counts()"
   ]
  },
  {
   "cell_type": "code",
   "execution_count": 24,
   "metadata": {},
   "outputs": [
    {
     "data": {
      "text/plain": [
       "Severe Storm(s)     16957\n",
       "Hurricane           11890\n",
       "Flood               10389\n",
       "Biological           7611\n",
       "Snow                 3659\n",
       "Fire                 3488\n",
       "Severe Ice Storm     1990\n",
       "Tornado              1464\n",
       "Drought              1292\n",
       "Coastal Storm         570\n",
       "Freezing              301\n",
       "Other                 297\n",
       "Earthquake            226\n",
       "Typhoon               130\n",
       "Volcano                51\n",
       "Fishing Losses         42\n",
       "Mud/Landslide          31\n",
       "Dam/Levee Break        13\n",
       "Tsunami                 9\n",
       "Chemical                9\n",
       "Toxic Substances        9\n",
       "Human Cause             7\n",
       "Terrorist               5\n",
       "Name: incidentType, dtype: int64"
      ]
     },
     "execution_count": 24,
     "metadata": {},
     "output_type": "execute_result"
    }
   ],
   "source": [
    "df['incidentType'].value_counts()"
   ]
  },
  {
   "cell_type": "code",
   "execution_count": 25,
   "metadata": {
    "scrolled": false
   },
   "outputs": [
    {
     "data": {
      "text/plain": [
       "COVID-19 PANDEMIC                                3928\n",
       "SEVERE STORMS AND FLOODING                       3810\n",
       "COVID-19                                         3683\n",
       "SEVERE STORMS & FLOODING                         3387\n",
       "HURRICANE KATRINA EVACUATION                     2602\n",
       "                                                 ... \n",
       "PALMER FIRE                                         1\n",
       "TAYLOR BRIDGE FIRE                                  1\n",
       "BUFFALO CREEK FIRE                                  1\n",
       "NORTH TRINITY FIRE                                  1\n",
       "EARTHQUAKE, SEISMIC WAVES & VOLCANIC ERUPTION       1\n",
       "Name: declarationTitle, Length: 2136, dtype: int64"
      ]
     },
     "execution_count": 25,
     "metadata": {},
     "output_type": "execute_result"
    }
   ],
   "source": [
    "df['declarationTitle'].value_counts()"
   ]
  },
  {
   "cell_type": "code",
   "execution_count": 26,
   "metadata": {},
   "outputs": [
    {
     "data": {
      "text/plain": [
       "COVID-19 PANDEMIC                                7611\n",
       "SEVERE STORMS AND FLOODING                       7197\n",
       "HURRICANE KATRINA EVACUATION                     2602\n",
       "SEVERE WINTER STORM                              1935\n",
       "SEVERE STORMS, TORNADOES, AND FLOODING           1849\n",
       "                                                 ... \n",
       "CAUGHLIN FIRE                                       1\n",
       "RICE FIRE                                           1\n",
       "MCCLAIN COUNTY FIRE                                 1\n",
       "HURRICANE, RAIN, WIND, HAIL & FLOODS                1\n",
       "EARTHQUAKE, SEISMIC WAVES & VOLCANIC ERUPTION       1\n",
       "Name: declarationTitle, Length: 2134, dtype: int64"
      ]
     },
     "execution_count": 26,
     "metadata": {},
     "output_type": "execute_result"
    }
   ],
   "source": [
    "# We can combine COVID into one category as it's listed as two different categories\n",
    "df['declarationTitle'].replace('COVID-19', 'COVID-19 PANDEMIC', inplace=True)\n",
    "df['declarationTitle'].replace('SEVERE STORMS & FLOODING', 'SEVERE STORMS AND FLOODING', inplace=True)\n",
    "df['declarationTitle'].value_counts()"
   ]
  },
  {
   "cell_type": "code",
   "execution_count": 27,
   "metadata": {},
   "outputs": [],
   "source": [
    "#df = df.set_index(\"declarationTitle\")\n",
    "#df= df.drop('COVID-19 PANDEMIC', axis=0)"
   ]
  },
  {
   "cell_type": "code",
   "execution_count": 28,
   "metadata": {},
   "outputs": [
    {
     "data": {
      "text/plain": [
       "0    50440\n",
       "1    10000\n",
       "Name: ihProgramDeclared, dtype: int64"
      ]
     },
     "execution_count": 28,
     "metadata": {},
     "output_type": "execute_result"
    }
   ],
   "source": [
    "df['ihProgramDeclared'].value_counts()"
   ]
  },
  {
   "cell_type": "code",
   "execution_count": 29,
   "metadata": {},
   "outputs": [
    {
     "data": {
      "text/plain": [
       "0    43253\n",
       "1    17187\n",
       "Name: iaProgramDeclared, dtype: int64"
      ]
     },
     "execution_count": 29,
     "metadata": {},
     "output_type": "execute_result"
    }
   ],
   "source": [
    "df['iaProgramDeclared'].value_counts()"
   ]
  },
  {
   "cell_type": "code",
   "execution_count": 30,
   "metadata": {},
   "outputs": [
    {
     "data": {
      "text/plain": [
       "1    56309\n",
       "0     4131\n",
       "Name: paProgramDeclared, dtype: int64"
      ]
     },
     "execution_count": 30,
     "metadata": {},
     "output_type": "execute_result"
    }
   ],
   "source": [
    "df['paProgramDeclared'].value_counts()"
   ]
  },
  {
   "cell_type": "code",
   "execution_count": 31,
   "metadata": {},
   "outputs": [
    {
     "data": {
      "text/plain": [
       "0    39029\n",
       "1    21411\n",
       "Name: hmProgramDeclared, dtype: int64"
      ]
     },
     "execution_count": 31,
     "metadata": {},
     "output_type": "execute_result"
    }
   ],
   "source": [
    "df['hmProgramDeclared'].value_counts()"
   ]
  },
  {
   "cell_type": "code",
   "execution_count": 32,
   "metadata": {
    "scrolled": true
   },
   "outputs": [
    {
     "data": {
      "text/plain": [
       "2020-01-20T19:00:00.000Z    7310\n",
       "2005-08-29T04:00:00.000Z    1959\n",
       "1993-03-13T05:00:00.000Z     771\n",
       "1996-01-06T05:00:00.000Z     415\n",
       "2005-11-27T05:00:00.000Z     380\n",
       "                            ... \n",
       "2003-10-22T00:15:00.000Z       1\n",
       "2020-09-05T04:00:00.000Z       1\n",
       "2016-06-23T04:00:00.000Z       1\n",
       "2009-07-25T05:00:00.000Z       1\n",
       "2002-06-08T19:40:00.000Z       1\n",
       "Name: incidentBeginDate, Length: 3364, dtype: int64"
      ]
     },
     "execution_count": 32,
     "metadata": {},
     "output_type": "execute_result"
    }
   ],
   "source": [
    "df['incidentBeginDate'].value_counts()"
   ]
  },
  {
   "cell_type": "code",
   "execution_count": 33,
   "metadata": {},
   "outputs": [],
   "source": [
    "df['incidentBeginDate'] = df['incidentBeginDate'].str.split('T').str[0]"
   ]
  },
  {
   "cell_type": "code",
   "execution_count": 34,
   "metadata": {},
   "outputs": [],
   "source": [
    "#df['incidentBeginDate'] = pd.to_datetime(df['incidentBeginDate'])"
   ]
  },
  {
   "cell_type": "code",
   "execution_count": 35,
   "metadata": {},
   "outputs": [],
   "source": [
    "#df['Begin Day of Week'] = df['incidentBeginDate'].dt.day_name()"
   ]
  },
  {
   "cell_type": "code",
   "execution_count": 36,
   "metadata": {},
   "outputs": [],
   "source": [
    "#df['Begin Incident Year'] = df['incidentBeginDate'].dt.year\n",
    "#df['Begin Incident Month'] = df['incidentBeginDate'].dt.month\n",
    "#df['Begin Incident Day'] = df['incidentBeginDate'].dt.day"
   ]
  },
  {
   "cell_type": "code",
   "execution_count": 37,
   "metadata": {},
   "outputs": [],
   "source": [
    "#df = df.drop(columns=['incidentBeginDate'], axis=1)\n",
    "#df.head()"
   ]
  },
  {
   "cell_type": "code",
   "execution_count": 38,
   "metadata": {
    "scrolled": true
   },
   "outputs": [
    {
     "data": {
      "text/plain": [
       "2005-10-01T12:55:00.000Z    2926\n",
       "1993-03-17T05:00:00.000Z     635\n",
       "1996-01-12T05:00:00.000Z     555\n",
       "2017-09-21T03:59:00.000Z     321\n",
       "2012-11-08T05:00:00.000Z     307\n",
       "                            ... \n",
       "2016-09-07T03:59:00.000Z       1\n",
       "1991-04-24T04:00:00.000Z       1\n",
       "1998-06-03T04:00:00.000Z       1\n",
       "1959-11-09T05:00:00.000Z       1\n",
       "1956-08-18T04:00:00.000Z       1\n",
       "Name: incidentEndDate, Length: 3174, dtype: int64"
      ]
     },
     "execution_count": 38,
     "metadata": {},
     "output_type": "execute_result"
    }
   ],
   "source": [
    "df['incidentEndDate'].value_counts()"
   ]
  },
  {
   "cell_type": "code",
   "execution_count": 39,
   "metadata": {},
   "outputs": [],
   "source": [
    "#df['incidentEndDate'] = df['incidentEndDate'].str.split('T').str[0]"
   ]
  },
  {
   "cell_type": "code",
   "execution_count": 40,
   "metadata": {},
   "outputs": [],
   "source": [
    "#df['incidentEndDate'] = pd.to_datetime(df['incidentEndDate'])"
   ]
  },
  {
   "cell_type": "code",
   "execution_count": 41,
   "metadata": {},
   "outputs": [],
   "source": [
    "#df['Incident End Day of Week'] = df['incidentEndDate'].dt.day_name()"
   ]
  },
  {
   "cell_type": "code",
   "execution_count": 42,
   "metadata": {},
   "outputs": [],
   "source": [
    "#df['Incident End Year'] = df['incidentEndDate'].dt.year\n",
    "#df['Incident End Month'] = df['incidentEndDate'].dt.month\n",
    "#df['Incident End Day'] = df['incidentEndDate'].dt.day"
   ]
  },
  {
   "cell_type": "code",
   "execution_count": 43,
   "metadata": {},
   "outputs": [
    {
     "data": {
      "text/html": [
       "<div>\n",
       "<style scoped>\n",
       "    .dataframe tbody tr th:only-of-type {\n",
       "        vertical-align: middle;\n",
       "    }\n",
       "\n",
       "    .dataframe tbody tr th {\n",
       "        vertical-align: top;\n",
       "    }\n",
       "\n",
       "    .dataframe thead th {\n",
       "        text-align: right;\n",
       "    }\n",
       "</style>\n",
       "<table border=\"1\" class=\"dataframe\">\n",
       "  <thead>\n",
       "    <tr style=\"text-align: right;\">\n",
       "      <th></th>\n",
       "      <th>femaDeclarationString</th>\n",
       "      <th>disasterNumber</th>\n",
       "      <th>state</th>\n",
       "      <th>declarationType</th>\n",
       "      <th>declarationDate</th>\n",
       "      <th>fyDeclared</th>\n",
       "      <th>incidentType</th>\n",
       "      <th>declarationTitle</th>\n",
       "      <th>ihProgramDeclared</th>\n",
       "      <th>iaProgramDeclared</th>\n",
       "      <th>paProgramDeclared</th>\n",
       "      <th>hmProgramDeclared</th>\n",
       "      <th>incidentBeginDate</th>\n",
       "      <th>incidentEndDate</th>\n",
       "      <th>disasterCloseoutDate</th>\n",
       "      <th>fipsStateCode</th>\n",
       "      <th>fipsCountyCode</th>\n",
       "      <th>placeCode</th>\n",
       "      <th>designatedArea</th>\n",
       "      <th>declarationRequestNumber</th>\n",
       "      <th>hash</th>\n",
       "      <th>lastRefresh</th>\n",
       "      <th>id</th>\n",
       "    </tr>\n",
       "  </thead>\n",
       "  <tbody>\n",
       "    <tr>\n",
       "      <td>0</td>\n",
       "      <td>DR-1-GA</td>\n",
       "      <td>1</td>\n",
       "      <td>GA</td>\n",
       "      <td>DR</td>\n",
       "      <td>1953-05-02</td>\n",
       "      <td>1953</td>\n",
       "      <td>Tornado</td>\n",
       "      <td>TORNADO</td>\n",
       "      <td>0</td>\n",
       "      <td>1</td>\n",
       "      <td>1</td>\n",
       "      <td>1</td>\n",
       "      <td>1953-05-02</td>\n",
       "      <td>1953-05-02T04:00:00.000Z</td>\n",
       "      <td>1954-06-01T04:00:00.000Z</td>\n",
       "      <td>13</td>\n",
       "      <td>0</td>\n",
       "      <td>0</td>\n",
       "      <td>Statewide</td>\n",
       "      <td>53013</td>\n",
       "      <td>2f28952448e0a666d367ca3f854c81ec</td>\n",
       "      <td>2020-10-05T14:21:20.694Z</td>\n",
       "      <td>5f7b2be031a8c6681cfb4342</td>\n",
       "    </tr>\n",
       "    <tr>\n",
       "      <td>1</td>\n",
       "      <td>DR-2-TX</td>\n",
       "      <td>2</td>\n",
       "      <td>TX</td>\n",
       "      <td>DR</td>\n",
       "      <td>1953-05-15</td>\n",
       "      <td>1953</td>\n",
       "      <td>Tornado</td>\n",
       "      <td>TORNADO &amp; HEAVY RAINFALL</td>\n",
       "      <td>0</td>\n",
       "      <td>1</td>\n",
       "      <td>1</td>\n",
       "      <td>1</td>\n",
       "      <td>1953-05-15</td>\n",
       "      <td>1953-05-15T04:00:00.000Z</td>\n",
       "      <td>1958-01-01T05:00:00.000Z</td>\n",
       "      <td>48</td>\n",
       "      <td>0</td>\n",
       "      <td>0</td>\n",
       "      <td>Statewide</td>\n",
       "      <td>53003</td>\n",
       "      <td>c5a1a4a1030d6730d9c562cdbe7c830f</td>\n",
       "      <td>2020-10-05T14:21:20.696Z</td>\n",
       "      <td>5f7b2be031a8c6681cfb4345</td>\n",
       "    </tr>\n",
       "    <tr>\n",
       "      <td>2</td>\n",
       "      <td>DR-5-MT</td>\n",
       "      <td>5</td>\n",
       "      <td>MT</td>\n",
       "      <td>DR</td>\n",
       "      <td>1953-06-06</td>\n",
       "      <td>1953</td>\n",
       "      <td>Flood</td>\n",
       "      <td>FLOODS</td>\n",
       "      <td>0</td>\n",
       "      <td>1</td>\n",
       "      <td>1</td>\n",
       "      <td>1</td>\n",
       "      <td>1953-06-06</td>\n",
       "      <td>1953-06-06T04:00:00.000Z</td>\n",
       "      <td>1955-12-01T05:00:00.000Z</td>\n",
       "      <td>30</td>\n",
       "      <td>0</td>\n",
       "      <td>0</td>\n",
       "      <td>Statewide</td>\n",
       "      <td>53006</td>\n",
       "      <td>59c5483387ca13c6a3c1bc692f4860e1</td>\n",
       "      <td>2020-10-05T14:21:20.698Z</td>\n",
       "      <td>5f7b2be031a8c6681cfb4348</td>\n",
       "    </tr>\n",
       "    <tr>\n",
       "      <td>3</td>\n",
       "      <td>DR-7-MA</td>\n",
       "      <td>7</td>\n",
       "      <td>MA</td>\n",
       "      <td>DR</td>\n",
       "      <td>1953-06-11</td>\n",
       "      <td>1953</td>\n",
       "      <td>Tornado</td>\n",
       "      <td>TORNADO</td>\n",
       "      <td>0</td>\n",
       "      <td>1</td>\n",
       "      <td>1</td>\n",
       "      <td>1</td>\n",
       "      <td>1953-06-11</td>\n",
       "      <td>1953-06-11T04:00:00.000Z</td>\n",
       "      <td>1956-06-01T04:00:00.000Z</td>\n",
       "      <td>25</td>\n",
       "      <td>0</td>\n",
       "      <td>0</td>\n",
       "      <td>Statewide</td>\n",
       "      <td>53009</td>\n",
       "      <td>6bab17e16984fc75f61a8445df3e95d9</td>\n",
       "      <td>2020-10-05T14:21:20.699Z</td>\n",
       "      <td>5f7b2be031a8c6681cfb434b</td>\n",
       "    </tr>\n",
       "    <tr>\n",
       "      <td>4</td>\n",
       "      <td>DR-8-IA</td>\n",
       "      <td>8</td>\n",
       "      <td>IA</td>\n",
       "      <td>DR</td>\n",
       "      <td>1953-06-11</td>\n",
       "      <td>1953</td>\n",
       "      <td>Flood</td>\n",
       "      <td>FLOOD</td>\n",
       "      <td>0</td>\n",
       "      <td>1</td>\n",
       "      <td>1</td>\n",
       "      <td>1</td>\n",
       "      <td>1953-06-11</td>\n",
       "      <td>1953-06-11T04:00:00.000Z</td>\n",
       "      <td>1955-11-01T05:00:00.000Z</td>\n",
       "      <td>19</td>\n",
       "      <td>0</td>\n",
       "      <td>0</td>\n",
       "      <td>Statewide</td>\n",
       "      <td>53008</td>\n",
       "      <td>e258e9dd25fac73939f59c8ffb5308f5</td>\n",
       "      <td>2020-10-05T14:21:20.700Z</td>\n",
       "      <td>5f7b2be031a8c6681cfb434e</td>\n",
       "    </tr>\n",
       "  </tbody>\n",
       "</table>\n",
       "</div>"
      ],
      "text/plain": [
       "  femaDeclarationString  ...                        id\n",
       "0               DR-1-GA  ...  5f7b2be031a8c6681cfb4342\n",
       "1               DR-2-TX  ...  5f7b2be031a8c6681cfb4345\n",
       "2               DR-5-MT  ...  5f7b2be031a8c6681cfb4348\n",
       "3               DR-7-MA  ...  5f7b2be031a8c6681cfb434b\n",
       "4               DR-8-IA  ...  5f7b2be031a8c6681cfb434e\n",
       "\n",
       "[5 rows x 23 columns]"
      ]
     },
     "execution_count": 43,
     "metadata": {},
     "output_type": "execute_result"
    }
   ],
   "source": [
    "#df = df.drop(columns=['incidentEndDate'], axis=1)\n",
    "df.head()"
   ]
  },
  {
   "cell_type": "code",
   "execution_count": 44,
   "metadata": {
    "scrolled": true
   },
   "outputs": [
    {
     "data": {
      "text/plain": [
       "2020-04-22T03:59:00.000Z    674\n",
       "2017-12-19T04:59:00.000Z    430\n",
       "1994-06-30T04:00:00.000Z    410\n",
       "1978-07-03T04:00:00.000Z    393\n",
       "2001-09-18T04:00:00.000Z    390\n",
       "                           ... \n",
       "1956-03-01T05:00:00.000Z      1\n",
       "2003-10-01T04:00:00.000Z      1\n",
       "2006-06-06T04:00:00.000Z      1\n",
       "2010-09-13T04:00:00.000Z      1\n",
       "2011-04-12T04:00:00.000Z      1\n",
       "Name: disasterCloseoutDate, Length: 1755, dtype: int64"
      ]
     },
     "execution_count": 44,
     "metadata": {},
     "output_type": "execute_result"
    }
   ],
   "source": [
    "df['disasterCloseoutDate'].value_counts()"
   ]
  },
  {
   "cell_type": "code",
   "execution_count": 45,
   "metadata": {},
   "outputs": [],
   "source": [
    "#df['disasterCloseoutDate'] = df['disasterCloseoutDate'].str.split('T').str[0]"
   ]
  },
  {
   "cell_type": "code",
   "execution_count": 46,
   "metadata": {},
   "outputs": [],
   "source": [
    "#df['disasterCloseoutDate'] = pd.to_datetime(df['disasterCloseoutDate'])"
   ]
  },
  {
   "cell_type": "code",
   "execution_count": 47,
   "metadata": {},
   "outputs": [],
   "source": [
    "#df['Disaster Close Day of Week'] = df['disasterCloseoutDate'].dt.day_name()"
   ]
  },
  {
   "cell_type": "code",
   "execution_count": 48,
   "metadata": {},
   "outputs": [],
   "source": [
    "#df['Disaster Close Year'] = df['disasterCloseoutDate'].dt.year\n",
    "#df['Disaster Close Month'] = df['disasterCloseoutDate'].dt.month\n",
    "#df['Disaster Close Day'] = df['disasterCloseoutDate'].dt.day"
   ]
  },
  {
   "cell_type": "code",
   "execution_count": 49,
   "metadata": {},
   "outputs": [
    {
     "data": {
      "text/html": [
       "<div>\n",
       "<style scoped>\n",
       "    .dataframe tbody tr th:only-of-type {\n",
       "        vertical-align: middle;\n",
       "    }\n",
       "\n",
       "    .dataframe tbody tr th {\n",
       "        vertical-align: top;\n",
       "    }\n",
       "\n",
       "    .dataframe thead th {\n",
       "        text-align: right;\n",
       "    }\n",
       "</style>\n",
       "<table border=\"1\" class=\"dataframe\">\n",
       "  <thead>\n",
       "    <tr style=\"text-align: right;\">\n",
       "      <th></th>\n",
       "      <th>femaDeclarationString</th>\n",
       "      <th>disasterNumber</th>\n",
       "      <th>state</th>\n",
       "      <th>declarationType</th>\n",
       "      <th>declarationDate</th>\n",
       "      <th>fyDeclared</th>\n",
       "      <th>incidentType</th>\n",
       "      <th>declarationTitle</th>\n",
       "      <th>ihProgramDeclared</th>\n",
       "      <th>iaProgramDeclared</th>\n",
       "      <th>paProgramDeclared</th>\n",
       "      <th>hmProgramDeclared</th>\n",
       "      <th>incidentBeginDate</th>\n",
       "      <th>incidentEndDate</th>\n",
       "      <th>disasterCloseoutDate</th>\n",
       "      <th>fipsStateCode</th>\n",
       "      <th>fipsCountyCode</th>\n",
       "      <th>placeCode</th>\n",
       "      <th>designatedArea</th>\n",
       "      <th>declarationRequestNumber</th>\n",
       "      <th>hash</th>\n",
       "      <th>lastRefresh</th>\n",
       "      <th>id</th>\n",
       "    </tr>\n",
       "  </thead>\n",
       "  <tbody>\n",
       "    <tr>\n",
       "      <td>0</td>\n",
       "      <td>DR-1-GA</td>\n",
       "      <td>1</td>\n",
       "      <td>GA</td>\n",
       "      <td>DR</td>\n",
       "      <td>1953-05-02</td>\n",
       "      <td>1953</td>\n",
       "      <td>Tornado</td>\n",
       "      <td>TORNADO</td>\n",
       "      <td>0</td>\n",
       "      <td>1</td>\n",
       "      <td>1</td>\n",
       "      <td>1</td>\n",
       "      <td>1953-05-02</td>\n",
       "      <td>1953-05-02T04:00:00.000Z</td>\n",
       "      <td>1954-06-01T04:00:00.000Z</td>\n",
       "      <td>13</td>\n",
       "      <td>0</td>\n",
       "      <td>0</td>\n",
       "      <td>Statewide</td>\n",
       "      <td>53013</td>\n",
       "      <td>2f28952448e0a666d367ca3f854c81ec</td>\n",
       "      <td>2020-10-05T14:21:20.694Z</td>\n",
       "      <td>5f7b2be031a8c6681cfb4342</td>\n",
       "    </tr>\n",
       "    <tr>\n",
       "      <td>1</td>\n",
       "      <td>DR-2-TX</td>\n",
       "      <td>2</td>\n",
       "      <td>TX</td>\n",
       "      <td>DR</td>\n",
       "      <td>1953-05-15</td>\n",
       "      <td>1953</td>\n",
       "      <td>Tornado</td>\n",
       "      <td>TORNADO &amp; HEAVY RAINFALL</td>\n",
       "      <td>0</td>\n",
       "      <td>1</td>\n",
       "      <td>1</td>\n",
       "      <td>1</td>\n",
       "      <td>1953-05-15</td>\n",
       "      <td>1953-05-15T04:00:00.000Z</td>\n",
       "      <td>1958-01-01T05:00:00.000Z</td>\n",
       "      <td>48</td>\n",
       "      <td>0</td>\n",
       "      <td>0</td>\n",
       "      <td>Statewide</td>\n",
       "      <td>53003</td>\n",
       "      <td>c5a1a4a1030d6730d9c562cdbe7c830f</td>\n",
       "      <td>2020-10-05T14:21:20.696Z</td>\n",
       "      <td>5f7b2be031a8c6681cfb4345</td>\n",
       "    </tr>\n",
       "    <tr>\n",
       "      <td>2</td>\n",
       "      <td>DR-5-MT</td>\n",
       "      <td>5</td>\n",
       "      <td>MT</td>\n",
       "      <td>DR</td>\n",
       "      <td>1953-06-06</td>\n",
       "      <td>1953</td>\n",
       "      <td>Flood</td>\n",
       "      <td>FLOODS</td>\n",
       "      <td>0</td>\n",
       "      <td>1</td>\n",
       "      <td>1</td>\n",
       "      <td>1</td>\n",
       "      <td>1953-06-06</td>\n",
       "      <td>1953-06-06T04:00:00.000Z</td>\n",
       "      <td>1955-12-01T05:00:00.000Z</td>\n",
       "      <td>30</td>\n",
       "      <td>0</td>\n",
       "      <td>0</td>\n",
       "      <td>Statewide</td>\n",
       "      <td>53006</td>\n",
       "      <td>59c5483387ca13c6a3c1bc692f4860e1</td>\n",
       "      <td>2020-10-05T14:21:20.698Z</td>\n",
       "      <td>5f7b2be031a8c6681cfb4348</td>\n",
       "    </tr>\n",
       "    <tr>\n",
       "      <td>3</td>\n",
       "      <td>DR-7-MA</td>\n",
       "      <td>7</td>\n",
       "      <td>MA</td>\n",
       "      <td>DR</td>\n",
       "      <td>1953-06-11</td>\n",
       "      <td>1953</td>\n",
       "      <td>Tornado</td>\n",
       "      <td>TORNADO</td>\n",
       "      <td>0</td>\n",
       "      <td>1</td>\n",
       "      <td>1</td>\n",
       "      <td>1</td>\n",
       "      <td>1953-06-11</td>\n",
       "      <td>1953-06-11T04:00:00.000Z</td>\n",
       "      <td>1956-06-01T04:00:00.000Z</td>\n",
       "      <td>25</td>\n",
       "      <td>0</td>\n",
       "      <td>0</td>\n",
       "      <td>Statewide</td>\n",
       "      <td>53009</td>\n",
       "      <td>6bab17e16984fc75f61a8445df3e95d9</td>\n",
       "      <td>2020-10-05T14:21:20.699Z</td>\n",
       "      <td>5f7b2be031a8c6681cfb434b</td>\n",
       "    </tr>\n",
       "    <tr>\n",
       "      <td>4</td>\n",
       "      <td>DR-8-IA</td>\n",
       "      <td>8</td>\n",
       "      <td>IA</td>\n",
       "      <td>DR</td>\n",
       "      <td>1953-06-11</td>\n",
       "      <td>1953</td>\n",
       "      <td>Flood</td>\n",
       "      <td>FLOOD</td>\n",
       "      <td>0</td>\n",
       "      <td>1</td>\n",
       "      <td>1</td>\n",
       "      <td>1</td>\n",
       "      <td>1953-06-11</td>\n",
       "      <td>1953-06-11T04:00:00.000Z</td>\n",
       "      <td>1955-11-01T05:00:00.000Z</td>\n",
       "      <td>19</td>\n",
       "      <td>0</td>\n",
       "      <td>0</td>\n",
       "      <td>Statewide</td>\n",
       "      <td>53008</td>\n",
       "      <td>e258e9dd25fac73939f59c8ffb5308f5</td>\n",
       "      <td>2020-10-05T14:21:20.700Z</td>\n",
       "      <td>5f7b2be031a8c6681cfb434e</td>\n",
       "    </tr>\n",
       "  </tbody>\n",
       "</table>\n",
       "</div>"
      ],
      "text/plain": [
       "  femaDeclarationString  ...                        id\n",
       "0               DR-1-GA  ...  5f7b2be031a8c6681cfb4342\n",
       "1               DR-2-TX  ...  5f7b2be031a8c6681cfb4345\n",
       "2               DR-5-MT  ...  5f7b2be031a8c6681cfb4348\n",
       "3               DR-7-MA  ...  5f7b2be031a8c6681cfb434b\n",
       "4               DR-8-IA  ...  5f7b2be031a8c6681cfb434e\n",
       "\n",
       "[5 rows x 23 columns]"
      ]
     },
     "execution_count": 49,
     "metadata": {},
     "output_type": "execute_result"
    }
   ],
   "source": [
    "#df = df.drop(columns=['disasterCloseoutDate'], axis=1)\n",
    "df.head()"
   ]
  },
  {
   "cell_type": "code",
   "execution_count": 50,
   "metadata": {},
   "outputs": [
    {
     "data": {
      "text/plain": [
       "48    4651\n",
       "29    2670\n",
       "51    2460\n",
       "21    2416\n",
       "40    2278\n",
       "13    2239\n",
       "22    2131\n",
       "12    2027\n",
       "37    1965\n",
       "72    1825\n",
       "19    1823\n",
       "28    1691\n",
       "20    1682\n",
       "1     1619\n",
       "5     1588\n",
       "47    1522\n",
       "27    1498\n",
       "18    1451\n",
       "6     1443\n",
       "31    1423\n",
       "36    1421\n",
       "38    1301\n",
       "39    1281\n",
       "17    1268\n",
       "46    1251\n",
       "42    1226\n",
       "54    1218\n",
       "23    1004\n",
       "55     891\n",
       "53     862\n",
       "45     855\n",
       "26     791\n",
       "8      642\n",
       "30     586\n",
       "34     567\n",
       "41     562\n",
       "35     495\n",
       "24     445\n",
       "25     389\n",
       "16     346\n",
       "4      323\n",
       "50     314\n",
       "33     294\n",
       "32     271\n",
       "2      247\n",
       "49     241\n",
       "9      228\n",
       "56     128\n",
       "44     102\n",
       "15      95\n",
       "78      79\n",
       "60      75\n",
       "69      62\n",
       "68      53\n",
       "10      52\n",
       "64      31\n",
       "11      22\n",
       "66      19\n",
       "70       1\n",
       "Name: fipsStateCode, dtype: int64"
      ]
     },
     "execution_count": 50,
     "metadata": {},
     "output_type": "execute_result"
    }
   ],
   "source": [
    "df['fipsStateCode'].value_counts()"
   ]
  },
  {
   "cell_type": "code",
   "execution_count": 51,
   "metadata": {},
   "outputs": [
    {
     "data": {
      "text/plain": [
       "0      1333\n",
       "3       994\n",
       "5       962\n",
       "7       949\n",
       "9       933\n",
       "       ... \n",
       "390       2\n",
       "230       1\n",
       "400       1\n",
       "80        1\n",
       "330       1\n",
       "Name: fipsCountyCode, Length: 345, dtype: int64"
      ]
     },
     "execution_count": 51,
     "metadata": {},
     "output_type": "execute_result"
    }
   ],
   "source": [
    "df['fipsCountyCode'].value_counts()"
   ]
  },
  {
   "cell_type": "code",
   "execution_count": 52,
   "metadata": {},
   "outputs": [
    {
     "data": {
      "text/plain": [
       "99005    937\n",
       "99009    917\n",
       "99001    913\n",
       "99007    896\n",
       "99015    885\n",
       "        ... \n",
       "72200      1\n",
       "99400      1\n",
       "99080      1\n",
       "56240      1\n",
       "48440      1\n",
       "Name: placeCode, Length: 1109, dtype: int64"
      ]
     },
     "execution_count": 52,
     "metadata": {},
     "output_type": "execute_result"
    }
   ],
   "source": [
    "df['placeCode'].value_counts()"
   ]
  },
  {
   "cell_type": "code",
   "execution_count": 53,
   "metadata": {},
   "outputs": [
    {
     "data": {
      "text/plain": [
       "Washington (County)             517\n",
       "Jefferson (County)              471\n",
       "Statewide                       465\n",
       "Jackson (County)                455\n",
       "Franklin (County)               445\n",
       "                               ... \n",
       "T13 R10 WELS                      1\n",
       "Gila Bend Indian Reservation      1\n",
       "T11 R12 WELS                      1\n",
       "Sleetmute (ANV/ANVSA)             1\n",
       "T15 R08 WELS                      1\n",
       "Name: designatedArea, Length: 2769, dtype: int64"
      ]
     },
     "execution_count": 53,
     "metadata": {},
     "output_type": "execute_result"
    }
   ],
   "source": [
    "df['designatedArea'].value_counts()"
   ]
  },
  {
   "cell_type": "code",
   "execution_count": 54,
   "metadata": {
    "scrolled": true
   },
   "outputs": [
    {
     "data": {
      "text/plain": [
       "20130    437\n",
       "98062    257\n",
       "20061    257\n",
       "20080    257\n",
       "5137     255\n",
       "        ... \n",
       "8115       1\n",
       "6066       1\n",
       "6034       1\n",
       "98175      1\n",
       "2049       1\n",
       "Name: declarationRequestNumber, Length: 4497, dtype: int64"
      ]
     },
     "execution_count": 54,
     "metadata": {},
     "output_type": "execute_result"
    }
   ],
   "source": [
    "df['declarationRequestNumber'].value_counts()"
   ]
  },
  {
   "cell_type": "code",
   "execution_count": 55,
   "metadata": {
    "scrolled": false
   },
   "outputs": [
    {
     "data": {
      "text/plain": [
       "ef01abe91444626b60575fef7bd7e56a    1\n",
       "a668b44353feca21fa533d72b904c164    1\n",
       "6215a02a7fd40d44032c899732790898    1\n",
       "83ffaa2adca1b3ef5c8fa5be31cba1b5    1\n",
       "7dafa6e79ec294f82b605834907155a0    1\n",
       "                                   ..\n",
       "78be0b2f411e8dae0eb48d35e8a6b5da    1\n",
       "9f115492c90390162fd08787aadf3115    1\n",
       "aa6a17c5f53bf5092d93efda5c52383b    1\n",
       "2a17efd8a68a4b64b1a095c407b21ed5    1\n",
       "0430f2ffacabb2e698d8a44b3c302f05    1\n",
       "Name: hash, Length: 60440, dtype: int64"
      ]
     },
     "execution_count": 55,
     "metadata": {},
     "output_type": "execute_result"
    }
   ],
   "source": [
    "df['hash'].value_counts()"
   ]
  },
  {
   "cell_type": "code",
   "execution_count": 56,
   "metadata": {},
   "outputs": [
    {
     "data": {
      "text/html": [
       "<div>\n",
       "<style scoped>\n",
       "    .dataframe tbody tr th:only-of-type {\n",
       "        vertical-align: middle;\n",
       "    }\n",
       "\n",
       "    .dataframe tbody tr th {\n",
       "        vertical-align: top;\n",
       "    }\n",
       "\n",
       "    .dataframe thead th {\n",
       "        text-align: right;\n",
       "    }\n",
       "</style>\n",
       "<table border=\"1\" class=\"dataframe\">\n",
       "  <thead>\n",
       "    <tr style=\"text-align: right;\">\n",
       "      <th></th>\n",
       "      <th>femaDeclarationString</th>\n",
       "      <th>disasterNumber</th>\n",
       "      <th>state</th>\n",
       "      <th>declarationType</th>\n",
       "      <th>declarationDate</th>\n",
       "      <th>fyDeclared</th>\n",
       "      <th>incidentType</th>\n",
       "      <th>declarationTitle</th>\n",
       "      <th>ihProgramDeclared</th>\n",
       "      <th>iaProgramDeclared</th>\n",
       "      <th>paProgramDeclared</th>\n",
       "      <th>hmProgramDeclared</th>\n",
       "      <th>incidentBeginDate</th>\n",
       "      <th>incidentEndDate</th>\n",
       "      <th>disasterCloseoutDate</th>\n",
       "      <th>fipsStateCode</th>\n",
       "      <th>fipsCountyCode</th>\n",
       "      <th>placeCode</th>\n",
       "      <th>designatedArea</th>\n",
       "      <th>declarationRequestNumber</th>\n",
       "      <th>lastRefresh</th>\n",
       "      <th>id</th>\n",
       "    </tr>\n",
       "  </thead>\n",
       "  <tbody>\n",
       "    <tr>\n",
       "      <td>0</td>\n",
       "      <td>DR-1-GA</td>\n",
       "      <td>1</td>\n",
       "      <td>GA</td>\n",
       "      <td>DR</td>\n",
       "      <td>1953-05-02</td>\n",
       "      <td>1953</td>\n",
       "      <td>Tornado</td>\n",
       "      <td>TORNADO</td>\n",
       "      <td>0</td>\n",
       "      <td>1</td>\n",
       "      <td>1</td>\n",
       "      <td>1</td>\n",
       "      <td>1953-05-02</td>\n",
       "      <td>1953-05-02T04:00:00.000Z</td>\n",
       "      <td>1954-06-01T04:00:00.000Z</td>\n",
       "      <td>13</td>\n",
       "      <td>0</td>\n",
       "      <td>0</td>\n",
       "      <td>Statewide</td>\n",
       "      <td>53013</td>\n",
       "      <td>2020-10-05T14:21:20.694Z</td>\n",
       "      <td>5f7b2be031a8c6681cfb4342</td>\n",
       "    </tr>\n",
       "    <tr>\n",
       "      <td>1</td>\n",
       "      <td>DR-2-TX</td>\n",
       "      <td>2</td>\n",
       "      <td>TX</td>\n",
       "      <td>DR</td>\n",
       "      <td>1953-05-15</td>\n",
       "      <td>1953</td>\n",
       "      <td>Tornado</td>\n",
       "      <td>TORNADO &amp; HEAVY RAINFALL</td>\n",
       "      <td>0</td>\n",
       "      <td>1</td>\n",
       "      <td>1</td>\n",
       "      <td>1</td>\n",
       "      <td>1953-05-15</td>\n",
       "      <td>1953-05-15T04:00:00.000Z</td>\n",
       "      <td>1958-01-01T05:00:00.000Z</td>\n",
       "      <td>48</td>\n",
       "      <td>0</td>\n",
       "      <td>0</td>\n",
       "      <td>Statewide</td>\n",
       "      <td>53003</td>\n",
       "      <td>2020-10-05T14:21:20.696Z</td>\n",
       "      <td>5f7b2be031a8c6681cfb4345</td>\n",
       "    </tr>\n",
       "    <tr>\n",
       "      <td>2</td>\n",
       "      <td>DR-5-MT</td>\n",
       "      <td>5</td>\n",
       "      <td>MT</td>\n",
       "      <td>DR</td>\n",
       "      <td>1953-06-06</td>\n",
       "      <td>1953</td>\n",
       "      <td>Flood</td>\n",
       "      <td>FLOODS</td>\n",
       "      <td>0</td>\n",
       "      <td>1</td>\n",
       "      <td>1</td>\n",
       "      <td>1</td>\n",
       "      <td>1953-06-06</td>\n",
       "      <td>1953-06-06T04:00:00.000Z</td>\n",
       "      <td>1955-12-01T05:00:00.000Z</td>\n",
       "      <td>30</td>\n",
       "      <td>0</td>\n",
       "      <td>0</td>\n",
       "      <td>Statewide</td>\n",
       "      <td>53006</td>\n",
       "      <td>2020-10-05T14:21:20.698Z</td>\n",
       "      <td>5f7b2be031a8c6681cfb4348</td>\n",
       "    </tr>\n",
       "    <tr>\n",
       "      <td>3</td>\n",
       "      <td>DR-7-MA</td>\n",
       "      <td>7</td>\n",
       "      <td>MA</td>\n",
       "      <td>DR</td>\n",
       "      <td>1953-06-11</td>\n",
       "      <td>1953</td>\n",
       "      <td>Tornado</td>\n",
       "      <td>TORNADO</td>\n",
       "      <td>0</td>\n",
       "      <td>1</td>\n",
       "      <td>1</td>\n",
       "      <td>1</td>\n",
       "      <td>1953-06-11</td>\n",
       "      <td>1953-06-11T04:00:00.000Z</td>\n",
       "      <td>1956-06-01T04:00:00.000Z</td>\n",
       "      <td>25</td>\n",
       "      <td>0</td>\n",
       "      <td>0</td>\n",
       "      <td>Statewide</td>\n",
       "      <td>53009</td>\n",
       "      <td>2020-10-05T14:21:20.699Z</td>\n",
       "      <td>5f7b2be031a8c6681cfb434b</td>\n",
       "    </tr>\n",
       "    <tr>\n",
       "      <td>4</td>\n",
       "      <td>DR-8-IA</td>\n",
       "      <td>8</td>\n",
       "      <td>IA</td>\n",
       "      <td>DR</td>\n",
       "      <td>1953-06-11</td>\n",
       "      <td>1953</td>\n",
       "      <td>Flood</td>\n",
       "      <td>FLOOD</td>\n",
       "      <td>0</td>\n",
       "      <td>1</td>\n",
       "      <td>1</td>\n",
       "      <td>1</td>\n",
       "      <td>1953-06-11</td>\n",
       "      <td>1953-06-11T04:00:00.000Z</td>\n",
       "      <td>1955-11-01T05:00:00.000Z</td>\n",
       "      <td>19</td>\n",
       "      <td>0</td>\n",
       "      <td>0</td>\n",
       "      <td>Statewide</td>\n",
       "      <td>53008</td>\n",
       "      <td>2020-10-05T14:21:20.700Z</td>\n",
       "      <td>5f7b2be031a8c6681cfb434e</td>\n",
       "    </tr>\n",
       "    <tr>\n",
       "      <td>...</td>\n",
       "      <td>...</td>\n",
       "      <td>...</td>\n",
       "      <td>...</td>\n",
       "      <td>...</td>\n",
       "      <td>...</td>\n",
       "      <td>...</td>\n",
       "      <td>...</td>\n",
       "      <td>...</td>\n",
       "      <td>...</td>\n",
       "      <td>...</td>\n",
       "      <td>...</td>\n",
       "      <td>...</td>\n",
       "      <td>...</td>\n",
       "      <td>...</td>\n",
       "      <td>...</td>\n",
       "      <td>...</td>\n",
       "      <td>...</td>\n",
       "      <td>...</td>\n",
       "      <td>...</td>\n",
       "      <td>...</td>\n",
       "      <td>...</td>\n",
       "      <td>...</td>\n",
       "    </tr>\n",
       "    <tr>\n",
       "      <td>60435</td>\n",
       "      <td>FM-5382-NV</td>\n",
       "      <td>5382</td>\n",
       "      <td>NV</td>\n",
       "      <td>FM</td>\n",
       "      <td>2020-11-18</td>\n",
       "      <td>2021</td>\n",
       "      <td>Fire</td>\n",
       "      <td>PINEHAVEN FIRE</td>\n",
       "      <td>0</td>\n",
       "      <td>0</td>\n",
       "      <td>1</td>\n",
       "      <td>1</td>\n",
       "      <td>2020-11-17</td>\n",
       "      <td>NaN</td>\n",
       "      <td>NaN</td>\n",
       "      <td>32</td>\n",
       "      <td>31</td>\n",
       "      <td>99031</td>\n",
       "      <td>Washoe (County)</td>\n",
       "      <td>20323</td>\n",
       "      <td>2020-11-19T16:42:40.333Z</td>\n",
       "      <td>5fb6a0800eb5d36238b4d770</td>\n",
       "    </tr>\n",
       "    <tr>\n",
       "      <td>60436</td>\n",
       "      <td>DR-4569-CA</td>\n",
       "      <td>4569</td>\n",
       "      <td>CA</td>\n",
       "      <td>DR</td>\n",
       "      <td>2020-10-17</td>\n",
       "      <td>2021</td>\n",
       "      <td>Fire</td>\n",
       "      <td>WILDFIRES</td>\n",
       "      <td>0</td>\n",
       "      <td>0</td>\n",
       "      <td>1</td>\n",
       "      <td>1</td>\n",
       "      <td>2020-09-04</td>\n",
       "      <td>2020-11-18T04:00:00.000Z</td>\n",
       "      <td>NaN</td>\n",
       "      <td>6</td>\n",
       "      <td>15</td>\n",
       "      <td>99015</td>\n",
       "      <td>Del Norte (County)</td>\n",
       "      <td>20302</td>\n",
       "      <td>2020-11-25T20:42:27.057Z</td>\n",
       "      <td>5fbec1b30eb5d36238660eac</td>\n",
       "    </tr>\n",
       "    <tr>\n",
       "      <td>60437</td>\n",
       "      <td>DR-4569-CA</td>\n",
       "      <td>4569</td>\n",
       "      <td>CA</td>\n",
       "      <td>DR</td>\n",
       "      <td>2020-10-17</td>\n",
       "      <td>2021</td>\n",
       "      <td>Fire</td>\n",
       "      <td>WILDFIRES</td>\n",
       "      <td>0</td>\n",
       "      <td>0</td>\n",
       "      <td>1</td>\n",
       "      <td>1</td>\n",
       "      <td>2020-09-04</td>\n",
       "      <td>2020-11-18T04:00:00.000Z</td>\n",
       "      <td>NaN</td>\n",
       "      <td>6</td>\n",
       "      <td>115</td>\n",
       "      <td>99115</td>\n",
       "      <td>Yuba (County)</td>\n",
       "      <td>20302</td>\n",
       "      <td>2020-11-25T20:42:27.058Z</td>\n",
       "      <td>5fbec1b30eb5d36238660ebd</td>\n",
       "    </tr>\n",
       "    <tr>\n",
       "      <td>60438</td>\n",
       "      <td>DR-4566-DE</td>\n",
       "      <td>4566</td>\n",
       "      <td>DE</td>\n",
       "      <td>DR</td>\n",
       "      <td>2020-10-02</td>\n",
       "      <td>2021</td>\n",
       "      <td>Hurricane</td>\n",
       "      <td>TROPICAL STORM ISAIAS</td>\n",
       "      <td>0</td>\n",
       "      <td>0</td>\n",
       "      <td>1</td>\n",
       "      <td>1</td>\n",
       "      <td>2020-08-05</td>\n",
       "      <td>2020-08-08T03:59:00.000Z</td>\n",
       "      <td>NaN</td>\n",
       "      <td>10</td>\n",
       "      <td>3</td>\n",
       "      <td>99003</td>\n",
       "      <td>New Castle (County)</td>\n",
       "      <td>20253</td>\n",
       "      <td>2020-12-02T21:41:43.367Z</td>\n",
       "      <td>5fc80a170eb5d36238431c13</td>\n",
       "    </tr>\n",
       "    <tr>\n",
       "      <td>60439</td>\n",
       "      <td>FM-5383-CA</td>\n",
       "      <td>5383</td>\n",
       "      <td>CA</td>\n",
       "      <td>FM</td>\n",
       "      <td>2020-12-03</td>\n",
       "      <td>2021</td>\n",
       "      <td>Fire</td>\n",
       "      <td>BOND FIRE</td>\n",
       "      <td>0</td>\n",
       "      <td>0</td>\n",
       "      <td>1</td>\n",
       "      <td>1</td>\n",
       "      <td>2020-12-03</td>\n",
       "      <td>NaN</td>\n",
       "      <td>NaN</td>\n",
       "      <td>6</td>\n",
       "      <td>59</td>\n",
       "      <td>99059</td>\n",
       "      <td>Orange (County)</td>\n",
       "      <td>20326</td>\n",
       "      <td>2020-12-04T16:21:54.945Z</td>\n",
       "      <td>5fca62220eb5d36238b29901</td>\n",
       "    </tr>\n",
       "  </tbody>\n",
       "</table>\n",
       "<p>60440 rows × 22 columns</p>\n",
       "</div>"
      ],
      "text/plain": [
       "      femaDeclarationString  ...                        id\n",
       "0                   DR-1-GA  ...  5f7b2be031a8c6681cfb4342\n",
       "1                   DR-2-TX  ...  5f7b2be031a8c6681cfb4345\n",
       "2                   DR-5-MT  ...  5f7b2be031a8c6681cfb4348\n",
       "3                   DR-7-MA  ...  5f7b2be031a8c6681cfb434b\n",
       "4                   DR-8-IA  ...  5f7b2be031a8c6681cfb434e\n",
       "...                     ...  ...                       ...\n",
       "60435            FM-5382-NV  ...  5fb6a0800eb5d36238b4d770\n",
       "60436            DR-4569-CA  ...  5fbec1b30eb5d36238660eac\n",
       "60437            DR-4569-CA  ...  5fbec1b30eb5d36238660ebd\n",
       "60438            DR-4566-DE  ...  5fc80a170eb5d36238431c13\n",
       "60439            FM-5383-CA  ...  5fca62220eb5d36238b29901\n",
       "\n",
       "[60440 rows x 22 columns]"
      ]
     },
     "execution_count": 56,
     "metadata": {},
     "output_type": "execute_result"
    }
   ],
   "source": [
    "df = df.drop(columns=['hash'], axis=1)\n",
    "df"
   ]
  },
  {
   "cell_type": "code",
   "execution_count": 57,
   "metadata": {
    "scrolled": true
   },
   "outputs": [
    {
     "data": {
      "text/plain": [
       "2020-10-05T14:21:20.705Z    6\n",
       "2020-10-05T14:21:20.707Z    6\n",
       "2020-10-05T14:21:20.703Z    5\n",
       "2020-10-05T14:21:20.706Z    5\n",
       "2020-10-05T14:21:20.708Z    5\n",
       "                           ..\n",
       "2020-10-05T14:22:31.131Z    1\n",
       "2020-10-05T14:22:25.414Z    1\n",
       "2020-10-05T14:21:55.545Z    1\n",
       "2020-10-05T14:22:12.354Z    1\n",
       "2020-10-05T14:22:35.293Z    1\n",
       "Name: lastRefresh, Length: 51842, dtype: int64"
      ]
     },
     "execution_count": 57,
     "metadata": {},
     "output_type": "execute_result"
    }
   ],
   "source": [
    "# This column is just showing us when the data was last refreshed so we can drop\n",
    "df['lastRefresh'].value_counts()"
   ]
  },
  {
   "cell_type": "code",
   "execution_count": 58,
   "metadata": {},
   "outputs": [
    {
     "data": {
      "text/html": [
       "<div>\n",
       "<style scoped>\n",
       "    .dataframe tbody tr th:only-of-type {\n",
       "        vertical-align: middle;\n",
       "    }\n",
       "\n",
       "    .dataframe tbody tr th {\n",
       "        vertical-align: top;\n",
       "    }\n",
       "\n",
       "    .dataframe thead th {\n",
       "        text-align: right;\n",
       "    }\n",
       "</style>\n",
       "<table border=\"1\" class=\"dataframe\">\n",
       "  <thead>\n",
       "    <tr style=\"text-align: right;\">\n",
       "      <th></th>\n",
       "      <th>femaDeclarationString</th>\n",
       "      <th>disasterNumber</th>\n",
       "      <th>state</th>\n",
       "      <th>declarationType</th>\n",
       "      <th>declarationDate</th>\n",
       "      <th>fyDeclared</th>\n",
       "      <th>incidentType</th>\n",
       "      <th>declarationTitle</th>\n",
       "      <th>ihProgramDeclared</th>\n",
       "      <th>iaProgramDeclared</th>\n",
       "      <th>paProgramDeclared</th>\n",
       "      <th>hmProgramDeclared</th>\n",
       "      <th>incidentBeginDate</th>\n",
       "      <th>incidentEndDate</th>\n",
       "      <th>disasterCloseoutDate</th>\n",
       "      <th>fipsStateCode</th>\n",
       "      <th>fipsCountyCode</th>\n",
       "      <th>placeCode</th>\n",
       "      <th>designatedArea</th>\n",
       "      <th>declarationRequestNumber</th>\n",
       "      <th>id</th>\n",
       "    </tr>\n",
       "  </thead>\n",
       "  <tbody>\n",
       "    <tr>\n",
       "      <td>0</td>\n",
       "      <td>DR-1-GA</td>\n",
       "      <td>1</td>\n",
       "      <td>GA</td>\n",
       "      <td>DR</td>\n",
       "      <td>1953-05-02</td>\n",
       "      <td>1953</td>\n",
       "      <td>Tornado</td>\n",
       "      <td>TORNADO</td>\n",
       "      <td>0</td>\n",
       "      <td>1</td>\n",
       "      <td>1</td>\n",
       "      <td>1</td>\n",
       "      <td>1953-05-02</td>\n",
       "      <td>1953-05-02T04:00:00.000Z</td>\n",
       "      <td>1954-06-01T04:00:00.000Z</td>\n",
       "      <td>13</td>\n",
       "      <td>0</td>\n",
       "      <td>0</td>\n",
       "      <td>Statewide</td>\n",
       "      <td>53013</td>\n",
       "      <td>5f7b2be031a8c6681cfb4342</td>\n",
       "    </tr>\n",
       "    <tr>\n",
       "      <td>1</td>\n",
       "      <td>DR-2-TX</td>\n",
       "      <td>2</td>\n",
       "      <td>TX</td>\n",
       "      <td>DR</td>\n",
       "      <td>1953-05-15</td>\n",
       "      <td>1953</td>\n",
       "      <td>Tornado</td>\n",
       "      <td>TORNADO &amp; HEAVY RAINFALL</td>\n",
       "      <td>0</td>\n",
       "      <td>1</td>\n",
       "      <td>1</td>\n",
       "      <td>1</td>\n",
       "      <td>1953-05-15</td>\n",
       "      <td>1953-05-15T04:00:00.000Z</td>\n",
       "      <td>1958-01-01T05:00:00.000Z</td>\n",
       "      <td>48</td>\n",
       "      <td>0</td>\n",
       "      <td>0</td>\n",
       "      <td>Statewide</td>\n",
       "      <td>53003</td>\n",
       "      <td>5f7b2be031a8c6681cfb4345</td>\n",
       "    </tr>\n",
       "    <tr>\n",
       "      <td>2</td>\n",
       "      <td>DR-5-MT</td>\n",
       "      <td>5</td>\n",
       "      <td>MT</td>\n",
       "      <td>DR</td>\n",
       "      <td>1953-06-06</td>\n",
       "      <td>1953</td>\n",
       "      <td>Flood</td>\n",
       "      <td>FLOODS</td>\n",
       "      <td>0</td>\n",
       "      <td>1</td>\n",
       "      <td>1</td>\n",
       "      <td>1</td>\n",
       "      <td>1953-06-06</td>\n",
       "      <td>1953-06-06T04:00:00.000Z</td>\n",
       "      <td>1955-12-01T05:00:00.000Z</td>\n",
       "      <td>30</td>\n",
       "      <td>0</td>\n",
       "      <td>0</td>\n",
       "      <td>Statewide</td>\n",
       "      <td>53006</td>\n",
       "      <td>5f7b2be031a8c6681cfb4348</td>\n",
       "    </tr>\n",
       "    <tr>\n",
       "      <td>3</td>\n",
       "      <td>DR-7-MA</td>\n",
       "      <td>7</td>\n",
       "      <td>MA</td>\n",
       "      <td>DR</td>\n",
       "      <td>1953-06-11</td>\n",
       "      <td>1953</td>\n",
       "      <td>Tornado</td>\n",
       "      <td>TORNADO</td>\n",
       "      <td>0</td>\n",
       "      <td>1</td>\n",
       "      <td>1</td>\n",
       "      <td>1</td>\n",
       "      <td>1953-06-11</td>\n",
       "      <td>1953-06-11T04:00:00.000Z</td>\n",
       "      <td>1956-06-01T04:00:00.000Z</td>\n",
       "      <td>25</td>\n",
       "      <td>0</td>\n",
       "      <td>0</td>\n",
       "      <td>Statewide</td>\n",
       "      <td>53009</td>\n",
       "      <td>5f7b2be031a8c6681cfb434b</td>\n",
       "    </tr>\n",
       "    <tr>\n",
       "      <td>4</td>\n",
       "      <td>DR-8-IA</td>\n",
       "      <td>8</td>\n",
       "      <td>IA</td>\n",
       "      <td>DR</td>\n",
       "      <td>1953-06-11</td>\n",
       "      <td>1953</td>\n",
       "      <td>Flood</td>\n",
       "      <td>FLOOD</td>\n",
       "      <td>0</td>\n",
       "      <td>1</td>\n",
       "      <td>1</td>\n",
       "      <td>1</td>\n",
       "      <td>1953-06-11</td>\n",
       "      <td>1953-06-11T04:00:00.000Z</td>\n",
       "      <td>1955-11-01T05:00:00.000Z</td>\n",
       "      <td>19</td>\n",
       "      <td>0</td>\n",
       "      <td>0</td>\n",
       "      <td>Statewide</td>\n",
       "      <td>53008</td>\n",
       "      <td>5f7b2be031a8c6681cfb434e</td>\n",
       "    </tr>\n",
       "    <tr>\n",
       "      <td>...</td>\n",
       "      <td>...</td>\n",
       "      <td>...</td>\n",
       "      <td>...</td>\n",
       "      <td>...</td>\n",
       "      <td>...</td>\n",
       "      <td>...</td>\n",
       "      <td>...</td>\n",
       "      <td>...</td>\n",
       "      <td>...</td>\n",
       "      <td>...</td>\n",
       "      <td>...</td>\n",
       "      <td>...</td>\n",
       "      <td>...</td>\n",
       "      <td>...</td>\n",
       "      <td>...</td>\n",
       "      <td>...</td>\n",
       "      <td>...</td>\n",
       "      <td>...</td>\n",
       "      <td>...</td>\n",
       "      <td>...</td>\n",
       "      <td>...</td>\n",
       "    </tr>\n",
       "    <tr>\n",
       "      <td>60435</td>\n",
       "      <td>FM-5382-NV</td>\n",
       "      <td>5382</td>\n",
       "      <td>NV</td>\n",
       "      <td>FM</td>\n",
       "      <td>2020-11-18</td>\n",
       "      <td>2021</td>\n",
       "      <td>Fire</td>\n",
       "      <td>PINEHAVEN FIRE</td>\n",
       "      <td>0</td>\n",
       "      <td>0</td>\n",
       "      <td>1</td>\n",
       "      <td>1</td>\n",
       "      <td>2020-11-17</td>\n",
       "      <td>NaN</td>\n",
       "      <td>NaN</td>\n",
       "      <td>32</td>\n",
       "      <td>31</td>\n",
       "      <td>99031</td>\n",
       "      <td>Washoe (County)</td>\n",
       "      <td>20323</td>\n",
       "      <td>5fb6a0800eb5d36238b4d770</td>\n",
       "    </tr>\n",
       "    <tr>\n",
       "      <td>60436</td>\n",
       "      <td>DR-4569-CA</td>\n",
       "      <td>4569</td>\n",
       "      <td>CA</td>\n",
       "      <td>DR</td>\n",
       "      <td>2020-10-17</td>\n",
       "      <td>2021</td>\n",
       "      <td>Fire</td>\n",
       "      <td>WILDFIRES</td>\n",
       "      <td>0</td>\n",
       "      <td>0</td>\n",
       "      <td>1</td>\n",
       "      <td>1</td>\n",
       "      <td>2020-09-04</td>\n",
       "      <td>2020-11-18T04:00:00.000Z</td>\n",
       "      <td>NaN</td>\n",
       "      <td>6</td>\n",
       "      <td>15</td>\n",
       "      <td>99015</td>\n",
       "      <td>Del Norte (County)</td>\n",
       "      <td>20302</td>\n",
       "      <td>5fbec1b30eb5d36238660eac</td>\n",
       "    </tr>\n",
       "    <tr>\n",
       "      <td>60437</td>\n",
       "      <td>DR-4569-CA</td>\n",
       "      <td>4569</td>\n",
       "      <td>CA</td>\n",
       "      <td>DR</td>\n",
       "      <td>2020-10-17</td>\n",
       "      <td>2021</td>\n",
       "      <td>Fire</td>\n",
       "      <td>WILDFIRES</td>\n",
       "      <td>0</td>\n",
       "      <td>0</td>\n",
       "      <td>1</td>\n",
       "      <td>1</td>\n",
       "      <td>2020-09-04</td>\n",
       "      <td>2020-11-18T04:00:00.000Z</td>\n",
       "      <td>NaN</td>\n",
       "      <td>6</td>\n",
       "      <td>115</td>\n",
       "      <td>99115</td>\n",
       "      <td>Yuba (County)</td>\n",
       "      <td>20302</td>\n",
       "      <td>5fbec1b30eb5d36238660ebd</td>\n",
       "    </tr>\n",
       "    <tr>\n",
       "      <td>60438</td>\n",
       "      <td>DR-4566-DE</td>\n",
       "      <td>4566</td>\n",
       "      <td>DE</td>\n",
       "      <td>DR</td>\n",
       "      <td>2020-10-02</td>\n",
       "      <td>2021</td>\n",
       "      <td>Hurricane</td>\n",
       "      <td>TROPICAL STORM ISAIAS</td>\n",
       "      <td>0</td>\n",
       "      <td>0</td>\n",
       "      <td>1</td>\n",
       "      <td>1</td>\n",
       "      <td>2020-08-05</td>\n",
       "      <td>2020-08-08T03:59:00.000Z</td>\n",
       "      <td>NaN</td>\n",
       "      <td>10</td>\n",
       "      <td>3</td>\n",
       "      <td>99003</td>\n",
       "      <td>New Castle (County)</td>\n",
       "      <td>20253</td>\n",
       "      <td>5fc80a170eb5d36238431c13</td>\n",
       "    </tr>\n",
       "    <tr>\n",
       "      <td>60439</td>\n",
       "      <td>FM-5383-CA</td>\n",
       "      <td>5383</td>\n",
       "      <td>CA</td>\n",
       "      <td>FM</td>\n",
       "      <td>2020-12-03</td>\n",
       "      <td>2021</td>\n",
       "      <td>Fire</td>\n",
       "      <td>BOND FIRE</td>\n",
       "      <td>0</td>\n",
       "      <td>0</td>\n",
       "      <td>1</td>\n",
       "      <td>1</td>\n",
       "      <td>2020-12-03</td>\n",
       "      <td>NaN</td>\n",
       "      <td>NaN</td>\n",
       "      <td>6</td>\n",
       "      <td>59</td>\n",
       "      <td>99059</td>\n",
       "      <td>Orange (County)</td>\n",
       "      <td>20326</td>\n",
       "      <td>5fca62220eb5d36238b29901</td>\n",
       "    </tr>\n",
       "  </tbody>\n",
       "</table>\n",
       "<p>60440 rows × 21 columns</p>\n",
       "</div>"
      ],
      "text/plain": [
       "      femaDeclarationString  ...                        id\n",
       "0                   DR-1-GA  ...  5f7b2be031a8c6681cfb4342\n",
       "1                   DR-2-TX  ...  5f7b2be031a8c6681cfb4345\n",
       "2                   DR-5-MT  ...  5f7b2be031a8c6681cfb4348\n",
       "3                   DR-7-MA  ...  5f7b2be031a8c6681cfb434b\n",
       "4                   DR-8-IA  ...  5f7b2be031a8c6681cfb434e\n",
       "...                     ...  ...                       ...\n",
       "60435            FM-5382-NV  ...  5fb6a0800eb5d36238b4d770\n",
       "60436            DR-4569-CA  ...  5fbec1b30eb5d36238660eac\n",
       "60437            DR-4569-CA  ...  5fbec1b30eb5d36238660ebd\n",
       "60438            DR-4566-DE  ...  5fc80a170eb5d36238431c13\n",
       "60439            FM-5383-CA  ...  5fca62220eb5d36238b29901\n",
       "\n",
       "[60440 rows x 21 columns]"
      ]
     },
     "execution_count": 58,
     "metadata": {},
     "output_type": "execute_result"
    }
   ],
   "source": [
    "df = df.drop(columns=['lastRefresh'], axis=1)\n",
    "df"
   ]
  },
  {
   "cell_type": "code",
   "execution_count": 59,
   "metadata": {
    "scrolled": true
   },
   "outputs": [
    {
     "data": {
      "text/plain": [
       "5f7b2c3131a8c6681cffeee5    1\n",
       "5f7b2bff31a8c6681cfcd6bd    1\n",
       "5f7b2c1331a8c6681cfe2a1f    1\n",
       "5f7b2bf531a8c6681cfc493e    1\n",
       "5f7b2bf531a8c6681cfc4ab8    1\n",
       "                           ..\n",
       "5f7b2c1c31a8c6681cfeb5f6    1\n",
       "5f7b2c1f31a8c6681cfedcd1    1\n",
       "5f7b2bfb31a8c6681cfca602    1\n",
       "5f7b2c2631a8c6681cff4fce    1\n",
       "5f7b2be431a8c6681cfb6cbe    1\n",
       "Name: id, Length: 60440, dtype: int64"
      ]
     },
     "execution_count": 59,
     "metadata": {},
     "output_type": "execute_result"
    }
   ],
   "source": [
    "df['id'].value_counts()"
   ]
  },
  {
   "cell_type": "markdown",
   "metadata": {},
   "source": [
    "# Data Preparation (Preparing for Modeling)"
   ]
  },
  {
   "cell_type": "code",
   "execution_count": 60,
   "metadata": {},
   "outputs": [
    {
     "data": {
      "text/plain": [
       "['Severe Storm(s)', 'Hurricane', 'Flood']"
      ]
     },
     "execution_count": 60,
     "metadata": {},
     "output_type": "execute_result"
    }
   ],
   "source": [
    "# Finding the top 3 Natural Disasters\n",
    "# We will make vizualizations of these\n",
    "natdisasters = list(df['incidentType'].value_counts().head(3).index)\n",
    "natdisasters"
   ]
  },
  {
   "cell_type": "code",
   "execution_count": 61,
   "metadata": {
    "scrolled": true
   },
   "outputs": [
    {
     "data": {
      "text/plain": [
       "Severe Storm(s)    16957\n",
       "Hurricane          11890\n",
       "Flood              10389\n",
       "Name: incidentType, dtype: int64"
      ]
     },
     "execution_count": 61,
     "metadata": {},
     "output_type": "execute_result"
    }
   ],
   "source": [
    "df = df[df['incidentType'].isin(natdisasters)]\n",
    "df['incidentType'].value_counts()"
   ]
  },
  {
   "cell_type": "code",
   "execution_count": 62,
   "metadata": {
    "scrolled": true
   },
   "outputs": [
    {
     "data": {
      "text/html": [
       "<div>\n",
       "<style scoped>\n",
       "    .dataframe tbody tr th:only-of-type {\n",
       "        vertical-align: middle;\n",
       "    }\n",
       "\n",
       "    .dataframe tbody tr th {\n",
       "        vertical-align: top;\n",
       "    }\n",
       "\n",
       "    .dataframe thead th {\n",
       "        text-align: right;\n",
       "    }\n",
       "</style>\n",
       "<table border=\"1\" class=\"dataframe\">\n",
       "  <thead>\n",
       "    <tr style=\"text-align: right;\">\n",
       "      <th></th>\n",
       "      <th>femaDeclarationString</th>\n",
       "      <th>disasterNumber</th>\n",
       "      <th>state</th>\n",
       "      <th>declarationType</th>\n",
       "      <th>declarationDate</th>\n",
       "      <th>fyDeclared</th>\n",
       "      <th>incidentType</th>\n",
       "      <th>declarationTitle</th>\n",
       "      <th>ihProgramDeclared</th>\n",
       "      <th>iaProgramDeclared</th>\n",
       "      <th>paProgramDeclared</th>\n",
       "      <th>hmProgramDeclared</th>\n",
       "      <th>incidentBeginDate</th>\n",
       "      <th>incidentEndDate</th>\n",
       "      <th>disasterCloseoutDate</th>\n",
       "      <th>fipsStateCode</th>\n",
       "      <th>fipsCountyCode</th>\n",
       "      <th>placeCode</th>\n",
       "      <th>designatedArea</th>\n",
       "      <th>declarationRequestNumber</th>\n",
       "      <th>id</th>\n",
       "    </tr>\n",
       "  </thead>\n",
       "  <tbody>\n",
       "    <tr>\n",
       "      <td>2</td>\n",
       "      <td>DR-5-MT</td>\n",
       "      <td>5</td>\n",
       "      <td>MT</td>\n",
       "      <td>DR</td>\n",
       "      <td>1953-06-06</td>\n",
       "      <td>1953</td>\n",
       "      <td>Flood</td>\n",
       "      <td>FLOODS</td>\n",
       "      <td>0</td>\n",
       "      <td>1</td>\n",
       "      <td>1</td>\n",
       "      <td>1</td>\n",
       "      <td>1953-06-06</td>\n",
       "      <td>1953-06-06T04:00:00.000Z</td>\n",
       "      <td>1955-12-01T05:00:00.000Z</td>\n",
       "      <td>30</td>\n",
       "      <td>0</td>\n",
       "      <td>0</td>\n",
       "      <td>Statewide</td>\n",
       "      <td>53006</td>\n",
       "      <td>5f7b2be031a8c6681cfb4348</td>\n",
       "    </tr>\n",
       "    <tr>\n",
       "      <td>4</td>\n",
       "      <td>DR-8-IA</td>\n",
       "      <td>8</td>\n",
       "      <td>IA</td>\n",
       "      <td>DR</td>\n",
       "      <td>1953-06-11</td>\n",
       "      <td>1953</td>\n",
       "      <td>Flood</td>\n",
       "      <td>FLOOD</td>\n",
       "      <td>0</td>\n",
       "      <td>1</td>\n",
       "      <td>1</td>\n",
       "      <td>1</td>\n",
       "      <td>1953-06-11</td>\n",
       "      <td>1953-06-11T04:00:00.000Z</td>\n",
       "      <td>1955-11-01T05:00:00.000Z</td>\n",
       "      <td>19</td>\n",
       "      <td>0</td>\n",
       "      <td>0</td>\n",
       "      <td>Statewide</td>\n",
       "      <td>53008</td>\n",
       "      <td>5f7b2be031a8c6681cfb434e</td>\n",
       "    </tr>\n",
       "    <tr>\n",
       "      <td>5</td>\n",
       "      <td>DR-9-TX</td>\n",
       "      <td>9</td>\n",
       "      <td>TX</td>\n",
       "      <td>DR</td>\n",
       "      <td>1953-06-19</td>\n",
       "      <td>1953</td>\n",
       "      <td>Flood</td>\n",
       "      <td>FLOOD</td>\n",
       "      <td>0</td>\n",
       "      <td>1</td>\n",
       "      <td>1</td>\n",
       "      <td>1</td>\n",
       "      <td>1953-06-19</td>\n",
       "      <td>1953-06-19T04:00:00.000Z</td>\n",
       "      <td>1958-01-01T05:00:00.000Z</td>\n",
       "      <td>48</td>\n",
       "      <td>0</td>\n",
       "      <td>0</td>\n",
       "      <td>Statewide</td>\n",
       "      <td>53010</td>\n",
       "      <td>5f7b2be031a8c6681cfb4351</td>\n",
       "    </tr>\n",
       "    <tr>\n",
       "      <td>6</td>\n",
       "      <td>DR-3-LA</td>\n",
       "      <td>3</td>\n",
       "      <td>LA</td>\n",
       "      <td>DR</td>\n",
       "      <td>1953-05-29</td>\n",
       "      <td>1953</td>\n",
       "      <td>Flood</td>\n",
       "      <td>FLOOD</td>\n",
       "      <td>0</td>\n",
       "      <td>1</td>\n",
       "      <td>1</td>\n",
       "      <td>1</td>\n",
       "      <td>1953-05-29</td>\n",
       "      <td>1953-05-29T04:00:00.000Z</td>\n",
       "      <td>1960-02-01T05:00:00.000Z</td>\n",
       "      <td>22</td>\n",
       "      <td>0</td>\n",
       "      <td>0</td>\n",
       "      <td>Statewide</td>\n",
       "      <td>53005</td>\n",
       "      <td>5f7b2be031a8c6681cfb4354</td>\n",
       "    </tr>\n",
       "    <tr>\n",
       "      <td>10</td>\n",
       "      <td>DR-12-FL</td>\n",
       "      <td>12</td>\n",
       "      <td>FL</td>\n",
       "      <td>DR</td>\n",
       "      <td>1953-10-22</td>\n",
       "      <td>1954</td>\n",
       "      <td>Flood</td>\n",
       "      <td>FLOOD</td>\n",
       "      <td>0</td>\n",
       "      <td>1</td>\n",
       "      <td>1</td>\n",
       "      <td>1</td>\n",
       "      <td>1953-10-22</td>\n",
       "      <td>1953-10-22T05:00:00.000Z</td>\n",
       "      <td>1956-05-01T04:00:00.000Z</td>\n",
       "      <td>12</td>\n",
       "      <td>0</td>\n",
       "      <td>0</td>\n",
       "      <td>Statewide</td>\n",
       "      <td>53015</td>\n",
       "      <td>5f7b2be031a8c6681cfb4360</td>\n",
       "    </tr>\n",
       "  </tbody>\n",
       "</table>\n",
       "</div>"
      ],
      "text/plain": [
       "   femaDeclarationString  ...                        id\n",
       "2                DR-5-MT  ...  5f7b2be031a8c6681cfb4348\n",
       "4                DR-8-IA  ...  5f7b2be031a8c6681cfb434e\n",
       "5                DR-9-TX  ...  5f7b2be031a8c6681cfb4351\n",
       "6                DR-3-LA  ...  5f7b2be031a8c6681cfb4354\n",
       "10              DR-12-FL  ...  5f7b2be031a8c6681cfb4360\n",
       "\n",
       "[5 rows x 21 columns]"
      ]
     },
     "execution_count": 62,
     "metadata": {},
     "output_type": "execute_result"
    }
   ],
   "source": [
    "df.head()"
   ]
  },
  {
   "cell_type": "code",
   "execution_count": 63,
   "metadata": {
    "scrolled": true
   },
   "outputs": [
    {
     "data": {
      "text/plain": [
       "['Severe Storm(s)']"
      ]
     },
     "execution_count": 63,
     "metadata": {},
     "output_type": "execute_result"
    }
   ],
   "source": [
    "severestorm = list(df['incidentType'].value_counts().head(1).index)\n",
    "severestorm"
   ]
  },
  {
   "cell_type": "code",
   "execution_count": 64,
   "metadata": {
    "scrolled": true
   },
   "outputs": [
    {
     "data": {
      "text/html": [
       "<div>\n",
       "<style scoped>\n",
       "    .dataframe tbody tr th:only-of-type {\n",
       "        vertical-align: middle;\n",
       "    }\n",
       "\n",
       "    .dataframe tbody tr th {\n",
       "        vertical-align: top;\n",
       "    }\n",
       "\n",
       "    .dataframe thead th {\n",
       "        text-align: right;\n",
       "    }\n",
       "</style>\n",
       "<table border=\"1\" class=\"dataframe\">\n",
       "  <thead>\n",
       "    <tr style=\"text-align: right;\">\n",
       "      <th></th>\n",
       "      <th>femaDeclarationString</th>\n",
       "      <th>disasterNumber</th>\n",
       "      <th>state</th>\n",
       "      <th>declarationType</th>\n",
       "      <th>declarationDate</th>\n",
       "      <th>fyDeclared</th>\n",
       "      <th>incidentType</th>\n",
       "      <th>declarationTitle</th>\n",
       "      <th>ihProgramDeclared</th>\n",
       "      <th>iaProgramDeclared</th>\n",
       "      <th>paProgramDeclared</th>\n",
       "      <th>hmProgramDeclared</th>\n",
       "      <th>incidentBeginDate</th>\n",
       "      <th>incidentEndDate</th>\n",
       "      <th>disasterCloseoutDate</th>\n",
       "      <th>fipsStateCode</th>\n",
       "      <th>fipsCountyCode</th>\n",
       "      <th>placeCode</th>\n",
       "      <th>designatedArea</th>\n",
       "      <th>declarationRequestNumber</th>\n",
       "      <th>id</th>\n",
       "    </tr>\n",
       "    <tr>\n",
       "      <th>date</th>\n",
       "      <th></th>\n",
       "      <th></th>\n",
       "      <th></th>\n",
       "      <th></th>\n",
       "      <th></th>\n",
       "      <th></th>\n",
       "      <th></th>\n",
       "      <th></th>\n",
       "      <th></th>\n",
       "      <th></th>\n",
       "      <th></th>\n",
       "      <th></th>\n",
       "      <th></th>\n",
       "      <th></th>\n",
       "      <th></th>\n",
       "      <th></th>\n",
       "      <th></th>\n",
       "      <th></th>\n",
       "      <th></th>\n",
       "      <th></th>\n",
       "      <th></th>\n",
       "    </tr>\n",
       "  </thead>\n",
       "  <tbody>\n",
       "    <tr>\n",
       "      <td>1953-06-06</td>\n",
       "      <td>DR-5-MT</td>\n",
       "      <td>5</td>\n",
       "      <td>MT</td>\n",
       "      <td>DR</td>\n",
       "      <td>1953-06-06</td>\n",
       "      <td>1953</td>\n",
       "      <td>Flood</td>\n",
       "      <td>FLOODS</td>\n",
       "      <td>0</td>\n",
       "      <td>1</td>\n",
       "      <td>1</td>\n",
       "      <td>1</td>\n",
       "      <td>1953-06-06</td>\n",
       "      <td>1953-06-06T04:00:00.000Z</td>\n",
       "      <td>1955-12-01T05:00:00.000Z</td>\n",
       "      <td>30</td>\n",
       "      <td>0</td>\n",
       "      <td>0</td>\n",
       "      <td>Statewide</td>\n",
       "      <td>53006</td>\n",
       "      <td>5f7b2be031a8c6681cfb4348</td>\n",
       "    </tr>\n",
       "    <tr>\n",
       "      <td>1953-06-11</td>\n",
       "      <td>DR-8-IA</td>\n",
       "      <td>8</td>\n",
       "      <td>IA</td>\n",
       "      <td>DR</td>\n",
       "      <td>1953-06-11</td>\n",
       "      <td>1953</td>\n",
       "      <td>Flood</td>\n",
       "      <td>FLOOD</td>\n",
       "      <td>0</td>\n",
       "      <td>1</td>\n",
       "      <td>1</td>\n",
       "      <td>1</td>\n",
       "      <td>1953-06-11</td>\n",
       "      <td>1953-06-11T04:00:00.000Z</td>\n",
       "      <td>1955-11-01T05:00:00.000Z</td>\n",
       "      <td>19</td>\n",
       "      <td>0</td>\n",
       "      <td>0</td>\n",
       "      <td>Statewide</td>\n",
       "      <td>53008</td>\n",
       "      <td>5f7b2be031a8c6681cfb434e</td>\n",
       "    </tr>\n",
       "    <tr>\n",
       "      <td>1953-06-19</td>\n",
       "      <td>DR-9-TX</td>\n",
       "      <td>9</td>\n",
       "      <td>TX</td>\n",
       "      <td>DR</td>\n",
       "      <td>1953-06-19</td>\n",
       "      <td>1953</td>\n",
       "      <td>Flood</td>\n",
       "      <td>FLOOD</td>\n",
       "      <td>0</td>\n",
       "      <td>1</td>\n",
       "      <td>1</td>\n",
       "      <td>1</td>\n",
       "      <td>1953-06-19</td>\n",
       "      <td>1953-06-19T04:00:00.000Z</td>\n",
       "      <td>1958-01-01T05:00:00.000Z</td>\n",
       "      <td>48</td>\n",
       "      <td>0</td>\n",
       "      <td>0</td>\n",
       "      <td>Statewide</td>\n",
       "      <td>53010</td>\n",
       "      <td>5f7b2be031a8c6681cfb4351</td>\n",
       "    </tr>\n",
       "    <tr>\n",
       "      <td>1953-05-29</td>\n",
       "      <td>DR-3-LA</td>\n",
       "      <td>3</td>\n",
       "      <td>LA</td>\n",
       "      <td>DR</td>\n",
       "      <td>1953-05-29</td>\n",
       "      <td>1953</td>\n",
       "      <td>Flood</td>\n",
       "      <td>FLOOD</td>\n",
       "      <td>0</td>\n",
       "      <td>1</td>\n",
       "      <td>1</td>\n",
       "      <td>1</td>\n",
       "      <td>1953-05-29</td>\n",
       "      <td>1953-05-29T04:00:00.000Z</td>\n",
       "      <td>1960-02-01T05:00:00.000Z</td>\n",
       "      <td>22</td>\n",
       "      <td>0</td>\n",
       "      <td>0</td>\n",
       "      <td>Statewide</td>\n",
       "      <td>53005</td>\n",
       "      <td>5f7b2be031a8c6681cfb4354</td>\n",
       "    </tr>\n",
       "    <tr>\n",
       "      <td>1953-10-22</td>\n",
       "      <td>DR-12-FL</td>\n",
       "      <td>12</td>\n",
       "      <td>FL</td>\n",
       "      <td>DR</td>\n",
       "      <td>1953-10-22</td>\n",
       "      <td>1954</td>\n",
       "      <td>Flood</td>\n",
       "      <td>FLOOD</td>\n",
       "      <td>0</td>\n",
       "      <td>1</td>\n",
       "      <td>1</td>\n",
       "      <td>1</td>\n",
       "      <td>1953-10-22</td>\n",
       "      <td>1953-10-22T05:00:00.000Z</td>\n",
       "      <td>1956-05-01T04:00:00.000Z</td>\n",
       "      <td>12</td>\n",
       "      <td>0</td>\n",
       "      <td>0</td>\n",
       "      <td>Statewide</td>\n",
       "      <td>53015</td>\n",
       "      <td>5f7b2be031a8c6681cfb4360</td>\n",
       "    </tr>\n",
       "    <tr>\n",
       "      <td>...</td>\n",
       "      <td>...</td>\n",
       "      <td>...</td>\n",
       "      <td>...</td>\n",
       "      <td>...</td>\n",
       "      <td>...</td>\n",
       "      <td>...</td>\n",
       "      <td>...</td>\n",
       "      <td>...</td>\n",
       "      <td>...</td>\n",
       "      <td>...</td>\n",
       "      <td>...</td>\n",
       "      <td>...</td>\n",
       "      <td>...</td>\n",
       "      <td>...</td>\n",
       "      <td>...</td>\n",
       "      <td>...</td>\n",
       "      <td>...</td>\n",
       "      <td>...</td>\n",
       "      <td>...</td>\n",
       "      <td>...</td>\n",
       "      <td>...</td>\n",
       "    </tr>\n",
       "    <tr>\n",
       "      <td>2020-11-11</td>\n",
       "      <td>EM-3551-FL</td>\n",
       "      <td>3551</td>\n",
       "      <td>FL</td>\n",
       "      <td>EM</td>\n",
       "      <td>2020-11-11</td>\n",
       "      <td>2021</td>\n",
       "      <td>Hurricane</td>\n",
       "      <td>HURRICANE ETA</td>\n",
       "      <td>0</td>\n",
       "      <td>0</td>\n",
       "      <td>1</td>\n",
       "      <td>0</td>\n",
       "      <td>2020-11-07</td>\n",
       "      <td>NaN</td>\n",
       "      <td>NaN</td>\n",
       "      <td>12</td>\n",
       "      <td>115</td>\n",
       "      <td>99115</td>\n",
       "      <td>Sarasota (County)</td>\n",
       "      <td>20321</td>\n",
       "      <td>5fac7b670eb5d362384af402</td>\n",
       "    </tr>\n",
       "    <tr>\n",
       "      <td>2020-11-11</td>\n",
       "      <td>EM-3551-FL</td>\n",
       "      <td>3551</td>\n",
       "      <td>FL</td>\n",
       "      <td>EM</td>\n",
       "      <td>2020-11-11</td>\n",
       "      <td>2021</td>\n",
       "      <td>Hurricane</td>\n",
       "      <td>HURRICANE ETA</td>\n",
       "      <td>0</td>\n",
       "      <td>0</td>\n",
       "      <td>1</td>\n",
       "      <td>0</td>\n",
       "      <td>2020-11-07</td>\n",
       "      <td>NaN</td>\n",
       "      <td>NaN</td>\n",
       "      <td>12</td>\n",
       "      <td>83</td>\n",
       "      <td>99083</td>\n",
       "      <td>Marion (County)</td>\n",
       "      <td>20321</td>\n",
       "      <td>5fac7b670eb5d362384af3a0</td>\n",
       "    </tr>\n",
       "    <tr>\n",
       "      <td>2020-11-11</td>\n",
       "      <td>EM-3551-FL</td>\n",
       "      <td>3551</td>\n",
       "      <td>FL</td>\n",
       "      <td>EM</td>\n",
       "      <td>2020-11-11</td>\n",
       "      <td>2021</td>\n",
       "      <td>Hurricane</td>\n",
       "      <td>HURRICANE ETA</td>\n",
       "      <td>0</td>\n",
       "      <td>0</td>\n",
       "      <td>1</td>\n",
       "      <td>0</td>\n",
       "      <td>2020-11-07</td>\n",
       "      <td>NaN</td>\n",
       "      <td>NaN</td>\n",
       "      <td>12</td>\n",
       "      <td>119</td>\n",
       "      <td>99119</td>\n",
       "      <td>Sumter (County)</td>\n",
       "      <td>20321</td>\n",
       "      <td>5fac7b670eb5d362384af407</td>\n",
       "    </tr>\n",
       "    <tr>\n",
       "      <td>2020-11-11</td>\n",
       "      <td>EM-3551-FL</td>\n",
       "      <td>3551</td>\n",
       "      <td>FL</td>\n",
       "      <td>EM</td>\n",
       "      <td>2020-11-11</td>\n",
       "      <td>2021</td>\n",
       "      <td>Hurricane</td>\n",
       "      <td>HURRICANE ETA</td>\n",
       "      <td>0</td>\n",
       "      <td>0</td>\n",
       "      <td>1</td>\n",
       "      <td>0</td>\n",
       "      <td>2020-11-07</td>\n",
       "      <td>NaN</td>\n",
       "      <td>NaN</td>\n",
       "      <td>12</td>\n",
       "      <td>53</td>\n",
       "      <td>99053</td>\n",
       "      <td>Hernando (County)</td>\n",
       "      <td>20321</td>\n",
       "      <td>5fac7b670eb5d362384af40d</td>\n",
       "    </tr>\n",
       "    <tr>\n",
       "      <td>2020-10-02</td>\n",
       "      <td>DR-4566-DE</td>\n",
       "      <td>4566</td>\n",
       "      <td>DE</td>\n",
       "      <td>DR</td>\n",
       "      <td>2020-10-02</td>\n",
       "      <td>2021</td>\n",
       "      <td>Hurricane</td>\n",
       "      <td>TROPICAL STORM ISAIAS</td>\n",
       "      <td>0</td>\n",
       "      <td>0</td>\n",
       "      <td>1</td>\n",
       "      <td>1</td>\n",
       "      <td>2020-08-05</td>\n",
       "      <td>2020-08-08T03:59:00.000Z</td>\n",
       "      <td>NaN</td>\n",
       "      <td>10</td>\n",
       "      <td>3</td>\n",
       "      <td>99003</td>\n",
       "      <td>New Castle (County)</td>\n",
       "      <td>20253</td>\n",
       "      <td>5fc80a170eb5d36238431c13</td>\n",
       "    </tr>\n",
       "  </tbody>\n",
       "</table>\n",
       "<p>39236 rows × 21 columns</p>\n",
       "</div>"
      ],
      "text/plain": [
       "           femaDeclarationString  ...                        id\n",
       "date                              ...                          \n",
       "1953-06-06               DR-5-MT  ...  5f7b2be031a8c6681cfb4348\n",
       "1953-06-11               DR-8-IA  ...  5f7b2be031a8c6681cfb434e\n",
       "1953-06-19               DR-9-TX  ...  5f7b2be031a8c6681cfb4351\n",
       "1953-05-29               DR-3-LA  ...  5f7b2be031a8c6681cfb4354\n",
       "1953-10-22              DR-12-FL  ...  5f7b2be031a8c6681cfb4360\n",
       "...                          ...  ...                       ...\n",
       "2020-11-11            EM-3551-FL  ...  5fac7b670eb5d362384af402\n",
       "2020-11-11            EM-3551-FL  ...  5fac7b670eb5d362384af3a0\n",
       "2020-11-11            EM-3551-FL  ...  5fac7b670eb5d362384af407\n",
       "2020-11-11            EM-3551-FL  ...  5fac7b670eb5d362384af40d\n",
       "2020-10-02            DR-4566-DE  ...  5fc80a170eb5d36238431c13\n",
       "\n",
       "[39236 rows x 21 columns]"
      ]
     },
     "execution_count": 64,
     "metadata": {},
     "output_type": "execute_result"
    }
   ],
   "source": [
    "# Make Date the index \n",
    "df['date'] = pd.to_datetime(df['declarationDate'])\n",
    "df.set_index('date', inplace=True)\n",
    "df"
   ]
  },
  {
   "cell_type": "code",
   "execution_count": 65,
   "metadata": {
    "scrolled": true
   },
   "outputs": [
    {
     "data": {
      "text/plain": [
       "incidentType     date      \n",
       "Flood            1953-05-01     1\n",
       "                 1953-06-01     3\n",
       "                 1953-07-01     0\n",
       "                 1953-08-01     0\n",
       "                 1953-09-01     0\n",
       "                               ..\n",
       "Severe Storm(s)  2020-06-01     0\n",
       "                 2020-07-01    68\n",
       "                 2020-08-01    23\n",
       "                 2020-09-01     1\n",
       "                 2020-10-01     6\n",
       "Name: id, Length: 2381, dtype: int64"
      ]
     },
     "execution_count": 65,
     "metadata": {},
     "output_type": "execute_result"
    }
   ],
   "source": [
    "# The 'MS' string groups the data in buckets by start of the month\n",
    "df.groupby(['incidentType']).resample('MS').count()['id']"
   ]
  },
  {
   "cell_type": "code",
   "execution_count": 66,
   "metadata": {},
   "outputs": [],
   "source": [
    "freq = 'MS'"
   ]
  },
  {
   "cell_type": "code",
   "execution_count": 67,
   "metadata": {},
   "outputs": [
    {
     "data": {
      "text/plain": [
       "DatetimeIndex(['1970-01-01', '1970-01-02', '1970-01-03', '1970-01-04',\n",
       "               '1970-01-05', '1970-01-06', '1970-01-07', '1970-01-08',\n",
       "               '1970-01-09', '1970-01-10',\n",
       "               ...\n",
       "               '2019-12-23', '2019-12-24', '2019-12-25', '2019-12-26',\n",
       "               '2019-12-27', '2019-12-28', '2019-12-29', '2019-12-30',\n",
       "               '2019-12-31', '2020-01-01'],\n",
       "              dtype='datetime64[ns]', length=18263, freq='D')"
      ]
     },
     "execution_count": 67,
     "metadata": {},
     "output_type": "execute_result"
    }
   ],
   "source": [
    "pd.date_range(start='1970-01-01', end='2020-01-01')"
   ]
  },
  {
   "cell_type": "code",
   "execution_count": 68,
   "metadata": {
    "scrolled": false
   },
   "outputs": [
    {
     "data": {
      "image/png": "[encoded data removed]",
      "text/plain": [
       "<Figure size 432x288 with 1 Axes>"
      ]
     },
     "metadata": {
      "needs_background": "light"
     },
     "output_type": "display_data"
    }
   ],
   "source": [
    "ts_natdisasters = df.groupby(['incidentType']).resample(freq).count()['id']\n",
    "ts_natdisasters.plot.line(color='red')\n",
    "plt.title('Natural Disasters by Year')\n",
    "plt.savefig('natdisasters-by-year')\n",
    "plt.show()"
   ]
  },
  {
   "cell_type": "code",
   "execution_count": 69,
   "metadata": {
    "scrolled": true
   },
   "outputs": [
    {
     "data": {
      "text/plain": [
       "['Severe Storm(s)', 'Hurricane', 'Flood']"
      ]
     },
     "execution_count": 69,
     "metadata": {},
     "output_type": "execute_result"
    }
   ],
   "source": [
    "natdisasters"
   ]
  },
  {
   "cell_type": "code",
   "execution_count": 70,
   "metadata": {},
   "outputs": [],
   "source": [
    "#natdisasters.drop('Biological')"
   ]
  },
  {
   "cell_type": "code",
   "execution_count": 71,
   "metadata": {},
   "outputs": [],
   "source": [
    "# Severe Storm(s)"
   ]
  },
  {
   "cell_type": "code",
   "execution_count": 72,
   "metadata": {
    "scrolled": true
   },
   "outputs": [
    {
     "data": {
      "image/png": "[encoded data removed]",
      "text/plain": [
       "<Figure size 432x288 with 1 Axes>"
      ]
     },
     "metadata": {
      "needs_background": "light"
     },
     "output_type": "display_data"
    },
    {
     "data": {
      "image/png": "[encoded data removed]",
      "text/plain": [
       "<Figure size 432x288 with 1 Axes>"
      ]
     },
     "metadata": {
      "needs_background": "light"
     },
     "output_type": "display_data"
    },
    {
     "data": {
      "image/png": "[encoded data removed]",
      "text/plain": [
       "<Figure size 432x288 with 1 Axes>"
      ]
     },
     "metadata": {
      "needs_background": "light"
     },
     "output_type": "display_data"
    }
   ],
   "source": [
    "sstorms = {}\n",
    "for disaster in natdisasters:\n",
    "    ts = ts_natdisasters[disaster].asfreq(freq).rename(disaster)\n",
    "    plt.figure()\n",
    "    ts.plot(title=disaster)\n",
    "    sstorms[disaster] = ts"
   ]
  },
  {
   "cell_type": "code",
   "execution_count": 73,
   "metadata": {
    "scrolled": true
   },
   "outputs": [
    {
     "data": {
      "text/html": [
       "<div>\n",
       "<style scoped>\n",
       "    .dataframe tbody tr th:only-of-type {\n",
       "        vertical-align: middle;\n",
       "    }\n",
       "\n",
       "    .dataframe tbody tr th {\n",
       "        vertical-align: top;\n",
       "    }\n",
       "\n",
       "    .dataframe thead th {\n",
       "        text-align: right;\n",
       "    }\n",
       "</style>\n",
       "<table border=\"1\" class=\"dataframe\">\n",
       "  <thead>\n",
       "    <tr style=\"text-align: right;\">\n",
       "      <th></th>\n",
       "      <th>Severe Storm(s)</th>\n",
       "      <th>Hurricane</th>\n",
       "      <th>Flood</th>\n",
       "    </tr>\n",
       "    <tr>\n",
       "      <th>date</th>\n",
       "      <th></th>\n",
       "      <th></th>\n",
       "      <th></th>\n",
       "    </tr>\n",
       "  </thead>\n",
       "  <tbody>\n",
       "    <tr>\n",
       "      <td>1953-05-01</td>\n",
       "      <td>nan</td>\n",
       "      <td>nan</td>\n",
       "      <td>1</td>\n",
       "    </tr>\n",
       "    <tr>\n",
       "      <td>1953-06-01</td>\n",
       "      <td>nan</td>\n",
       "      <td>nan</td>\n",
       "      <td>3</td>\n",
       "    </tr>\n",
       "    <tr>\n",
       "      <td>1953-07-01</td>\n",
       "      <td>nan</td>\n",
       "      <td>nan</td>\n",
       "      <td>0</td>\n",
       "    </tr>\n",
       "    <tr>\n",
       "      <td>1953-08-01</td>\n",
       "      <td>nan</td>\n",
       "      <td>nan</td>\n",
       "      <td>0</td>\n",
       "    </tr>\n",
       "    <tr>\n",
       "      <td>1953-09-01</td>\n",
       "      <td>nan</td>\n",
       "      <td>nan</td>\n",
       "      <td>0</td>\n",
       "    </tr>\n",
       "    <tr>\n",
       "      <td>...</td>\n",
       "      <td>...</td>\n",
       "      <td>...</td>\n",
       "      <td>...</td>\n",
       "    </tr>\n",
       "    <tr>\n",
       "      <td>2020-07-01</td>\n",
       "      <td>68.000</td>\n",
       "      <td>117.000</td>\n",
       "      <td>18</td>\n",
       "    </tr>\n",
       "    <tr>\n",
       "      <td>2020-08-01</td>\n",
       "      <td>23.000</td>\n",
       "      <td>497.000</td>\n",
       "      <td>0</td>\n",
       "    </tr>\n",
       "    <tr>\n",
       "      <td>2020-09-01</td>\n",
       "      <td>1.000</td>\n",
       "      <td>201.000</td>\n",
       "      <td>0</td>\n",
       "    </tr>\n",
       "    <tr>\n",
       "      <td>2020-10-01</td>\n",
       "      <td>6.000</td>\n",
       "      <td>259.000</td>\n",
       "      <td>0</td>\n",
       "    </tr>\n",
       "    <tr>\n",
       "      <td>2020-11-01</td>\n",
       "      <td>nan</td>\n",
       "      <td>13.000</td>\n",
       "      <td>1</td>\n",
       "    </tr>\n",
       "  </tbody>\n",
       "</table>\n",
       "<p>811 rows × 3 columns</p>\n",
       "</div>"
      ],
      "text/plain": [
       "            Severe Storm(s)  Hurricane  Flood\n",
       "date                                         \n",
       "1953-05-01              nan        nan      1\n",
       "1953-06-01              nan        nan      3\n",
       "1953-07-01              nan        nan      0\n",
       "1953-08-01              nan        nan      0\n",
       "1953-09-01              nan        nan      0\n",
       "...                     ...        ...    ...\n",
       "2020-07-01           68.000    117.000     18\n",
       "2020-08-01           23.000    497.000      0\n",
       "2020-09-01            1.000    201.000      0\n",
       "2020-10-01            6.000    259.000      0\n",
       "2020-11-01              nan     13.000      1\n",
       "\n",
       "[811 rows x 3 columns]"
      ]
     },
     "execution_count": 73,
     "metadata": {},
     "output_type": "execute_result"
    }
   ],
   "source": [
    "df = pd.DataFrame(sstorms) \n",
    "df"
   ]
  },
  {
   "cell_type": "code",
   "execution_count": 74,
   "metadata": {},
   "outputs": [],
   "source": [
    "#sstorms = sstorms.drop(['Biological']) "
   ]
  },
  {
   "cell_type": "code",
   "execution_count": 75,
   "metadata": {},
   "outputs": [],
   "source": [
    "df.fillna(0, inplace=True)"
   ]
  },
  {
   "cell_type": "code",
   "execution_count": 76,
   "metadata": {
    "scrolled": true
   },
   "outputs": [
    {
     "data": {
      "text/plain": [
       "DatetimeIndex(['1953-05-01', '1953-06-01', '1953-07-01', '1953-08-01',\n",
       "               '1953-09-01', '1953-10-01', '1953-11-01', '1953-12-01',\n",
       "               '1954-01-01', '1954-02-01',\n",
       "               ...\n",
       "               '2020-02-01', '2020-03-01', '2020-04-01', '2020-05-01',\n",
       "               '2020-06-01', '2020-07-01', '2020-08-01', '2020-09-01',\n",
       "               '2020-10-01', '2020-11-01'],\n",
       "              dtype='datetime64[ns]', name='date', length=811, freq='MS')"
      ]
     },
     "execution_count": 76,
     "metadata": {},
     "output_type": "execute_result"
    }
   ],
   "source": [
    "df.index"
   ]
  },
  {
   "cell_type": "code",
   "execution_count": 77,
   "metadata": {},
   "outputs": [],
   "source": [
    "df = df.loc['1970-01-01':'2020-01-01']"
   ]
  },
  {
   "cell_type": "code",
   "execution_count": 78,
   "metadata": {},
   "outputs": [
    {
     "data": {
      "text/plain": [
       "DatetimeIndex(['1970-01-01', '1970-02-01', '1970-03-01', '1970-04-01',\n",
       "               '1970-05-01', '1970-06-01', '1970-07-01', '1970-08-01',\n",
       "               '1970-09-01', '1970-10-01',\n",
       "               ...\n",
       "               '2019-04-01', '2019-05-01', '2019-06-01', '2019-07-01',\n",
       "               '2019-08-01', '2019-09-01', '2019-10-01', '2019-11-01',\n",
       "               '2019-12-01', '2020-01-01'],\n",
       "              dtype='datetime64[ns]', name='date', length=601, freq='MS')"
      ]
     },
     "execution_count": 78,
     "metadata": {},
     "output_type": "execute_result"
    }
   ],
   "source": [
    "df.index"
   ]
  },
  {
   "cell_type": "markdown",
   "metadata": {},
   "source": [
    "# Modeling"
   ]
  },
  {
   "cell_type": "code",
   "execution_count": 79,
   "metadata": {},
   "outputs": [],
   "source": [
    "# One of the most common methods used in time series forecasting is known as the ARIMA model, \n",
    "# which stands for AutoregRessive Integrated Moving Average. \n",
    "# ARIMA is a model that can be fitted to time series data in order to \n",
    "# better understand or predict future points in the series."
   ]
  },
  {
   "cell_type": "code",
   "execution_count": 80,
   "metadata": {},
   "outputs": [],
   "source": [
    "# Defining (p,d,q)\n",
    "# p = auto-regressive part of model. Incorporates the effect of past values into our model.\n",
    "# d = Integrated component of an ARIMA model. Concerned with the amount of differencing \n",
    "# as it identifies the number of lag values to subtract from the current observation.  \n",
    "# q = Moving average part of the model. Used to set the error of the model as a \n",
    "# linear combination of the error values observed at previous time point in the past.\n",
    "# ARIMA(p,d,q) = seasonality, trend, and noise in datasets"
   ]
  },
  {
   "cell_type": "code",
   "execution_count": 81,
   "metadata": {},
   "outputs": [],
   "source": [
    "# Define the p, d and q parameters to take any value between 0 and 2\n",
    "p = d = q = range(0, 3)\n",
    "\n",
    "# Generate all different combinations of p, q and q triplets\n",
    "pdq = list(itertools.product(p, d, q))\n",
    "\n",
    "# Generate all different combinations of seasonal p, q and q triplets\n",
    "pdqs = [(x[0], x[1], x[2], 12) for x in list(itertools.product(p, d, q))]"
   ]
  },
  {
   "cell_type": "code",
   "execution_count": 82,
   "metadata": {
    "scrolled": true
   },
   "outputs": [
    {
     "data": {
      "text/html": [
       "<div>\n",
       "<style scoped>\n",
       "    .dataframe tbody tr th:only-of-type {\n",
       "        vertical-align: middle;\n",
       "    }\n",
       "\n",
       "    .dataframe tbody tr th {\n",
       "        vertical-align: top;\n",
       "    }\n",
       "\n",
       "    .dataframe thead th {\n",
       "        text-align: right;\n",
       "    }\n",
       "</style>\n",
       "<table border=\"1\" class=\"dataframe\">\n",
       "  <thead>\n",
       "    <tr style=\"text-align: right;\">\n",
       "      <th></th>\n",
       "      <th>Severe Storm(s)</th>\n",
       "      <th>Hurricane</th>\n",
       "      <th>Flood</th>\n",
       "    </tr>\n",
       "    <tr>\n",
       "      <th>date</th>\n",
       "      <th></th>\n",
       "      <th></th>\n",
       "      <th></th>\n",
       "    </tr>\n",
       "  </thead>\n",
       "  <tbody>\n",
       "    <tr>\n",
       "      <td>1970-01-01</td>\n",
       "      <td>0.000</td>\n",
       "      <td>0.000</td>\n",
       "      <td>0</td>\n",
       "    </tr>\n",
       "    <tr>\n",
       "      <td>1970-02-01</td>\n",
       "      <td>0.000</td>\n",
       "      <td>0.000</td>\n",
       "      <td>44</td>\n",
       "    </tr>\n",
       "    <tr>\n",
       "      <td>1970-03-01</td>\n",
       "      <td>0.000</td>\n",
       "      <td>0.000</td>\n",
       "      <td>0</td>\n",
       "    </tr>\n",
       "    <tr>\n",
       "      <td>1970-04-01</td>\n",
       "      <td>2.000</td>\n",
       "      <td>0.000</td>\n",
       "      <td>0</td>\n",
       "    </tr>\n",
       "    <tr>\n",
       "      <td>1970-05-01</td>\n",
       "      <td>0.000</td>\n",
       "      <td>0.000</td>\n",
       "      <td>0</td>\n",
       "    </tr>\n",
       "    <tr>\n",
       "      <td>...</td>\n",
       "      <td>...</td>\n",
       "      <td>...</td>\n",
       "      <td>...</td>\n",
       "    </tr>\n",
       "    <tr>\n",
       "      <td>2019-09-01</td>\n",
       "      <td>0.000</td>\n",
       "      <td>172.000</td>\n",
       "      <td>72</td>\n",
       "    </tr>\n",
       "    <tr>\n",
       "      <td>2019-10-01</td>\n",
       "      <td>8.000</td>\n",
       "      <td>42.000</td>\n",
       "      <td>7</td>\n",
       "    </tr>\n",
       "    <tr>\n",
       "      <td>2019-11-01</td>\n",
       "      <td>25.000</td>\n",
       "      <td>0.000</td>\n",
       "      <td>0</td>\n",
       "    </tr>\n",
       "    <tr>\n",
       "      <td>2019-12-01</td>\n",
       "      <td>47.000</td>\n",
       "      <td>0.000</td>\n",
       "      <td>0</td>\n",
       "    </tr>\n",
       "    <tr>\n",
       "      <td>2020-01-01</td>\n",
       "      <td>8.000</td>\n",
       "      <td>0.000</td>\n",
       "      <td>18</td>\n",
       "    </tr>\n",
       "  </tbody>\n",
       "</table>\n",
       "<p>601 rows × 3 columns</p>\n",
       "</div>"
      ],
      "text/plain": [
       "            Severe Storm(s)  Hurricane  Flood\n",
       "date                                         \n",
       "1970-01-01            0.000      0.000      0\n",
       "1970-02-01            0.000      0.000     44\n",
       "1970-03-01            0.000      0.000      0\n",
       "1970-04-01            2.000      0.000      0\n",
       "1970-05-01            0.000      0.000      0\n",
       "...                     ...        ...    ...\n",
       "2019-09-01            0.000    172.000     72\n",
       "2019-10-01            8.000     42.000      7\n",
       "2019-11-01           25.000      0.000      0\n",
       "2019-12-01           47.000      0.000      0\n",
       "2020-01-01            8.000      0.000     18\n",
       "\n",
       "[601 rows x 3 columns]"
      ]
     },
     "execution_count": 82,
     "metadata": {},
     "output_type": "execute_result"
    }
   ],
   "source": [
    "df"
   ]
  },
  {
   "cell_type": "code",
   "execution_count": 83,
   "metadata": {},
   "outputs": [
    {
     "data": {
      "text/plain": [
       "date\n",
       "1970-01-01     0.000\n",
       "1970-02-01     0.000\n",
       "1970-03-01     0.000\n",
       "1970-04-01     0.000\n",
       "1970-05-01     0.000\n",
       "               ...  \n",
       "2019-09-01   172.000\n",
       "2019-10-01    42.000\n",
       "2019-11-01     0.000\n",
       "2019-12-01     0.000\n",
       "2020-01-01     0.000\n",
       "Freq: MS, Name: Hurricane, Length: 601, dtype: float64"
      ]
     },
     "execution_count": 83,
     "metadata": {},
     "output_type": "execute_result"
    }
   ],
   "source": [
    "# Time Series for Hurricanes\n",
    "ts_hurricane = df['Hurricane']\n",
    "ts_hurricane"
   ]
  },
  {
   "cell_type": "code",
   "execution_count": 84,
   "metadata": {},
   "outputs": [],
   "source": [
    "#ans = []\n",
    "#for comb in pdq:\n",
    "  #  for combs in pdqs:\n",
    "     #   try:\n",
    "     #       mod = sm.tsa.statespace.SARIMAX(ts_hurricane,\n",
    "    #                                        order=comb,\n",
    "   #                                         seasonal_order=combs,\n",
    "  #                                          enforce_stationarity=False,\n",
    " #                                           enforce_invertibility=False)\n",
    "#\n",
    "     #       output = mod.fit()\n",
    "    #        ans.append([comb, combs, output.aic])\n",
    "   #         print('ARIMA {} x {}12 : AIC Calculated ={}'.format(comb, combs, output.aic))\n",
    "  #      except:\n",
    " #           continue"
   ]
  },
  {
   "cell_type": "code",
   "execution_count": 85,
   "metadata": {},
   "outputs": [],
   "source": [
    "# Find the parameters with minimal AIC value\n",
    "#ans_df = pd.DataFrame(ans, columns=['pdq', 'pdqs', 'aic'])\n",
    "#ans_df.loc[ans_df['aic'].idxmin()]"
   ]
  },
  {
   "cell_type": "code",
   "execution_count": 86,
   "metadata": {
    "scrolled": false
   },
   "outputs": [],
   "source": [
    "#ans_df.to_csv('Best_Params_Hurr.csv')"
   ]
  },
  {
   "cell_type": "code",
   "execution_count": 87,
   "metadata": {},
   "outputs": [],
   "source": [
    "# The Histogram KDE line and N(0,1) are not matching well at all. \n",
    "# This is an indication that the resuduals are not normally distrubuted.\n",
    "# The QQ plot is not the worst but we could find some improvements\n",
    "# Standarized residual is not bad except for one spot where there is obvious noise"
   ]
  },
  {
   "cell_type": "code",
   "execution_count": 88,
   "metadata": {},
   "outputs": [],
   "source": [
    "# get_forecast : Use for future predictions\n",
    "# What things will or won't be happening in the near future\n",
    "# Business case for budgetting for certain ones\n",
    "# Save the future values in a df (predicted mean) -> to use for recommendations\n",
    "# 1970 for all or different"
   ]
  },
  {
   "cell_type": "markdown",
   "metadata": {},
   "source": [
    "# Hurricanes"
   ]
  },
  {
   "cell_type": "code",
   "execution_count": 89,
   "metadata": {},
   "outputs": [
    {
     "data": {
      "text/html": [
       "<div>\n",
       "<style scoped>\n",
       "    .dataframe tbody tr th:only-of-type {\n",
       "        vertical-align: middle;\n",
       "    }\n",
       "\n",
       "    .dataframe tbody tr th {\n",
       "        vertical-align: top;\n",
       "    }\n",
       "\n",
       "    .dataframe thead th {\n",
       "        text-align: right;\n",
       "    }\n",
       "</style>\n",
       "<table border=\"1\" class=\"dataframe\">\n",
       "  <thead>\n",
       "    <tr style=\"text-align: right;\">\n",
       "      <th></th>\n",
       "      <th>Unnamed: 0</th>\n",
       "      <th>pdq</th>\n",
       "      <th>pdqs</th>\n",
       "      <th>aic</th>\n",
       "    </tr>\n",
       "  </thead>\n",
       "  <tbody>\n",
       "    <tr>\n",
       "      <td>0</td>\n",
       "      <td>0</td>\n",
       "      <td>(0, 0, 0)</td>\n",
       "      <td>(0, 0, 0, 12)</td>\n",
       "      <td>7707.807</td>\n",
       "    </tr>\n",
       "    <tr>\n",
       "      <td>1</td>\n",
       "      <td>1</td>\n",
       "      <td>(0, 0, 0)</td>\n",
       "      <td>(0, 0, 1, 12)</td>\n",
       "      <td>7546.857</td>\n",
       "    </tr>\n",
       "    <tr>\n",
       "      <td>2</td>\n",
       "      <td>2</td>\n",
       "      <td>(0, 0, 0)</td>\n",
       "      <td>(0, 0, 2, 12)</td>\n",
       "      <td>7405.942</td>\n",
       "    </tr>\n",
       "    <tr>\n",
       "      <td>3</td>\n",
       "      <td>3</td>\n",
       "      <td>(0, 0, 0)</td>\n",
       "      <td>(0, 1, 0, 12)</td>\n",
       "      <td>7844.906</td>\n",
       "    </tr>\n",
       "    <tr>\n",
       "      <td>4</td>\n",
       "      <td>4</td>\n",
       "      <td>(0, 0, 0)</td>\n",
       "      <td>(0, 1, 1, 12)</td>\n",
       "      <td>7405.512</td>\n",
       "    </tr>\n",
       "  </tbody>\n",
       "</table>\n",
       "</div>"
      ],
      "text/plain": [
       "   Unnamed: 0        pdq           pdqs      aic\n",
       "0           0  (0, 0, 0)  (0, 0, 0, 12) 7707.807\n",
       "1           1  (0, 0, 0)  (0, 0, 1, 12) 7546.857\n",
       "2           2  (0, 0, 0)  (0, 0, 2, 12) 7405.942\n",
       "3           3  (0, 0, 0)  (0, 1, 0, 12) 7844.906\n",
       "4           4  (0, 0, 0)  (0, 1, 1, 12) 7405.512"
      ]
     },
     "execution_count": 89,
     "metadata": {},
     "output_type": "execute_result"
    }
   ],
   "source": [
    "#1\n",
    "dfhurr = pd.read_csv(r\"Best_Params_Hurr.csv\")\n",
    "dfhurr.head()"
   ]
  },
  {
   "cell_type": "code",
   "execution_count": 90,
   "metadata": {
    "scrolled": true
   },
   "outputs": [
    {
     "data": {
      "text/plain": [
       "date\n",
       "1970-01-01     0.000\n",
       "1970-02-01     0.000\n",
       "1970-03-01     0.000\n",
       "1970-04-01     0.000\n",
       "1970-05-01     0.000\n",
       "               ...  \n",
       "2019-09-01   172.000\n",
       "2019-10-01    42.000\n",
       "2019-11-01     0.000\n",
       "2019-12-01     0.000\n",
       "2020-01-01     0.000\n",
       "Freq: MS, Name: Hurricane, Length: 601, dtype: float64"
      ]
     },
     "execution_count": 90,
     "metadata": {},
     "output_type": "execute_result"
    }
   ],
   "source": [
    "ts_hurricane"
   ]
  },
  {
   "cell_type": "code",
   "execution_count": 91,
   "metadata": {
    "scrolled": false
   },
   "outputs": [
    {
     "name": "stdout",
     "output_type": "stream",
     "text": [
      "<class 'pandas.core.frame.DataFrame'>\n",
      "RangeIndex: 729 entries, 0 to 728\n",
      "Data columns (total 4 columns):\n",
      "Unnamed: 0    729 non-null int64\n",
      "pdq           729 non-null object\n",
      "pdqs          729 non-null object\n",
      "aic           729 non-null float64\n",
      "dtypes: float64(1), int64(1), object(2)\n",
      "memory usage: 22.9+ KB\n"
     ]
    }
   ],
   "source": [
    "dfhurr.info()"
   ]
  },
  {
   "cell_type": "code",
   "execution_count": 92,
   "metadata": {},
   "outputs": [
    {
     "data": {
      "text/plain": [
       "date\n",
       "1970-01-01     0.000\n",
       "1970-02-01     0.000\n",
       "1970-03-01     0.000\n",
       "1970-04-01     0.000\n",
       "1970-05-01     0.000\n",
       "               ...  \n",
       "2019-09-01   172.000\n",
       "2019-10-01    42.000\n",
       "2019-11-01     0.000\n",
       "2019-12-01     0.000\n",
       "2020-01-01     0.000\n",
       "Freq: MS, Name: Hurricane, Length: 601, dtype: float64"
      ]
     },
     "execution_count": 92,
     "metadata": {},
     "output_type": "execute_result"
    }
   ],
   "source": [
    "ts_hurricane = df['Hurricane']\n",
    "ts_hurricane"
   ]
  },
  {
   "cell_type": "code",
   "execution_count": 93,
   "metadata": {},
   "outputs": [
    {
     "data": {
      "text/html": [
       "<div>\n",
       "<style scoped>\n",
       "    .dataframe tbody tr th:only-of-type {\n",
       "        vertical-align: middle;\n",
       "    }\n",
       "\n",
       "    .dataframe tbody tr th {\n",
       "        vertical-align: top;\n",
       "    }\n",
       "\n",
       "    .dataframe thead th {\n",
       "        text-align: right;\n",
       "    }\n",
       "</style>\n",
       "<table border=\"1\" class=\"dataframe\">\n",
       "  <thead>\n",
       "    <tr style=\"text-align: right;\">\n",
       "      <th></th>\n",
       "      <th>Unnamed: 0</th>\n",
       "      <th>pdq</th>\n",
       "      <th>pdqs</th>\n",
       "      <th>aic</th>\n",
       "    </tr>\n",
       "  </thead>\n",
       "  <tbody>\n",
       "    <tr>\n",
       "      <td>0</td>\n",
       "      <td>0</td>\n",
       "      <td>(0, 0, 0)</td>\n",
       "      <td>(0, 0, 0, 12)</td>\n",
       "      <td>7707.807</td>\n",
       "    </tr>\n",
       "    <tr>\n",
       "      <td>1</td>\n",
       "      <td>1</td>\n",
       "      <td>(0, 0, 0)</td>\n",
       "      <td>(0, 0, 1, 12)</td>\n",
       "      <td>7546.857</td>\n",
       "    </tr>\n",
       "    <tr>\n",
       "      <td>2</td>\n",
       "      <td>2</td>\n",
       "      <td>(0, 0, 0)</td>\n",
       "      <td>(0, 0, 2, 12)</td>\n",
       "      <td>7405.942</td>\n",
       "    </tr>\n",
       "    <tr>\n",
       "      <td>3</td>\n",
       "      <td>3</td>\n",
       "      <td>(0, 0, 0)</td>\n",
       "      <td>(0, 1, 0, 12)</td>\n",
       "      <td>7844.906</td>\n",
       "    </tr>\n",
       "    <tr>\n",
       "      <td>4</td>\n",
       "      <td>4</td>\n",
       "      <td>(0, 0, 0)</td>\n",
       "      <td>(0, 1, 1, 12)</td>\n",
       "      <td>7405.512</td>\n",
       "    </tr>\n",
       "    <tr>\n",
       "      <td>...</td>\n",
       "      <td>...</td>\n",
       "      <td>...</td>\n",
       "      <td>...</td>\n",
       "      <td>...</td>\n",
       "    </tr>\n",
       "    <tr>\n",
       "      <td>724</td>\n",
       "      <td>724</td>\n",
       "      <td>(2, 2, 2)</td>\n",
       "      <td>(2, 1, 1, 12)</td>\n",
       "      <td>7446.172</td>\n",
       "    </tr>\n",
       "    <tr>\n",
       "      <td>725</td>\n",
       "      <td>725</td>\n",
       "      <td>(2, 2, 2)</td>\n",
       "      <td>(2, 1, 2, 12)</td>\n",
       "      <td>7431.003</td>\n",
       "    </tr>\n",
       "    <tr>\n",
       "      <td>726</td>\n",
       "      <td>726</td>\n",
       "      <td>(2, 2, 2)</td>\n",
       "      <td>(2, 2, 0, 12)</td>\n",
       "      <td>7813.507</td>\n",
       "    </tr>\n",
       "    <tr>\n",
       "      <td>727</td>\n",
       "      <td>727</td>\n",
       "      <td>(2, 2, 2)</td>\n",
       "      <td>(2, 2, 1, 12)</td>\n",
       "      <td>7765.098</td>\n",
       "    </tr>\n",
       "    <tr>\n",
       "      <td>728</td>\n",
       "      <td>728</td>\n",
       "      <td>(2, 2, 2)</td>\n",
       "      <td>(2, 2, 2, 12)</td>\n",
       "      <td>7746.742</td>\n",
       "    </tr>\n",
       "  </tbody>\n",
       "</table>\n",
       "<p>729 rows × 4 columns</p>\n",
       "</div>"
      ],
      "text/plain": [
       "     Unnamed: 0        pdq           pdqs      aic\n",
       "0             0  (0, 0, 0)  (0, 0, 0, 12) 7707.807\n",
       "1             1  (0, 0, 0)  (0, 0, 1, 12) 7546.857\n",
       "2             2  (0, 0, 0)  (0, 0, 2, 12) 7405.942\n",
       "3             3  (0, 0, 0)  (0, 1, 0, 12) 7844.906\n",
       "4             4  (0, 0, 0)  (0, 1, 1, 12) 7405.512\n",
       "..          ...        ...            ...      ...\n",
       "724         724  (2, 2, 2)  (2, 1, 1, 12) 7446.172\n",
       "725         725  (2, 2, 2)  (2, 1, 2, 12) 7431.003\n",
       "726         726  (2, 2, 2)  (2, 2, 0, 12) 7813.507\n",
       "727         727  (2, 2, 2)  (2, 2, 1, 12) 7765.098\n",
       "728         728  (2, 2, 2)  (2, 2, 2, 12) 7746.742\n",
       "\n",
       "[729 rows x 4 columns]"
      ]
     },
     "execution_count": 93,
     "metadata": {},
     "output_type": "execute_result"
    }
   ],
   "source": [
    "dfhurr"
   ]
  },
  {
   "cell_type": "code",
   "execution_count": 94,
   "metadata": {},
   "outputs": [
    {
     "data": {
      "text/plain": [
       "{'pdq': '(0, 0, 2)', 'pdqs': '(1, 2, 2, 12)', 'aic': 7158.884371483791}"
      ]
     },
     "execution_count": 94,
     "metadata": {},
     "output_type": "execute_result"
    }
   ],
   "source": [
    "#2 Find the parameters with minimal AIC value\n",
    "dfhurr = pd.DataFrame(dfhurr, columns=['pdq', 'pdqs', 'aic'])\n",
    "best_params = dict(dfhurr.loc[dfhurr['aic'].idxmin()])\n",
    "best_params"
   ]
  },
  {
   "cell_type": "code",
   "execution_count": 95,
   "metadata": {},
   "outputs": [
    {
     "data": {
      "text/html": [
       "<table class=\"simpletable\">\n",
       "<caption>Statespace Model Results</caption>\n",
       "<tr>\n",
       "  <th>Dep. Variable:</th>              <td>Hurricane</td>           <th>  No. Observations:  </th>    <td>601</td>   \n",
       "</tr>\n",
       "<tr>\n",
       "  <th>Model:</th>           <td>SARIMAX(0, 1, 2)x(0, 2, 2, 12)</td> <th>  Log Likelihood     </th> <td>-3575.129</td>\n",
       "</tr>\n",
       "<tr>\n",
       "  <th>Date:</th>                   <td>Wed, 06 Jan 2021</td>        <th>  AIC                </th> <td>7160.257</td> \n",
       "</tr>\n",
       "<tr>\n",
       "  <th>Time:</th>                       <td>12:30:20</td>            <th>  BIC                </th> <td>7181.798</td> \n",
       "</tr>\n",
       "<tr>\n",
       "  <th>Sample:</th>                    <td>01-01-1970</td>           <th>  HQIC               </th> <td>7168.675</td> \n",
       "</tr>\n",
       "<tr>\n",
       "  <th></th>                          <td>- 01-01-2020</td>          <th>                     </th>     <td> </td>    \n",
       "</tr>\n",
       "<tr>\n",
       "  <th>Covariance Type:</th>               <td>opg</td>              <th>                     </th>     <td> </td>    \n",
       "</tr>\n",
       "</table>\n",
       "<table class=\"simpletable\">\n",
       "<tr>\n",
       "      <td></td>        <th>coef</th>     <th>std err</th>      <th>z</th>      <th>P>|z|</th>  <th>[0.025</th>    <th>0.975]</th>  \n",
       "</tr>\n",
       "<tr>\n",
       "  <th>ma.L1</th>    <td>   -0.9517</td> <td>    0.053</td> <td>  -17.948</td> <td> 0.000</td> <td>   -1.056</td> <td>   -0.848</td>\n",
       "</tr>\n",
       "<tr>\n",
       "  <th>ma.L2</th>    <td>   -0.0588</td> <td>    0.035</td> <td>   -1.685</td> <td> 0.092</td> <td>   -0.127</td> <td>    0.010</td>\n",
       "</tr>\n",
       "<tr>\n",
       "  <th>ma.S.L12</th> <td>   -1.9984</td> <td>    0.034</td> <td>  -59.614</td> <td> 0.000</td> <td>   -2.064</td> <td>   -1.933</td>\n",
       "</tr>\n",
       "<tr>\n",
       "  <th>ma.S.L24</th> <td>    1.0001</td> <td>    0.033</td> <td>   30.278</td> <td> 0.000</td> <td>    0.935</td> <td>    1.065</td>\n",
       "</tr>\n",
       "<tr>\n",
       "  <th>sigma2</th>   <td> 2.085e+04</td> <td> 3.19e-06</td> <td> 6.54e+09</td> <td> 0.000</td> <td> 2.09e+04</td> <td> 2.09e+04</td>\n",
       "</tr>\n",
       "</table>\n",
       "<table class=\"simpletable\">\n",
       "<tr>\n",
       "  <th>Ljung-Box (Q):</th>           <td>11.94</td> <th>  Jarque-Bera (JB):  </th> <td>2349430.74</td>\n",
       "</tr>\n",
       "<tr>\n",
       "  <th>Prob(Q):</th>                 <td>1.00</td>  <th>  Prob(JB):          </th>    <td>0.00</td>   \n",
       "</tr>\n",
       "<tr>\n",
       "  <th>Heteroskedasticity (H):</th> <td>883.83</td> <th>  Skew:              </th>    <td>15.55</td>  \n",
       "</tr>\n",
       "<tr>\n",
       "  <th>Prob(H) (two-sided):</th>     <td>0.00</td>  <th>  Kurtosis:          </th>   <td>321.97</td>  \n",
       "</tr>\n",
       "</table><br/><br/>Warnings:<br/>[1] Covariance matrix calculated using the outer product of gradients (complex-step).<br/>[2] Covariance matrix is singular or near-singular, with condition number 3.57e+24. Standard errors may be unstable."
      ],
      "text/plain": [
       "<class 'statsmodels.iolib.summary.Summary'>\n",
       "\"\"\"\n",
       "                                 Statespace Model Results                                 \n",
       "==========================================================================================\n",
       "Dep. Variable:                          Hurricane   No. Observations:                  601\n",
       "Model:             SARIMAX(0, 1, 2)x(0, 2, 2, 12)   Log Likelihood               -3575.129\n",
       "Date:                            Wed, 06 Jan 2021   AIC                           7160.257\n",
       "Time:                                    12:30:20   BIC                           7181.798\n",
       "Sample:                                01-01-1970   HQIC                          7168.675\n",
       "                                     - 01-01-2020                                         \n",
       "Covariance Type:                              opg                                         \n",
       "==============================================================================\n",
       "                 coef    std err          z      P>|z|      [0.025      0.975]\n",
       "------------------------------------------------------------------------------\n",
       "ma.L1         -0.9517      0.053    -17.948      0.000      -1.056      -0.848\n",
       "ma.L2         -0.0588      0.035     -1.685      0.092      -0.127       0.010\n",
       "ma.S.L12      -1.9984      0.034    -59.614      0.000      -2.064      -1.933\n",
       "ma.S.L24       1.0001      0.033     30.278      0.000       0.935       1.065\n",
       "sigma2      2.085e+04   3.19e-06   6.54e+09      0.000    2.09e+04    2.09e+04\n",
       "===================================================================================\n",
       "Ljung-Box (Q):                       11.94   Jarque-Bera (JB):           2349430.74\n",
       "Prob(Q):                              1.00   Prob(JB):                         0.00\n",
       "Heteroskedasticity (H):             883.83   Skew:                            15.55\n",
       "Prob(H) (two-sided):                  0.00   Kurtosis:                       321.97\n",
       "===================================================================================\n",
       "\n",
       "Warnings:\n",
       "[1] Covariance matrix calculated using the outer product of gradients (complex-step).\n",
       "[2] Covariance matrix is singular or near-singular, with condition number 3.57e+24. Standard errors may be unstable.\n",
       "\"\"\""
      ]
     },
     "execution_count": 95,
     "metadata": {},
     "output_type": "execute_result"
    }
   ],
   "source": [
    "ARIMA_MODEL = sm.tsa.statespace.SARIMAX(ts_hurricane, \n",
    "                                        order=(0, 1, 2), \n",
    "                                        seasonal_order=(0, 2, 2, 12), \n",
    "                                        enforce_stationarity=False, \n",
    "                                        enforce_invertibility=False)\n",
    "\n",
    "# Fit the model and print results\n",
    "output = ARIMA_MODEL.fit()\n",
    "\n",
    "output.summary()"
   ]
  },
  {
   "cell_type": "code",
   "execution_count": 96,
   "metadata": {
    "scrolled": true
   },
   "outputs": [
    {
     "name": "stdout",
     "output_type": "stream",
     "text": [
      "==============================================================================\n",
      "                 coef    std err          z      P>|z|      [0.025      0.975]\n",
      "------------------------------------------------------------------------------\n",
      "ma.L1         -1.8968      0.108    -17.590      0.000      -2.108      -1.685\n",
      "ma.L2          0.9019      0.110      8.163      0.000       0.685       1.118\n",
      "ar.S.L12      -0.0038      0.136     -0.028      0.978      -0.270       0.262\n",
      "ma.S.L12      -1.5560      0.129    -12.106      0.000      -1.808      -1.304\n",
      "ma.S.L24       0.6228      0.161      3.861      0.000       0.307       0.939\n",
      "sigma2      1.943e+05   8258.980     23.530      0.000    1.78e+05    2.11e+05\n",
      "==============================================================================\n"
     ]
    }
   ],
   "source": [
    "#3 ARIMA Modeling: ... is the optimal parameter values that we will now use for our SARIMAX model\n",
    "\n",
    "ARIMA_MODEL = sm.tsa.statespace.SARIMAX(ts_hurricane, \n",
    "                                        order=(0, 2, 2), \n",
    "                                        seasonal_order=(1, 2, 2, 12), \n",
    "                                        enforce_stationarity=False, \n",
    "                                        enforce_invertibility=False)\n",
    "\n",
    "# Fit the model and print results\n",
    "output = ARIMA_MODEL.fit()\n",
    "\n",
    "print(output.summary().tables[1])"
   ]
  },
  {
   "cell_type": "code",
   "execution_count": 97,
   "metadata": {},
   "outputs": [
    {
     "data": {
      "text/plain": [
       "<matplotlib.axes._subplots.AxesSubplot at 0x202810e3fd0>"
      ]
     },
     "execution_count": 97,
     "metadata": {},
     "output_type": "execute_result"
    },
    {
     "data": {
      "image/png": "[encoded data removed]",
      "text/plain": [
       "<Figure size 432x288 with 1 Axes>"
      ]
     },
     "metadata": {
      "needs_background": "light"
     },
     "output_type": "display_data"
    }
   ],
   "source": [
    "#4\n",
    "ts_hurricane.plot()"
   ]
  },
  {
   "cell_type": "code",
   "execution_count": 98,
   "metadata": {},
   "outputs": [
    {
     "data": {
      "image/png": "[encoded data removed]",
      "text/plain": [
       "<Figure size 1080x1296 with 4 Axes>"
      ]
     },
     "metadata": {
      "needs_background": "light"
     },
     "output_type": "display_data"
    }
   ],
   "source": [
    "#5 Call plot_diagnostics() on the results calculated above \n",
    "output.plot_diagnostics(figsize=(15, 18))\n",
    "plt.show()"
   ]
  },
  {
   "cell_type": "code",
   "execution_count": 99,
   "metadata": {},
   "outputs": [],
   "source": [
    "# 6 Get predictions starting from 01-01-2010 and calculate confidence intervals\n",
    "# Make more recent \n",
    "pred = output.get_prediction(start_date=('2017-01-01'), dynamic=False)\n",
    "pred_conf = pred.conf_int()"
   ]
  },
  {
   "cell_type": "code",
   "execution_count": 100,
   "metadata": {},
   "outputs": [
    {
     "data": {
      "image/png": "[encoded data removed]",
      "text/plain": [
       "<Figure size 1080x432 with 1 Axes>"
      ]
     },
     "metadata": {
      "needs_background": "light"
     },
     "output_type": "display_data"
    }
   ],
   "source": [
    "# 7 Plot real vs predicted values along with confidence interval\n",
    "\n",
    "rcParams['figure.figsize'] = 15, 6\n",
    "\n",
    "# Plot observed values\n",
    "ax = ts_hurricane.plot(label='observed')\n",
    "\n",
    "# Plot predicted values\n",
    "pred.predicted_mean.plot(ax=ax, label='One-step ahead Forecast', alpha=0.9)\n",
    "\n",
    "# Plot the range for confidence intervals\n",
    "ax.fill_between(pred_conf.index,\n",
    "                pred_conf.iloc[:, 0],\n",
    "                pred_conf.iloc[:, 1], color='g', alpha=0.5)\n",
    "\n",
    "# Set axes labels\n",
    "ax.set_xlabel('Date')\n",
    "ax.set_ylabel('Number of Hurricanes')\n",
    "ax.legend()\n",
    "ax.set_title('Predicted and Forcasted Hurricanes')\n",
    "\n",
    "plt.show()"
   ]
  },
  {
   "cell_type": "code",
   "execution_count": 101,
   "metadata": {},
   "outputs": [
    {
     "name": "stdout",
     "output_type": "stream",
     "text": [
      "The Mean Squared Error of our forecasts is 25164.42\n"
     ]
    }
   ],
   "source": [
    "# 8 Get the real and predicted values\n",
    "ts_hurricane_forcasted = pred.predicted_mean\n",
    "ts_hurricane_truth = ts_hurricane['2017-01-01':]\n",
    "\n",
    "# Compute the mean square error\n",
    "mse = ((ts_hurricane_forcasted - ts_hurricane_truth) ** 2).mean()\n",
    "print('The Mean Squared Error of our forecasts is {}'.format(round(mse, 2)))"
   ]
  },
  {
   "cell_type": "code",
   "execution_count": 102,
   "metadata": {},
   "outputs": [
    {
     "data": {
      "image/png": "[encoded data removed]",
      "text/plain": [
       "<Figure size 1080x432 with 1 Axes>"
      ]
     },
     "metadata": {
      "needs_background": "light"
     },
     "output_type": "display_data"
    }
   ],
   "source": [
    "# 9 Forecast 2-3 years, by month\n",
    "pred = output.get_forecast(steps=36)\n",
    "pred_conf = pred.conf_int()\n",
    "\n",
    "# Plot observed values\n",
    "ax = ts_hurricane.plot(label='observed')\n",
    "\n",
    "# Plot predicted values\n",
    "pred.predicted_mean.plot(ax=ax, label='Forcast into the Future', alpha=0.9)\n",
    "\n",
    "# Plot the range for confidence intervals\n",
    "ax.fill_between(pred_conf.index,\n",
    "                pred_conf.iloc[:, 0],\n",
    "                pred_conf.iloc[:, 1], color='g', alpha=0.5)\n",
    "\n",
    "# Set axes labels\n",
    "ax.set_xlabel('Date')\n",
    "ax.set_ylabel('Number of Hurricanes')\n",
    "ax.legend()\n",
    "ax.set_title('Predicted and Forcasted Hurricanes')\n",
    "\n",
    "plt.show()"
   ]
  },
  {
   "cell_type": "code",
   "execution_count": 103,
   "metadata": {},
   "outputs": [],
   "source": [
    "# 10 Get dynamic predictions with confidence intervals as above \n",
    "pred_dynamic = output.get_prediction(start=pd.to_datetime('2017-01-01'), dynamic=True, full_results=True)\n",
    "pred_dynamic_conf = pred_dynamic.conf_int()"
   ]
  },
  {
   "cell_type": "code",
   "execution_count": 125,
   "metadata": {},
   "outputs": [
    {
     "data": {
      "image/png": "[encoded data removed]",
      "text/plain": [
       "<Figure size 2880x1800 with 1 Axes>"
      ]
     },
     "metadata": {
      "needs_background": "light"
     },
     "output_type": "display_data"
    }
   ],
   "source": [
    "# 11 Plot the dynamic forecast with confidence intervals.\n",
    "\n",
    "ax = ts_hurricane['2000':].plot(label='observed', figsize=(20, 15))\n",
    "pred_dynamic.predicted_mean.plot(label='Dynamic Forecast', ax=ax)\n",
    "\n",
    "ax.fill_between(pred_dynamic_conf.index,\n",
    "                pred_dynamic_conf.iloc[:, 0],\n",
    "                pred_dynamic_conf.iloc[:, 1], color='g', alpha=.3)\n",
    "\n",
    "ax.fill_betweenx(ax.get_ylim(), pd.to_datetime('2017-01-01'), ts_hurricane_forcasted.index[-1], alpha=.1, zorder=-1)\n",
    "\n",
    "ax.set_xlabel('Date')\n",
    "ax.set_ylabel('Number of Hurricanes')\n",
    "plt.title('Dynamic Forecast with Confidence Intervals')\n",
    "\n",
    "plt.legend()\n",
    "plt.show()"
   ]
  },
  {
   "cell_type": "code",
   "execution_count": 105,
   "metadata": {},
   "outputs": [
    {
     "name": "stdout",
     "output_type": "stream",
     "text": [
      "The Mean Squared Error of our forecasts is 32556.65\n"
     ]
    }
   ],
   "source": [
    "# 12 Extract the predicted and true values of our time series\n",
    "hurricanes_forecasted = pred_dynamic.predicted_mean\n",
    "hurricanes_truth = ts_hurricane['2017-01-01':]\n",
    "\n",
    "# Compute the mean square error\n",
    "mse = ((hurricanes_forecasted - hurricanes_truth) ** 2).mean()\n",
    "print('The Mean Squared Error of our forecasts is {}'.format(round(mse, 2)))"
   ]
  },
  {
   "cell_type": "code",
   "execution_count": 106,
   "metadata": {},
   "outputs": [],
   "source": [
    "# 13 Get forecast 500 steps ahead in future\n",
    "prediction = output.get_forecast(steps=36)\n",
    "\n",
    "# Get confidence intervals of forecasts\n",
    "pred_conf = prediction.conf_int()"
   ]
  },
  {
   "cell_type": "code",
   "execution_count": 107,
   "metadata": {
    "scrolled": true
   },
   "outputs": [
    {
     "data": {
      "image/png": "[encoded data removed]",
      "text/plain": [
       "<Figure size 1440x1080 with 1 Axes>"
      ]
     },
     "metadata": {
      "needs_background": "light"
     },
     "output_type": "display_data"
    }
   ],
   "source": [
    "# 14 Plot future predictions with confidence intervals\n",
    "ax = ts_hurricane.plot(label='observed', figsize=(20, 15))\n",
    "prediction.predicted_mean.plot(ax=ax, label='Forecast')\n",
    "ax.fill_between(pred_conf.index,\n",
    "                pred_conf.iloc[:, 0],\n",
    "                pred_conf.iloc[:, 1], color='k', alpha=0.25)\n",
    "ax.set_xlabel('Date')\n",
    "ax.set_ylabel('Number of Hurricanes')\n",
    "\n",
    "plt.legend()\n",
    "plt.show()"
   ]
  },
  {
   "cell_type": "code",
   "execution_count": 108,
   "metadata": {},
   "outputs": [],
   "source": [
    "predicted_hurr = prediction.predicted_mean"
   ]
  },
  {
   "cell_type": "code",
   "execution_count": 110,
   "metadata": {
    "scrolled": true
   },
   "outputs": [],
   "source": [
    "hurr = pd.DataFrame({\"hurricanes\":predicted_hurr})"
   ]
  },
  {
   "cell_type": "code",
   "execution_count": 111,
   "metadata": {},
   "outputs": [],
   "source": [
    "hurr.to_csv('hurr.csv')"
   ]
  },
  {
   "cell_type": "code",
   "execution_count": 114,
   "metadata": {},
   "outputs": [
    {
     "data": {
      "image/png": "[encoded data removed]",
      "text/plain": [
       "<Figure size 1080x432 with 1 Axes>"
      ]
     },
     "metadata": {
      "needs_background": "light"
     },
     "output_type": "display_data"
    }
   ],
   "source": [
    "ax = hurr.plot()\n",
    "ax.set_ylabel('Number of Natural Disasters') \n",
    "plt.xlabel(\"Date\")\n",
    "plt.ylabel(\"Average Price\")\n",
    "plt.title('Natural Disaster Predictions')\n",
    "plt.show()"
   ]
  },
  {
   "cell_type": "markdown",
   "metadata": {},
   "source": [
    "# Conclusions"
   ]
  },
  {
   "cell_type": "code",
   "execution_count": null,
   "metadata": {},
   "outputs": [],
   "source": []
  }
 ],
 "metadata": {
  "kernelspec": {
   "display_name": "Python [conda env:learn-env] *",
   "language": "python",
   "name": "conda-env-learn-env-py"
  },
  "language_info": {
   "codemirror_mode": {
    "name": "ipython",
    "version": 3
   },
   "file_extension": ".py",
   "mimetype": "text/x-python",
   "name": "python",
   "nbconvert_exporter": "python",
   "pygments_lexer": "ipython3",
   "version": "3.6.9"
  },
  "toc": {
   "base_numbering": 1,
   "nav_menu": {},
   "number_sections": false,
   "sideBar": true,
   "skip_h1_title": false,
   "title_cell": "Table of Contents",
   "title_sidebar": "Contents",
   "toc_cell": false,
   "toc_position": {
    "height": "calc(100% - 180px)",
    "left": "10px",
    "top": "150px",
    "width": "165px"
   },
   "toc_section_display": true,
   "toc_window_display": true
  }
 },
 "nbformat": 4,
 "nbformat_minor": 2
}
