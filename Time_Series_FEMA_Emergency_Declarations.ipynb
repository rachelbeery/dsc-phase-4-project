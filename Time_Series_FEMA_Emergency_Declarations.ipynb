{
 "cells": [
  {
   "cell_type": "markdown",
   "metadata": {},
   "source": [
    "# Phase 4 Project - Time Series Modeling Introduction"
   ]
  },
  {
   "cell_type": "markdown",
   "metadata": {},
   "source": [
    "### By Rachel Beery"
   ]
  },
  {
   "cell_type": "markdown",
   "metadata": {},
   "source": [
    "## Overview"
   ]
  },
  {
   "cell_type": "markdown",
   "metadata": {},
   "source": [
    "### In this project we are using a time series model to understand the patterns of natural disasters declarations in the United States. By understanding these patterns we will then provide recommendations on what natural disasters to prepare for and when they may occur. "
   ]
  },
  {
   "cell_type": "markdown",
   "metadata": {},
   "source": [
    "Source: https://www.fema.gov/openfema-data-page/disaster-declarations-summaries-v2 "
   ]
  },
  {
   "cell_type": "code",
   "execution_count": 1,
   "metadata": {
    "scrolled": true
   },
   "outputs": [],
   "source": [
    "# We will begin by importing all of the packages we anticipate to use\n",
    "import pandas as pd\n",
    "import pandas.tseries  \n",
    "import numpy as np  \n",
    "\n",
    "import statsmodels.api as sm \n",
    "import itertools\n",
    "\n",
    "import matplotlib.pyplot as plt   \n",
    "from matplotlib.pylab import rcParams \n",
    "%matplotlib inline\n",
    "plt.style.use('ggplot') \n",
    "import plotly.express as px\n",
    "import plotly.figure_factory as ff \n",
    "import plotly.graph_objects as go \n",
    "import seaborn as sns  \n",
    "\n",
    "from statsmodels.tsa.arima_model import ARMA\n",
    "from statsmodels.tsa.statespace.sarimax import SARIMAX\n",
    "\n",
    "import warnings\n",
    "warnings.filterwarnings('ignore') "
   ]
  },
  {
   "cell_type": "code",
   "execution_count": 2,
   "metadata": {},
   "outputs": [],
   "source": [
    "# Setting the display defaults\n",
    "pd.set_option('display.max_columns', 0)\n",
    "# pd.set_option('display.max_rows',)\n",
    "\n",
    "# Turning off scientific notation in pandas\n",
    "pd.set_option('display.float_format', lambda x: '%.3f' % x)"
   ]
  },
  {
   "cell_type": "code",
   "execution_count": 3,
   "metadata": {},
   "outputs": [
    {
     "data": {
      "text/html": [
       "<div>\n",
       "<style scoped>\n",
       "    .dataframe tbody tr th:only-of-type {\n",
       "        vertical-align: middle;\n",
       "    }\n",
       "\n",
       "    .dataframe tbody tr th {\n",
       "        vertical-align: top;\n",
       "    }\n",
       "\n",
       "    .dataframe thead th {\n",
       "        text-align: right;\n",
       "    }\n",
       "</style>\n",
       "<table border=\"1\" class=\"dataframe\">\n",
       "  <thead>\n",
       "    <tr style=\"text-align: right;\">\n",
       "      <th></th>\n",
       "      <th>femaDeclarationString</th>\n",
       "      <th>disasterNumber</th>\n",
       "      <th>state</th>\n",
       "      <th>declarationType</th>\n",
       "      <th>declarationDate</th>\n",
       "      <th>fyDeclared</th>\n",
       "      <th>incidentType</th>\n",
       "      <th>declarationTitle</th>\n",
       "      <th>ihProgramDeclared</th>\n",
       "      <th>iaProgramDeclared</th>\n",
       "      <th>paProgramDeclared</th>\n",
       "      <th>hmProgramDeclared</th>\n",
       "      <th>incidentBeginDate</th>\n",
       "      <th>incidentEndDate</th>\n",
       "      <th>disasterCloseoutDate</th>\n",
       "      <th>fipsStateCode</th>\n",
       "      <th>fipsCountyCode</th>\n",
       "      <th>placeCode</th>\n",
       "      <th>designatedArea</th>\n",
       "      <th>declarationRequestNumber</th>\n",
       "      <th>hash</th>\n",
       "      <th>lastRefresh</th>\n",
       "      <th>id</th>\n",
       "    </tr>\n",
       "  </thead>\n",
       "  <tbody>\n",
       "    <tr>\n",
       "      <td>0</td>\n",
       "      <td>DR-1-GA</td>\n",
       "      <td>1</td>\n",
       "      <td>GA</td>\n",
       "      <td>DR</td>\n",
       "      <td>1953-05-02T04:00:00.000Z</td>\n",
       "      <td>1953</td>\n",
       "      <td>Tornado</td>\n",
       "      <td>TORNADO</td>\n",
       "      <td>0</td>\n",
       "      <td>1</td>\n",
       "      <td>1</td>\n",
       "      <td>1</td>\n",
       "      <td>1953-05-02T04:00:00.000Z</td>\n",
       "      <td>1953-05-02T04:00:00.000Z</td>\n",
       "      <td>1954-06-01T04:00:00.000Z</td>\n",
       "      <td>13</td>\n",
       "      <td>0</td>\n",
       "      <td>0</td>\n",
       "      <td>Statewide</td>\n",
       "      <td>53013</td>\n",
       "      <td>2f28952448e0a666d367ca3f854c81ec</td>\n",
       "      <td>2020-10-05T14:21:20.694Z</td>\n",
       "      <td>5f7b2be031a8c6681cfb4342</td>\n",
       "    </tr>\n",
       "    <tr>\n",
       "      <td>1</td>\n",
       "      <td>DR-2-TX</td>\n",
       "      <td>2</td>\n",
       "      <td>TX</td>\n",
       "      <td>DR</td>\n",
       "      <td>1953-05-15T04:00:00.000Z</td>\n",
       "      <td>1953</td>\n",
       "      <td>Tornado</td>\n",
       "      <td>TORNADO &amp; HEAVY RAINFALL</td>\n",
       "      <td>0</td>\n",
       "      <td>1</td>\n",
       "      <td>1</td>\n",
       "      <td>1</td>\n",
       "      <td>1953-05-15T04:00:00.000Z</td>\n",
       "      <td>1953-05-15T04:00:00.000Z</td>\n",
       "      <td>1958-01-01T05:00:00.000Z</td>\n",
       "      <td>48</td>\n",
       "      <td>0</td>\n",
       "      <td>0</td>\n",
       "      <td>Statewide</td>\n",
       "      <td>53003</td>\n",
       "      <td>c5a1a4a1030d6730d9c562cdbe7c830f</td>\n",
       "      <td>2020-10-05T14:21:20.696Z</td>\n",
       "      <td>5f7b2be031a8c6681cfb4345</td>\n",
       "    </tr>\n",
       "    <tr>\n",
       "      <td>2</td>\n",
       "      <td>DR-5-MT</td>\n",
       "      <td>5</td>\n",
       "      <td>MT</td>\n",
       "      <td>DR</td>\n",
       "      <td>1953-06-06T04:00:00.000Z</td>\n",
       "      <td>1953</td>\n",
       "      <td>Flood</td>\n",
       "      <td>FLOODS</td>\n",
       "      <td>0</td>\n",
       "      <td>1</td>\n",
       "      <td>1</td>\n",
       "      <td>1</td>\n",
       "      <td>1953-06-06T04:00:00.000Z</td>\n",
       "      <td>1953-06-06T04:00:00.000Z</td>\n",
       "      <td>1955-12-01T05:00:00.000Z</td>\n",
       "      <td>30</td>\n",
       "      <td>0</td>\n",
       "      <td>0</td>\n",
       "      <td>Statewide</td>\n",
       "      <td>53006</td>\n",
       "      <td>59c5483387ca13c6a3c1bc692f4860e1</td>\n",
       "      <td>2020-10-05T14:21:20.698Z</td>\n",
       "      <td>5f7b2be031a8c6681cfb4348</td>\n",
       "    </tr>\n",
       "    <tr>\n",
       "      <td>3</td>\n",
       "      <td>DR-7-MA</td>\n",
       "      <td>7</td>\n",
       "      <td>MA</td>\n",
       "      <td>DR</td>\n",
       "      <td>1953-06-11T04:00:00.000Z</td>\n",
       "      <td>1953</td>\n",
       "      <td>Tornado</td>\n",
       "      <td>TORNADO</td>\n",
       "      <td>0</td>\n",
       "      <td>1</td>\n",
       "      <td>1</td>\n",
       "      <td>1</td>\n",
       "      <td>1953-06-11T04:00:00.000Z</td>\n",
       "      <td>1953-06-11T04:00:00.000Z</td>\n",
       "      <td>1956-06-01T04:00:00.000Z</td>\n",
       "      <td>25</td>\n",
       "      <td>0</td>\n",
       "      <td>0</td>\n",
       "      <td>Statewide</td>\n",
       "      <td>53009</td>\n",
       "      <td>6bab17e16984fc75f61a8445df3e95d9</td>\n",
       "      <td>2020-10-05T14:21:20.699Z</td>\n",
       "      <td>5f7b2be031a8c6681cfb434b</td>\n",
       "    </tr>\n",
       "    <tr>\n",
       "      <td>4</td>\n",
       "      <td>DR-8-IA</td>\n",
       "      <td>8</td>\n",
       "      <td>IA</td>\n",
       "      <td>DR</td>\n",
       "      <td>1953-06-11T04:00:00.000Z</td>\n",
       "      <td>1953</td>\n",
       "      <td>Flood</td>\n",
       "      <td>FLOOD</td>\n",
       "      <td>0</td>\n",
       "      <td>1</td>\n",
       "      <td>1</td>\n",
       "      <td>1</td>\n",
       "      <td>1953-06-11T04:00:00.000Z</td>\n",
       "      <td>1953-06-11T04:00:00.000Z</td>\n",
       "      <td>1955-11-01T05:00:00.000Z</td>\n",
       "      <td>19</td>\n",
       "      <td>0</td>\n",
       "      <td>0</td>\n",
       "      <td>Statewide</td>\n",
       "      <td>53008</td>\n",
       "      <td>e258e9dd25fac73939f59c8ffb5308f5</td>\n",
       "      <td>2020-10-05T14:21:20.700Z</td>\n",
       "      <td>5f7b2be031a8c6681cfb434e</td>\n",
       "    </tr>\n",
       "  </tbody>\n",
       "</table>\n",
       "</div>"
      ],
      "text/plain": [
       "  femaDeclarationString  ...                        id\n",
       "0               DR-1-GA  ...  5f7b2be031a8c6681cfb4342\n",
       "1               DR-2-TX  ...  5f7b2be031a8c6681cfb4345\n",
       "2               DR-5-MT  ...  5f7b2be031a8c6681cfb4348\n",
       "3               DR-7-MA  ...  5f7b2be031a8c6681cfb434b\n",
       "4               DR-8-IA  ...  5f7b2be031a8c6681cfb434e\n",
       "\n",
       "[5 rows x 23 columns]"
      ]
     },
     "execution_count": 3,
     "metadata": {},
     "output_type": "execute_result"
    }
   ],
   "source": [
    "\n",
    "#Import data and see the headers\n",
    "df = pd.read_csv(r\"DisasterDeclarationsSummaries.csv\")\n",
    "df.head()"
   ]
  },
  {
   "cell_type": "code",
   "execution_count": 4,
   "metadata": {},
   "outputs": [
    {
     "data": {
      "text/plain": [
       "(60440, 23)"
      ]
     },
     "execution_count": 4,
     "metadata": {},
     "output_type": "execute_result"
    }
   ],
   "source": [
    "# How big is this dataset?\n",
    "df.shape"
   ]
  },
  {
   "cell_type": "code",
   "execution_count": 5,
   "metadata": {},
   "outputs": [
    {
     "name": "stdout",
     "output_type": "stream",
     "text": [
      "<class 'pandas.core.frame.DataFrame'>\n",
      "RangeIndex: 60440 entries, 0 to 60439\n",
      "Data columns (total 23 columns):\n",
      "femaDeclarationString       60440 non-null object\n",
      "disasterNumber              60440 non-null int64\n",
      "state                       60440 non-null object\n",
      "declarationType             60440 non-null object\n",
      "declarationDate             60440 non-null object\n",
      "fyDeclared                  60440 non-null int64\n",
      "incidentType                60440 non-null object\n",
      "declarationTitle            60440 non-null object\n",
      "ihProgramDeclared           60440 non-null int64\n",
      "iaProgramDeclared           60440 non-null int64\n",
      "paProgramDeclared           60440 non-null int64\n",
      "hmProgramDeclared           60440 non-null int64\n",
      "incidentBeginDate           60440 non-null object\n",
      "incidentEndDate             52339 non-null object\n",
      "disasterCloseoutDate        43789 non-null object\n",
      "fipsStateCode               60440 non-null int64\n",
      "fipsCountyCode              60440 non-null int64\n",
      "placeCode                   60440 non-null int64\n",
      "designatedArea              60440 non-null object\n",
      "declarationRequestNumber    60440 non-null int64\n",
      "hash                        60440 non-null object\n",
      "lastRefresh                 60440 non-null object\n",
      "id                          60440 non-null object\n",
      "dtypes: int64(10), object(13)\n",
      "memory usage: 10.6+ MB\n"
     ]
    }
   ],
   "source": [
    "# Looking to make sure out df is the correct datatypes\n",
    "df.info()"
   ]
  },
  {
   "cell_type": "code",
   "execution_count": 6,
   "metadata": {},
   "outputs": [
    {
     "data": {
      "text/html": [
       "<div>\n",
       "<style scoped>\n",
       "    .dataframe tbody tr th:only-of-type {\n",
       "        vertical-align: middle;\n",
       "    }\n",
       "\n",
       "    .dataframe tbody tr th {\n",
       "        vertical-align: top;\n",
       "    }\n",
       "\n",
       "    .dataframe thead th {\n",
       "        text-align: right;\n",
       "    }\n",
       "</style>\n",
       "<table border=\"1\" class=\"dataframe\">\n",
       "  <thead>\n",
       "    <tr style=\"text-align: right;\">\n",
       "      <th></th>\n",
       "      <th>disasterNumber</th>\n",
       "      <th>fyDeclared</th>\n",
       "      <th>ihProgramDeclared</th>\n",
       "      <th>iaProgramDeclared</th>\n",
       "      <th>paProgramDeclared</th>\n",
       "      <th>hmProgramDeclared</th>\n",
       "      <th>fipsStateCode</th>\n",
       "      <th>fipsCountyCode</th>\n",
       "      <th>placeCode</th>\n",
       "      <th>declarationRequestNumber</th>\n",
       "    </tr>\n",
       "  </thead>\n",
       "  <tbody>\n",
       "    <tr>\n",
       "      <td>count</td>\n",
       "      <td>60440.000</td>\n",
       "      <td>60440.000</td>\n",
       "      <td>60440.000</td>\n",
       "      <td>60440.000</td>\n",
       "      <td>60440.000</td>\n",
       "      <td>60440.000</td>\n",
       "      <td>60440.000</td>\n",
       "      <td>60440.000</td>\n",
       "      <td>60440.000</td>\n",
       "      <td>60440.000</td>\n",
       "    </tr>\n",
       "    <tr>\n",
       "      <td>mean</td>\n",
       "      <td>2474.543</td>\n",
       "      <td>2003.302</td>\n",
       "      <td>0.165</td>\n",
       "      <td>0.284</td>\n",
       "      <td>0.932</td>\n",
       "      <td>0.354</td>\n",
       "      <td>31.534</td>\n",
       "      <td>97.294</td>\n",
       "      <td>96489.649</td>\n",
       "      <td>35849.570</td>\n",
       "    </tr>\n",
       "    <tr>\n",
       "      <td>std</td>\n",
       "      <td>1376.038</td>\n",
       "      <td>14.591</td>\n",
       "      <td>0.372</td>\n",
       "      <td>0.451</td>\n",
       "      <td>0.252</td>\n",
       "      <td>0.478</td>\n",
       "      <td>16.601</td>\n",
       "      <td>102.835</td>\n",
       "      <td>13747.325</td>\n",
       "      <td>35830.568</td>\n",
       "    </tr>\n",
       "    <tr>\n",
       "      <td>min</td>\n",
       "      <td>1.000</td>\n",
       "      <td>1953.000</td>\n",
       "      <td>0.000</td>\n",
       "      <td>0.000</td>\n",
       "      <td>0.000</td>\n",
       "      <td>0.000</td>\n",
       "      <td>1.000</td>\n",
       "      <td>0.000</td>\n",
       "      <td>0.000</td>\n",
       "      <td>3.000</td>\n",
       "    </tr>\n",
       "    <tr>\n",
       "      <td>25%</td>\n",
       "      <td>1249.000</td>\n",
       "      <td>1996.000</td>\n",
       "      <td>0.000</td>\n",
       "      <td>0.000</td>\n",
       "      <td>1.000</td>\n",
       "      <td>0.000</td>\n",
       "      <td>19.000</td>\n",
       "      <td>31.000</td>\n",
       "      <td>99029.000</td>\n",
       "      <td>8099.000</td>\n",
       "    </tr>\n",
       "    <tr>\n",
       "      <td>50%</td>\n",
       "      <td>2704.500</td>\n",
       "      <td>2005.000</td>\n",
       "      <td>0.000</td>\n",
       "      <td>0.000</td>\n",
       "      <td>1.000</td>\n",
       "      <td>0.000</td>\n",
       "      <td>30.000</td>\n",
       "      <td>75.000</td>\n",
       "      <td>99073.000</td>\n",
       "      <td>19026.000</td>\n",
       "    </tr>\n",
       "    <tr>\n",
       "      <td>75%</td>\n",
       "      <td>3458.000</td>\n",
       "      <td>2016.000</td>\n",
       "      <td>0.000</td>\n",
       "      <td>1.000</td>\n",
       "      <td>1.000</td>\n",
       "      <td>1.000</td>\n",
       "      <td>46.000</td>\n",
       "      <td>127.000</td>\n",
       "      <td>99123.000</td>\n",
       "      <td>76022.000</td>\n",
       "    </tr>\n",
       "    <tr>\n",
       "      <td>max</td>\n",
       "      <td>5383.000</td>\n",
       "      <td>2021.000</td>\n",
       "      <td>1.000</td>\n",
       "      <td>1.000</td>\n",
       "      <td>1.000</td>\n",
       "      <td>1.000</td>\n",
       "      <td>78.000</td>\n",
       "      <td>840.000</td>\n",
       "      <td>99507.000</td>\n",
       "      <td>99159.000</td>\n",
       "    </tr>\n",
       "  </tbody>\n",
       "</table>\n",
       "</div>"
      ],
      "text/plain": [
       "       disasterNumber  fyDeclared  ...  placeCode  declarationRequestNumber\n",
       "count       60440.000   60440.000  ...  60440.000                 60440.000\n",
       "mean         2474.543    2003.302  ...  96489.649                 35849.570\n",
       "std          1376.038      14.591  ...  13747.325                 35830.568\n",
       "min             1.000    1953.000  ...      0.000                     3.000\n",
       "25%          1249.000    1996.000  ...  99029.000                  8099.000\n",
       "50%          2704.500    2005.000  ...  99073.000                 19026.000\n",
       "75%          3458.000    2016.000  ...  99123.000                 76022.000\n",
       "max          5383.000    2021.000  ...  99507.000                 99159.000\n",
       "\n",
       "[8 rows x 10 columns]"
      ]
     },
     "execution_count": 6,
     "metadata": {},
     "output_type": "execute_result"
    }
   ],
   "source": [
    "df.describe()"
   ]
  },
  {
   "cell_type": "code",
   "execution_count": 7,
   "metadata": {},
   "outputs": [
    {
     "data": {
      "text/plain": [
       "femaDeclarationString           0\n",
       "disasterNumber                  0\n",
       "state                           0\n",
       "declarationType                 0\n",
       "declarationDate                 0\n",
       "fyDeclared                      0\n",
       "incidentType                    0\n",
       "declarationTitle                0\n",
       "ihProgramDeclared               0\n",
       "iaProgramDeclared               0\n",
       "paProgramDeclared               0\n",
       "hmProgramDeclared               0\n",
       "incidentBeginDate               0\n",
       "incidentEndDate              8101\n",
       "disasterCloseoutDate        16651\n",
       "fipsStateCode                   0\n",
       "fipsCountyCode                  0\n",
       "placeCode                       0\n",
       "designatedArea                  0\n",
       "declarationRequestNumber        0\n",
       "hash                            0\n",
       "lastRefresh                     0\n",
       "id                              0\n",
       "dtype: int64"
      ]
     },
     "execution_count": 7,
     "metadata": {},
     "output_type": "execute_result"
    }
   ],
   "source": [
    "# Do we have nulls?\n",
    "df.isna().sum()"
   ]
  },
  {
   "cell_type": "code",
   "execution_count": 8,
   "metadata": {},
   "outputs": [
    {
     "name": "stdout",
     "output_type": "stream",
     "text": [
      "0\n"
     ]
    },
    {
     "data": {
      "text/html": [
       "<div>\n",
       "<style scoped>\n",
       "    .dataframe tbody tr th:only-of-type {\n",
       "        vertical-align: middle;\n",
       "    }\n",
       "\n",
       "    .dataframe tbody tr th {\n",
       "        vertical-align: top;\n",
       "    }\n",
       "\n",
       "    .dataframe thead th {\n",
       "        text-align: right;\n",
       "    }\n",
       "</style>\n",
       "<table border=\"1\" class=\"dataframe\">\n",
       "  <thead>\n",
       "    <tr style=\"text-align: right;\">\n",
       "      <th></th>\n",
       "      <th>femaDeclarationString</th>\n",
       "      <th>disasterNumber</th>\n",
       "      <th>state</th>\n",
       "      <th>declarationType</th>\n",
       "      <th>declarationDate</th>\n",
       "      <th>fyDeclared</th>\n",
       "      <th>incidentType</th>\n",
       "      <th>declarationTitle</th>\n",
       "      <th>ihProgramDeclared</th>\n",
       "      <th>iaProgramDeclared</th>\n",
       "      <th>paProgramDeclared</th>\n",
       "      <th>hmProgramDeclared</th>\n",
       "      <th>incidentBeginDate</th>\n",
       "      <th>incidentEndDate</th>\n",
       "      <th>disasterCloseoutDate</th>\n",
       "      <th>fipsStateCode</th>\n",
       "      <th>fipsCountyCode</th>\n",
       "      <th>placeCode</th>\n",
       "      <th>designatedArea</th>\n",
       "      <th>declarationRequestNumber</th>\n",
       "      <th>hash</th>\n",
       "      <th>lastRefresh</th>\n",
       "      <th>id</th>\n",
       "    </tr>\n",
       "  </thead>\n",
       "  <tbody>\n",
       "  </tbody>\n",
       "</table>\n",
       "</div>"
      ],
      "text/plain": [
       "Empty DataFrame\n",
       "Columns: [femaDeclarationString, disasterNumber, state, declarationType, declarationDate, fyDeclared, incidentType, declarationTitle, ihProgramDeclared, iaProgramDeclared, paProgramDeclared, hmProgramDeclared, incidentBeginDate, incidentEndDate, disasterCloseoutDate, fipsStateCode, fipsCountyCode, placeCode, designatedArea, declarationRequestNumber, hash, lastRefresh, id]\n",
       "Index: []"
      ]
     },
     "execution_count": 8,
     "metadata": {},
     "output_type": "execute_result"
    }
   ],
   "source": [
    "# Do we have any duplicate rows?\n",
    "duplicates = df[df.duplicated()]\n",
    "print(len(duplicates))\n",
    "duplicates.head()\n",
    "# None"
   ]
  },
  {
   "cell_type": "code",
   "execution_count": 9,
   "metadata": {},
   "outputs": [],
   "source": [
    "# Clean the nulls\n",
    "# incidentEndDate and disasterCloseoutDate are the only values with nulls"
   ]
  },
  {
   "cell_type": "code",
   "execution_count": 10,
   "metadata": {},
   "outputs": [
    {
     "data": {
      "text/plain": [
       "(10, -0.5)"
      ]
     },
     "execution_count": 10,
     "metadata": {},
     "output_type": "execute_result"
    },
    {
     "data": {
      "image/png": "[encoded data removed]",
      "text/plain": [
       "<Figure size 864x864 with 2 Axes>"
      ]
     },
     "metadata": {
      "needs_background": "light"
     },
     "output_type": "display_data"
    }
   ],
   "source": [
    "fig, ax = plt.subplots(figsize=(12,12))\n",
    "sns.heatmap(df.corr().abs(), center=0, annot=True, linewidths=1.5, cmap='coolwarm');\n",
    "ax.set_ylim(len(df.corr())-0, -0.5)"
   ]
  },
  {
   "cell_type": "markdown",
   "metadata": {},
   "source": [
    "# Scrub"
   ]
  },
  {
   "cell_type": "code",
   "execution_count": 11,
   "metadata": {},
   "outputs": [
    {
     "data": {
      "text/plain": [
       "DR-4522-ME    437\n",
       "DR-1239-TX    257\n",
       "DR-4485-TX    257\n",
       "EM-3458-TX    257\n",
       "EM-3261-TX    255\n",
       "             ... \n",
       "FM-2547-CA      1\n",
       "FM-2806-TX      1\n",
       "DR-1449-FM      1\n",
       "FM-2807-TX      1\n",
       "FM-2098-CO      1\n",
       "Name: femaDeclarationString, Length: 4497, dtype: int64"
      ]
     },
     "execution_count": 11,
     "metadata": {},
     "output_type": "execute_result"
    }
   ],
   "source": [
    "df['femaDeclarationString'].value_counts()"
   ]
  },
  {
   "cell_type": "code",
   "execution_count": 12,
   "metadata": {},
   "outputs": [
    {
     "data": {
      "text/plain": [
       "4522    437\n",
       "3458    257\n",
       "4485    257\n",
       "1239    257\n",
       "3261    255\n",
       "       ... \n",
       "2993      1\n",
       "5010      1\n",
       "2961      1\n",
       "2929      1\n",
       "2049      1\n",
       "Name: disasterNumber, Length: 4497, dtype: int64"
      ]
     },
     "execution_count": 12,
     "metadata": {},
     "output_type": "execute_result"
    }
   ],
   "source": [
    "df['disasterNumber'].value_counts()"
   ]
  },
  {
   "cell_type": "code",
   "execution_count": 13,
   "metadata": {},
   "outputs": [
    {
     "data": {
      "text/plain": [
       "TX    4651\n",
       "MO    2670\n",
       "VA    2460\n",
       "KY    2416\n",
       "OK    2278\n",
       "GA    2239\n",
       "LA    2131\n",
       "FL    2027\n",
       "NC    1965\n",
       "PR    1825\n",
       "IA    1823\n",
       "MS    1691\n",
       "KS    1682\n",
       "AL    1619\n",
       "AR    1588\n",
       "TN    1522\n",
       "MN    1498\n",
       "IN    1451\n",
       "CA    1443\n",
       "NE    1423\n",
       "NY    1421\n",
       "ND    1301\n",
       "OH    1281\n",
       "IL    1268\n",
       "SD    1251\n",
       "PA    1226\n",
       "WV    1218\n",
       "ME    1004\n",
       "WI     891\n",
       "WA     862\n",
       "SC     855\n",
       "MI     791\n",
       "CO     642\n",
       "MT     586\n",
       "NJ     567\n",
       "OR     562\n",
       "NM     495\n",
       "MD     445\n",
       "MA     389\n",
       "ID     346\n",
       "AZ     323\n",
       "VT     314\n",
       "NH     294\n",
       "NV     271\n",
       "AK     247\n",
       "UT     241\n",
       "CT     228\n",
       "WY     128\n",
       "RI     102\n",
       "HI      95\n",
       "VI      79\n",
       "AS      75\n",
       "MP      62\n",
       "MH      53\n",
       "DE      52\n",
       "FM      31\n",
       "DC      22\n",
       "GU      19\n",
       "PW       1\n",
       "Name: state, dtype: int64"
      ]
     },
     "execution_count": 13,
     "metadata": {},
     "output_type": "execute_result"
    }
   ],
   "source": [
    "df['state'].value_counts()"
   ]
  },
  {
   "cell_type": "code",
   "execution_count": 14,
   "metadata": {},
   "outputs": [
    {
     "data": {
      "text/plain": [
       "DR    40964\n",
       "EM    17696\n",
       "FM     1780\n",
       "Name: declarationType, dtype: int64"
      ]
     },
     "execution_count": 14,
     "metadata": {},
     "output_type": "execute_result"
    }
   ],
   "source": [
    "df['declarationType'].value_counts()"
   ]
  },
  {
   "cell_type": "code",
   "execution_count": 15,
   "metadata": {
    "scrolled": true
   },
   "outputs": [
    {
     "data": {
      "text/plain": [
       "2020-03-13T20:00:00.000Z    2876\n",
       "2020-03-13T19:00:00.000Z     566\n",
       "1996-01-13T05:00:00.000Z     453\n",
       "2020-04-04T17:15:00.000Z     437\n",
       "2005-09-13T17:34:00.000Z     433\n",
       "                            ... \n",
       "1955-08-15T04:00:00.000Z       1\n",
       "1999-09-01T01:25:00.000Z       1\n",
       "2016-11-29T04:00:00.000Z       1\n",
       "2009-03-06T01:04:00.000Z       1\n",
       "2020-10-26T19:59:00.000Z       1\n",
       "Name: declarationDate, Length: 3849, dtype: int64"
      ]
     },
     "execution_count": 15,
     "metadata": {},
     "output_type": "execute_result"
    }
   ],
   "source": [
    "df['declarationDate'].value_counts()"
   ]
  },
  {
   "cell_type": "code",
   "execution_count": 16,
   "metadata": {},
   "outputs": [],
   "source": [
    "df['declarationDate'] = df['declarationDate'].str.split('T').str[0]"
   ]
  },
  {
   "cell_type": "code",
   "execution_count": 17,
   "metadata": {
    "scrolled": true
   },
   "outputs": [
    {
     "data": {
      "text/plain": [
       "2020-03-13    3683\n",
       "2005-09-11     777\n",
       "2020-04-04     738\n",
       "2005-09-05     646\n",
       "2005-09-13     615\n",
       "              ... \n",
       "1997-12-24       1\n",
       "1982-08-19       1\n",
       "2017-02-13       1\n",
       "2008-06-21       1\n",
       "1994-04-23       1\n",
       "Name: declarationDate, Length: 3118, dtype: int64"
      ]
     },
     "execution_count": 17,
     "metadata": {},
     "output_type": "execute_result"
    }
   ],
   "source": [
    "df['declarationDate'].value_counts()"
   ]
  },
  {
   "cell_type": "code",
   "execution_count": 18,
   "metadata": {},
   "outputs": [],
   "source": [
    "df['declarationDate'] = pd.to_datetime(df['declarationDate'])"
   ]
  },
  {
   "cell_type": "code",
   "execution_count": 19,
   "metadata": {},
   "outputs": [],
   "source": [
    "# df['Declaration Day of Week'] = df['declarationDate'].dt.day_name()"
   ]
  },
  {
   "cell_type": "code",
   "execution_count": 20,
   "metadata": {},
   "outputs": [],
   "source": [
    "#df['Declaration Year'] = df['declarationDate'].dt.year\n",
    "#df['Declaration Month'] = df['declarationDate'].dt.month\n",
    "#df['Declaration Day'] = df['declarationDate'].dt.day"
   ]
  },
  {
   "cell_type": "code",
   "execution_count": 21,
   "metadata": {},
   "outputs": [],
   "source": [
    "#df = df.drop(columns=['declarationDate'], axis=1)"
   ]
  },
  {
   "cell_type": "code",
   "execution_count": 22,
   "metadata": {},
   "outputs": [
    {
     "data": {
      "text/html": [
       "<div>\n",
       "<style scoped>\n",
       "    .dataframe tbody tr th:only-of-type {\n",
       "        vertical-align: middle;\n",
       "    }\n",
       "\n",
       "    .dataframe tbody tr th {\n",
       "        vertical-align: top;\n",
       "    }\n",
       "\n",
       "    .dataframe thead th {\n",
       "        text-align: right;\n",
       "    }\n",
       "</style>\n",
       "<table border=\"1\" class=\"dataframe\">\n",
       "  <thead>\n",
       "    <tr style=\"text-align: right;\">\n",
       "      <th></th>\n",
       "      <th>femaDeclarationString</th>\n",
       "      <th>disasterNumber</th>\n",
       "      <th>state</th>\n",
       "      <th>declarationType</th>\n",
       "      <th>declarationDate</th>\n",
       "      <th>fyDeclared</th>\n",
       "      <th>incidentType</th>\n",
       "      <th>declarationTitle</th>\n",
       "      <th>ihProgramDeclared</th>\n",
       "      <th>iaProgramDeclared</th>\n",
       "      <th>paProgramDeclared</th>\n",
       "      <th>hmProgramDeclared</th>\n",
       "      <th>incidentBeginDate</th>\n",
       "      <th>incidentEndDate</th>\n",
       "      <th>disasterCloseoutDate</th>\n",
       "      <th>fipsStateCode</th>\n",
       "      <th>fipsCountyCode</th>\n",
       "      <th>placeCode</th>\n",
       "      <th>designatedArea</th>\n",
       "      <th>declarationRequestNumber</th>\n",
       "      <th>hash</th>\n",
       "      <th>lastRefresh</th>\n",
       "      <th>id</th>\n",
       "    </tr>\n",
       "  </thead>\n",
       "  <tbody>\n",
       "    <tr>\n",
       "      <td>0</td>\n",
       "      <td>DR-1-GA</td>\n",
       "      <td>1</td>\n",
       "      <td>GA</td>\n",
       "      <td>DR</td>\n",
       "      <td>1953-05-02</td>\n",
       "      <td>1953</td>\n",
       "      <td>Tornado</td>\n",
       "      <td>TORNADO</td>\n",
       "      <td>0</td>\n",
       "      <td>1</td>\n",
       "      <td>1</td>\n",
       "      <td>1</td>\n",
       "      <td>1953-05-02T04:00:00.000Z</td>\n",
       "      <td>1953-05-02T04:00:00.000Z</td>\n",
       "      <td>1954-06-01T04:00:00.000Z</td>\n",
       "      <td>13</td>\n",
       "      <td>0</td>\n",
       "      <td>0</td>\n",
       "      <td>Statewide</td>\n",
       "      <td>53013</td>\n",
       "      <td>2f28952448e0a666d367ca3f854c81ec</td>\n",
       "      <td>2020-10-05T14:21:20.694Z</td>\n",
       "      <td>5f7b2be031a8c6681cfb4342</td>\n",
       "    </tr>\n",
       "    <tr>\n",
       "      <td>1</td>\n",
       "      <td>DR-2-TX</td>\n",
       "      <td>2</td>\n",
       "      <td>TX</td>\n",
       "      <td>DR</td>\n",
       "      <td>1953-05-15</td>\n",
       "      <td>1953</td>\n",
       "      <td>Tornado</td>\n",
       "      <td>TORNADO &amp; HEAVY RAINFALL</td>\n",
       "      <td>0</td>\n",
       "      <td>1</td>\n",
       "      <td>1</td>\n",
       "      <td>1</td>\n",
       "      <td>1953-05-15T04:00:00.000Z</td>\n",
       "      <td>1953-05-15T04:00:00.000Z</td>\n",
       "      <td>1958-01-01T05:00:00.000Z</td>\n",
       "      <td>48</td>\n",
       "      <td>0</td>\n",
       "      <td>0</td>\n",
       "      <td>Statewide</td>\n",
       "      <td>53003</td>\n",
       "      <td>c5a1a4a1030d6730d9c562cdbe7c830f</td>\n",
       "      <td>2020-10-05T14:21:20.696Z</td>\n",
       "      <td>5f7b2be031a8c6681cfb4345</td>\n",
       "    </tr>\n",
       "    <tr>\n",
       "      <td>2</td>\n",
       "      <td>DR-5-MT</td>\n",
       "      <td>5</td>\n",
       "      <td>MT</td>\n",
       "      <td>DR</td>\n",
       "      <td>1953-06-06</td>\n",
       "      <td>1953</td>\n",
       "      <td>Flood</td>\n",
       "      <td>FLOODS</td>\n",
       "      <td>0</td>\n",
       "      <td>1</td>\n",
       "      <td>1</td>\n",
       "      <td>1</td>\n",
       "      <td>1953-06-06T04:00:00.000Z</td>\n",
       "      <td>1953-06-06T04:00:00.000Z</td>\n",
       "      <td>1955-12-01T05:00:00.000Z</td>\n",
       "      <td>30</td>\n",
       "      <td>0</td>\n",
       "      <td>0</td>\n",
       "      <td>Statewide</td>\n",
       "      <td>53006</td>\n",
       "      <td>59c5483387ca13c6a3c1bc692f4860e1</td>\n",
       "      <td>2020-10-05T14:21:20.698Z</td>\n",
       "      <td>5f7b2be031a8c6681cfb4348</td>\n",
       "    </tr>\n",
       "    <tr>\n",
       "      <td>3</td>\n",
       "      <td>DR-7-MA</td>\n",
       "      <td>7</td>\n",
       "      <td>MA</td>\n",
       "      <td>DR</td>\n",
       "      <td>1953-06-11</td>\n",
       "      <td>1953</td>\n",
       "      <td>Tornado</td>\n",
       "      <td>TORNADO</td>\n",
       "      <td>0</td>\n",
       "      <td>1</td>\n",
       "      <td>1</td>\n",
       "      <td>1</td>\n",
       "      <td>1953-06-11T04:00:00.000Z</td>\n",
       "      <td>1953-06-11T04:00:00.000Z</td>\n",
       "      <td>1956-06-01T04:00:00.000Z</td>\n",
       "      <td>25</td>\n",
       "      <td>0</td>\n",
       "      <td>0</td>\n",
       "      <td>Statewide</td>\n",
       "      <td>53009</td>\n",
       "      <td>6bab17e16984fc75f61a8445df3e95d9</td>\n",
       "      <td>2020-10-05T14:21:20.699Z</td>\n",
       "      <td>5f7b2be031a8c6681cfb434b</td>\n",
       "    </tr>\n",
       "    <tr>\n",
       "      <td>4</td>\n",
       "      <td>DR-8-IA</td>\n",
       "      <td>8</td>\n",
       "      <td>IA</td>\n",
       "      <td>DR</td>\n",
       "      <td>1953-06-11</td>\n",
       "      <td>1953</td>\n",
       "      <td>Flood</td>\n",
       "      <td>FLOOD</td>\n",
       "      <td>0</td>\n",
       "      <td>1</td>\n",
       "      <td>1</td>\n",
       "      <td>1</td>\n",
       "      <td>1953-06-11T04:00:00.000Z</td>\n",
       "      <td>1953-06-11T04:00:00.000Z</td>\n",
       "      <td>1955-11-01T05:00:00.000Z</td>\n",
       "      <td>19</td>\n",
       "      <td>0</td>\n",
       "      <td>0</td>\n",
       "      <td>Statewide</td>\n",
       "      <td>53008</td>\n",
       "      <td>e258e9dd25fac73939f59c8ffb5308f5</td>\n",
       "      <td>2020-10-05T14:21:20.700Z</td>\n",
       "      <td>5f7b2be031a8c6681cfb434e</td>\n",
       "    </tr>\n",
       "  </tbody>\n",
       "</table>\n",
       "</div>"
      ],
      "text/plain": [
       "  femaDeclarationString  ...                        id\n",
       "0               DR-1-GA  ...  5f7b2be031a8c6681cfb4342\n",
       "1               DR-2-TX  ...  5f7b2be031a8c6681cfb4345\n",
       "2               DR-5-MT  ...  5f7b2be031a8c6681cfb4348\n",
       "3               DR-7-MA  ...  5f7b2be031a8c6681cfb434b\n",
       "4               DR-8-IA  ...  5f7b2be031a8c6681cfb434e\n",
       "\n",
       "[5 rows x 23 columns]"
      ]
     },
     "execution_count": 22,
     "metadata": {},
     "output_type": "execute_result"
    }
   ],
   "source": [
    "df.head()"
   ]
  },
  {
   "cell_type": "code",
   "execution_count": 23,
   "metadata": {
    "scrolled": false
   },
   "outputs": [
    {
     "data": {
      "text/plain": [
       "2020    9243\n",
       "2005    4661\n",
       "2011    2684\n",
       "2008    2456\n",
       "2019    1902\n",
       "        ... \n",
       "1960      13\n",
       "1961      11\n",
       "1953      10\n",
       "1959       7\n",
       "1958       6\n",
       "Name: fyDeclared, Length: 69, dtype: int64"
      ]
     },
     "execution_count": 23,
     "metadata": {},
     "output_type": "execute_result"
    }
   ],
   "source": [
    "df['fyDeclared'].value_counts()"
   ]
  },
  {
   "cell_type": "code",
   "execution_count": 24,
   "metadata": {},
   "outputs": [
    {
     "data": {
      "text/plain": [
       "Severe Storm(s)     16957\n",
       "Hurricane           11890\n",
       "Flood               10389\n",
       "Biological           7611\n",
       "Snow                 3659\n",
       "Fire                 3488\n",
       "Severe Ice Storm     1990\n",
       "Tornado              1464\n",
       "Drought              1292\n",
       "Coastal Storm         570\n",
       "Freezing              301\n",
       "Other                 297\n",
       "Earthquake            226\n",
       "Typhoon               130\n",
       "Volcano                51\n",
       "Fishing Losses         42\n",
       "Mud/Landslide          31\n",
       "Dam/Levee Break        13\n",
       "Toxic Substances        9\n",
       "Tsunami                 9\n",
       "Chemical                9\n",
       "Human Cause             7\n",
       "Terrorist               5\n",
       "Name: incidentType, dtype: int64"
      ]
     },
     "execution_count": 24,
     "metadata": {},
     "output_type": "execute_result"
    }
   ],
   "source": [
    "df['incidentType'].value_counts()"
   ]
  },
  {
   "cell_type": "code",
   "execution_count": 25,
   "metadata": {
    "scrolled": false
   },
   "outputs": [
    {
     "data": {
      "text/plain": [
       "COVID-19 PANDEMIC               3928\n",
       "SEVERE STORMS AND FLOODING      3810\n",
       "COVID-19                        3683\n",
       "SEVERE STORMS & FLOODING        3387\n",
       "HURRICANE KATRINA EVACUATION    2602\n",
       "                                ... \n",
       "DOLAN FIRE                         1\n",
       "BENTON CITY FIRE                   1\n",
       "MCKINLEY FIRE                      1\n",
       "WHITE SALMON FIRE                  1\n",
       "ALMEDA GLENDOWER FIRE              1\n",
       "Name: declarationTitle, Length: 2136, dtype: int64"
      ]
     },
     "execution_count": 25,
     "metadata": {},
     "output_type": "execute_result"
    }
   ],
   "source": [
    "df['declarationTitle'].value_counts()"
   ]
  },
  {
   "cell_type": "code",
   "execution_count": 26,
   "metadata": {},
   "outputs": [
    {
     "data": {
      "text/plain": [
       "COVID-19 PANDEMIC                         7611\n",
       "SEVERE STORMS AND FLOODING                7197\n",
       "HURRICANE KATRINA EVACUATION              2602\n",
       "SEVERE WINTER STORM                       1935\n",
       "SEVERE STORMS, TORNADOES, AND FLOODING    1849\n",
       "                                          ... \n",
       "BENTON CITY FIRE                             1\n",
       "MCKINLEY FIRE                                1\n",
       "WHITE SALMON FIRE                            1\n",
       "DOLAN FIRE                                   1\n",
       "ALMEDA GLENDOWER FIRE                        1\n",
       "Name: declarationTitle, Length: 2134, dtype: int64"
      ]
     },
     "execution_count": 26,
     "metadata": {},
     "output_type": "execute_result"
    }
   ],
   "source": [
    "# We can combine COVID into one category as it's listed as two different categories\n",
    "df['declarationTitle'].replace('COVID-19', 'COVID-19 PANDEMIC', inplace=True)\n",
    "df['declarationTitle'].replace('SEVERE STORMS & FLOODING', 'SEVERE STORMS AND FLOODING', inplace=True)\n",
    "df['declarationTitle'].value_counts()"
   ]
  },
  {
   "cell_type": "code",
   "execution_count": 27,
   "metadata": {},
   "outputs": [],
   "source": [
    "#df = df.set_index(\"declarationTitle\")\n",
    "#df= df.drop('COVID-19 PANDEMIC', axis=0)"
   ]
  },
  {
   "cell_type": "code",
   "execution_count": 28,
   "metadata": {},
   "outputs": [
    {
     "data": {
      "text/plain": [
       "0    50440\n",
       "1    10000\n",
       "Name: ihProgramDeclared, dtype: int64"
      ]
     },
     "execution_count": 28,
     "metadata": {},
     "output_type": "execute_result"
    }
   ],
   "source": [
    "df['ihProgramDeclared'].value_counts()"
   ]
  },
  {
   "cell_type": "code",
   "execution_count": 29,
   "metadata": {},
   "outputs": [
    {
     "data": {
      "text/plain": [
       "0    43253\n",
       "1    17187\n",
       "Name: iaProgramDeclared, dtype: int64"
      ]
     },
     "execution_count": 29,
     "metadata": {},
     "output_type": "execute_result"
    }
   ],
   "source": [
    "df['iaProgramDeclared'].value_counts()"
   ]
  },
  {
   "cell_type": "code",
   "execution_count": 30,
   "metadata": {},
   "outputs": [
    {
     "data": {
      "text/plain": [
       "1    56309\n",
       "0     4131\n",
       "Name: paProgramDeclared, dtype: int64"
      ]
     },
     "execution_count": 30,
     "metadata": {},
     "output_type": "execute_result"
    }
   ],
   "source": [
    "df['paProgramDeclared'].value_counts()"
   ]
  },
  {
   "cell_type": "code",
   "execution_count": 31,
   "metadata": {},
   "outputs": [
    {
     "data": {
      "text/plain": [
       "0    39029\n",
       "1    21411\n",
       "Name: hmProgramDeclared, dtype: int64"
      ]
     },
     "execution_count": 31,
     "metadata": {},
     "output_type": "execute_result"
    }
   ],
   "source": [
    "df['hmProgramDeclared'].value_counts()"
   ]
  },
  {
   "cell_type": "code",
   "execution_count": 32,
   "metadata": {
    "scrolled": true
   },
   "outputs": [
    {
     "data": {
      "text/plain": [
       "2020-01-20T19:00:00.000Z    7310\n",
       "2005-08-29T04:00:00.000Z    1959\n",
       "1993-03-13T05:00:00.000Z     771\n",
       "1996-01-06T05:00:00.000Z     415\n",
       "2005-11-27T05:00:00.000Z     380\n",
       "                            ... \n",
       "1987-07-16T04:00:00.000Z       1\n",
       "1985-08-07T04:00:00.000Z       1\n",
       "2014-09-07T04:00:00.000Z       1\n",
       "2009-08-28T00:00:00.000Z       1\n",
       "1961-03-31T05:00:00.000Z       1\n",
       "Name: incidentBeginDate, Length: 3364, dtype: int64"
      ]
     },
     "execution_count": 32,
     "metadata": {},
     "output_type": "execute_result"
    }
   ],
   "source": [
    "df['incidentBeginDate'].value_counts()"
   ]
  },
  {
   "cell_type": "code",
   "execution_count": 33,
   "metadata": {},
   "outputs": [],
   "source": [
    "df['incidentBeginDate'] = df['incidentBeginDate'].str.split('T').str[0]"
   ]
  },
  {
   "cell_type": "code",
   "execution_count": 34,
   "metadata": {},
   "outputs": [],
   "source": [
    "#df['incidentBeginDate'] = pd.to_datetime(df['incidentBeginDate'])"
   ]
  },
  {
   "cell_type": "code",
   "execution_count": 35,
   "metadata": {},
   "outputs": [],
   "source": [
    "#df['Begin Day of Week'] = df['incidentBeginDate'].dt.day_name()"
   ]
  },
  {
   "cell_type": "code",
   "execution_count": 36,
   "metadata": {},
   "outputs": [],
   "source": [
    "#df['Begin Incident Year'] = df['incidentBeginDate'].dt.year\n",
    "#df['Begin Incident Month'] = df['incidentBeginDate'].dt.month\n",
    "#df['Begin Incident Day'] = df['incidentBeginDate'].dt.day"
   ]
  },
  {
   "cell_type": "code",
   "execution_count": 37,
   "metadata": {},
   "outputs": [],
   "source": [
    "#df = df.drop(columns=['incidentBeginDate'], axis=1)\n",
    "#df.head()"
   ]
  },
  {
   "cell_type": "code",
   "execution_count": 38,
   "metadata": {
    "scrolled": true
   },
   "outputs": [
    {
     "data": {
      "text/plain": [
       "2005-10-01T12:55:00.000Z    2926\n",
       "1993-03-17T05:00:00.000Z     635\n",
       "1996-01-12T05:00:00.000Z     555\n",
       "2017-09-21T03:59:00.000Z     321\n",
       "2012-11-08T05:00:00.000Z     307\n",
       "                            ... \n",
       "1998-11-03T05:00:00.000Z       1\n",
       "2018-03-17T03:59:00.000Z       1\n",
       "2006-06-19T00:00:00.000Z       1\n",
       "2011-10-11T04:00:00.000Z       1\n",
       "2016-07-12T12:00:00.000Z       1\n",
       "Name: incidentEndDate, Length: 3174, dtype: int64"
      ]
     },
     "execution_count": 38,
     "metadata": {},
     "output_type": "execute_result"
    }
   ],
   "source": [
    "df['incidentEndDate'].value_counts()"
   ]
  },
  {
   "cell_type": "code",
   "execution_count": 39,
   "metadata": {},
   "outputs": [],
   "source": [
    "#df['incidentEndDate'] = df['incidentEndDate'].str.split('T').str[0]"
   ]
  },
  {
   "cell_type": "code",
   "execution_count": 40,
   "metadata": {},
   "outputs": [],
   "source": [
    "#df['incidentEndDate'] = pd.to_datetime(df['incidentEndDate'])"
   ]
  },
  {
   "cell_type": "code",
   "execution_count": 41,
   "metadata": {},
   "outputs": [],
   "source": [
    "#df['Incident End Day of Week'] = df['incidentEndDate'].dt.day_name()"
   ]
  },
  {
   "cell_type": "code",
   "execution_count": 42,
   "metadata": {},
   "outputs": [],
   "source": [
    "#df['Incident End Year'] = df['incidentEndDate'].dt.year\n",
    "#df['Incident End Month'] = df['incidentEndDate'].dt.month\n",
    "#df['Incident End Day'] = df['incidentEndDate'].dt.day"
   ]
  },
  {
   "cell_type": "code",
   "execution_count": 43,
   "metadata": {},
   "outputs": [
    {
     "data": {
      "text/html": [
       "<div>\n",
       "<style scoped>\n",
       "    .dataframe tbody tr th:only-of-type {\n",
       "        vertical-align: middle;\n",
       "    }\n",
       "\n",
       "    .dataframe tbody tr th {\n",
       "        vertical-align: top;\n",
       "    }\n",
       "\n",
       "    .dataframe thead th {\n",
       "        text-align: right;\n",
       "    }\n",
       "</style>\n",
       "<table border=\"1\" class=\"dataframe\">\n",
       "  <thead>\n",
       "    <tr style=\"text-align: right;\">\n",
       "      <th></th>\n",
       "      <th>femaDeclarationString</th>\n",
       "      <th>disasterNumber</th>\n",
       "      <th>state</th>\n",
       "      <th>declarationType</th>\n",
       "      <th>declarationDate</th>\n",
       "      <th>fyDeclared</th>\n",
       "      <th>incidentType</th>\n",
       "      <th>declarationTitle</th>\n",
       "      <th>ihProgramDeclared</th>\n",
       "      <th>iaProgramDeclared</th>\n",
       "      <th>paProgramDeclared</th>\n",
       "      <th>hmProgramDeclared</th>\n",
       "      <th>incidentBeginDate</th>\n",
       "      <th>incidentEndDate</th>\n",
       "      <th>disasterCloseoutDate</th>\n",
       "      <th>fipsStateCode</th>\n",
       "      <th>fipsCountyCode</th>\n",
       "      <th>placeCode</th>\n",
       "      <th>designatedArea</th>\n",
       "      <th>declarationRequestNumber</th>\n",
       "      <th>hash</th>\n",
       "      <th>lastRefresh</th>\n",
       "      <th>id</th>\n",
       "    </tr>\n",
       "  </thead>\n",
       "  <tbody>\n",
       "    <tr>\n",
       "      <td>0</td>\n",
       "      <td>DR-1-GA</td>\n",
       "      <td>1</td>\n",
       "      <td>GA</td>\n",
       "      <td>DR</td>\n",
       "      <td>1953-05-02</td>\n",
       "      <td>1953</td>\n",
       "      <td>Tornado</td>\n",
       "      <td>TORNADO</td>\n",
       "      <td>0</td>\n",
       "      <td>1</td>\n",
       "      <td>1</td>\n",
       "      <td>1</td>\n",
       "      <td>1953-05-02</td>\n",
       "      <td>1953-05-02T04:00:00.000Z</td>\n",
       "      <td>1954-06-01T04:00:00.000Z</td>\n",
       "      <td>13</td>\n",
       "      <td>0</td>\n",
       "      <td>0</td>\n",
       "      <td>Statewide</td>\n",
       "      <td>53013</td>\n",
       "      <td>2f28952448e0a666d367ca3f854c81ec</td>\n",
       "      <td>2020-10-05T14:21:20.694Z</td>\n",
       "      <td>5f7b2be031a8c6681cfb4342</td>\n",
       "    </tr>\n",
       "    <tr>\n",
       "      <td>1</td>\n",
       "      <td>DR-2-TX</td>\n",
       "      <td>2</td>\n",
       "      <td>TX</td>\n",
       "      <td>DR</td>\n",
       "      <td>1953-05-15</td>\n",
       "      <td>1953</td>\n",
       "      <td>Tornado</td>\n",
       "      <td>TORNADO &amp; HEAVY RAINFALL</td>\n",
       "      <td>0</td>\n",
       "      <td>1</td>\n",
       "      <td>1</td>\n",
       "      <td>1</td>\n",
       "      <td>1953-05-15</td>\n",
       "      <td>1953-05-15T04:00:00.000Z</td>\n",
       "      <td>1958-01-01T05:00:00.000Z</td>\n",
       "      <td>48</td>\n",
       "      <td>0</td>\n",
       "      <td>0</td>\n",
       "      <td>Statewide</td>\n",
       "      <td>53003</td>\n",
       "      <td>c5a1a4a1030d6730d9c562cdbe7c830f</td>\n",
       "      <td>2020-10-05T14:21:20.696Z</td>\n",
       "      <td>5f7b2be031a8c6681cfb4345</td>\n",
       "    </tr>\n",
       "    <tr>\n",
       "      <td>2</td>\n",
       "      <td>DR-5-MT</td>\n",
       "      <td>5</td>\n",
       "      <td>MT</td>\n",
       "      <td>DR</td>\n",
       "      <td>1953-06-06</td>\n",
       "      <td>1953</td>\n",
       "      <td>Flood</td>\n",
       "      <td>FLOODS</td>\n",
       "      <td>0</td>\n",
       "      <td>1</td>\n",
       "      <td>1</td>\n",
       "      <td>1</td>\n",
       "      <td>1953-06-06</td>\n",
       "      <td>1953-06-06T04:00:00.000Z</td>\n",
       "      <td>1955-12-01T05:00:00.000Z</td>\n",
       "      <td>30</td>\n",
       "      <td>0</td>\n",
       "      <td>0</td>\n",
       "      <td>Statewide</td>\n",
       "      <td>53006</td>\n",
       "      <td>59c5483387ca13c6a3c1bc692f4860e1</td>\n",
       "      <td>2020-10-05T14:21:20.698Z</td>\n",
       "      <td>5f7b2be031a8c6681cfb4348</td>\n",
       "    </tr>\n",
       "    <tr>\n",
       "      <td>3</td>\n",
       "      <td>DR-7-MA</td>\n",
       "      <td>7</td>\n",
       "      <td>MA</td>\n",
       "      <td>DR</td>\n",
       "      <td>1953-06-11</td>\n",
       "      <td>1953</td>\n",
       "      <td>Tornado</td>\n",
       "      <td>TORNADO</td>\n",
       "      <td>0</td>\n",
       "      <td>1</td>\n",
       "      <td>1</td>\n",
       "      <td>1</td>\n",
       "      <td>1953-06-11</td>\n",
       "      <td>1953-06-11T04:00:00.000Z</td>\n",
       "      <td>1956-06-01T04:00:00.000Z</td>\n",
       "      <td>25</td>\n",
       "      <td>0</td>\n",
       "      <td>0</td>\n",
       "      <td>Statewide</td>\n",
       "      <td>53009</td>\n",
       "      <td>6bab17e16984fc75f61a8445df3e95d9</td>\n",
       "      <td>2020-10-05T14:21:20.699Z</td>\n",
       "      <td>5f7b2be031a8c6681cfb434b</td>\n",
       "    </tr>\n",
       "    <tr>\n",
       "      <td>4</td>\n",
       "      <td>DR-8-IA</td>\n",
       "      <td>8</td>\n",
       "      <td>IA</td>\n",
       "      <td>DR</td>\n",
       "      <td>1953-06-11</td>\n",
       "      <td>1953</td>\n",
       "      <td>Flood</td>\n",
       "      <td>FLOOD</td>\n",
       "      <td>0</td>\n",
       "      <td>1</td>\n",
       "      <td>1</td>\n",
       "      <td>1</td>\n",
       "      <td>1953-06-11</td>\n",
       "      <td>1953-06-11T04:00:00.000Z</td>\n",
       "      <td>1955-11-01T05:00:00.000Z</td>\n",
       "      <td>19</td>\n",
       "      <td>0</td>\n",
       "      <td>0</td>\n",
       "      <td>Statewide</td>\n",
       "      <td>53008</td>\n",
       "      <td>e258e9dd25fac73939f59c8ffb5308f5</td>\n",
       "      <td>2020-10-05T14:21:20.700Z</td>\n",
       "      <td>5f7b2be031a8c6681cfb434e</td>\n",
       "    </tr>\n",
       "  </tbody>\n",
       "</table>\n",
       "</div>"
      ],
      "text/plain": [
       "  femaDeclarationString  ...                        id\n",
       "0               DR-1-GA  ...  5f7b2be031a8c6681cfb4342\n",
       "1               DR-2-TX  ...  5f7b2be031a8c6681cfb4345\n",
       "2               DR-5-MT  ...  5f7b2be031a8c6681cfb4348\n",
       "3               DR-7-MA  ...  5f7b2be031a8c6681cfb434b\n",
       "4               DR-8-IA  ...  5f7b2be031a8c6681cfb434e\n",
       "\n",
       "[5 rows x 23 columns]"
      ]
     },
     "execution_count": 43,
     "metadata": {},
     "output_type": "execute_result"
    }
   ],
   "source": [
    "#df = df.drop(columns=['incidentEndDate'], axis=1)\n",
    "df.head()"
   ]
  },
  {
   "cell_type": "code",
   "execution_count": 44,
   "metadata": {
    "scrolled": true
   },
   "outputs": [
    {
     "data": {
      "text/plain": [
       "2020-04-22T03:59:00.000Z    674\n",
       "2017-12-19T04:59:00.000Z    430\n",
       "1994-06-30T04:00:00.000Z    410\n",
       "1978-07-03T04:00:00.000Z    393\n",
       "2001-09-18T04:00:00.000Z    390\n",
       "                           ... \n",
       "2016-07-07T03:59:00.000Z      1\n",
       "1956-04-30T04:00:00.000Z      1\n",
       "1999-08-26T04:00:00.000Z      1\n",
       "1966-04-08T05:00:00.000Z      1\n",
       "2002-12-17T05:00:00.000Z      1\n",
       "Name: disasterCloseoutDate, Length: 1755, dtype: int64"
      ]
     },
     "execution_count": 44,
     "metadata": {},
     "output_type": "execute_result"
    }
   ],
   "source": [
    "df['disasterCloseoutDate'].value_counts()"
   ]
  },
  {
   "cell_type": "code",
   "execution_count": 45,
   "metadata": {},
   "outputs": [],
   "source": [
    "#df['disasterCloseoutDate'] = df['disasterCloseoutDate'].str.split('T').str[0]"
   ]
  },
  {
   "cell_type": "code",
   "execution_count": 46,
   "metadata": {},
   "outputs": [],
   "source": [
    "#df['disasterCloseoutDate'] = pd.to_datetime(df['disasterCloseoutDate'])"
   ]
  },
  {
   "cell_type": "code",
   "execution_count": 47,
   "metadata": {},
   "outputs": [],
   "source": [
    "#df['Disaster Close Day of Week'] = df['disasterCloseoutDate'].dt.day_name()"
   ]
  },
  {
   "cell_type": "code",
   "execution_count": 48,
   "metadata": {},
   "outputs": [],
   "source": [
    "#df['Disaster Close Year'] = df['disasterCloseoutDate'].dt.year\n",
    "#df['Disaster Close Month'] = df['disasterCloseoutDate'].dt.month\n",
    "#df['Disaster Close Day'] = df['disasterCloseoutDate'].dt.day"
   ]
  },
  {
   "cell_type": "code",
   "execution_count": 49,
   "metadata": {},
   "outputs": [
    {
     "data": {
      "text/html": [
       "<div>\n",
       "<style scoped>\n",
       "    .dataframe tbody tr th:only-of-type {\n",
       "        vertical-align: middle;\n",
       "    }\n",
       "\n",
       "    .dataframe tbody tr th {\n",
       "        vertical-align: top;\n",
       "    }\n",
       "\n",
       "    .dataframe thead th {\n",
       "        text-align: right;\n",
       "    }\n",
       "</style>\n",
       "<table border=\"1\" class=\"dataframe\">\n",
       "  <thead>\n",
       "    <tr style=\"text-align: right;\">\n",
       "      <th></th>\n",
       "      <th>femaDeclarationString</th>\n",
       "      <th>disasterNumber</th>\n",
       "      <th>state</th>\n",
       "      <th>declarationType</th>\n",
       "      <th>declarationDate</th>\n",
       "      <th>fyDeclared</th>\n",
       "      <th>incidentType</th>\n",
       "      <th>declarationTitle</th>\n",
       "      <th>ihProgramDeclared</th>\n",
       "      <th>iaProgramDeclared</th>\n",
       "      <th>paProgramDeclared</th>\n",
       "      <th>hmProgramDeclared</th>\n",
       "      <th>incidentBeginDate</th>\n",
       "      <th>incidentEndDate</th>\n",
       "      <th>disasterCloseoutDate</th>\n",
       "      <th>fipsStateCode</th>\n",
       "      <th>fipsCountyCode</th>\n",
       "      <th>placeCode</th>\n",
       "      <th>designatedArea</th>\n",
       "      <th>declarationRequestNumber</th>\n",
       "      <th>hash</th>\n",
       "      <th>lastRefresh</th>\n",
       "      <th>id</th>\n",
       "    </tr>\n",
       "  </thead>\n",
       "  <tbody>\n",
       "    <tr>\n",
       "      <td>0</td>\n",
       "      <td>DR-1-GA</td>\n",
       "      <td>1</td>\n",
       "      <td>GA</td>\n",
       "      <td>DR</td>\n",
       "      <td>1953-05-02</td>\n",
       "      <td>1953</td>\n",
       "      <td>Tornado</td>\n",
       "      <td>TORNADO</td>\n",
       "      <td>0</td>\n",
       "      <td>1</td>\n",
       "      <td>1</td>\n",
       "      <td>1</td>\n",
       "      <td>1953-05-02</td>\n",
       "      <td>1953-05-02T04:00:00.000Z</td>\n",
       "      <td>1954-06-01T04:00:00.000Z</td>\n",
       "      <td>13</td>\n",
       "      <td>0</td>\n",
       "      <td>0</td>\n",
       "      <td>Statewide</td>\n",
       "      <td>53013</td>\n",
       "      <td>2f28952448e0a666d367ca3f854c81ec</td>\n",
       "      <td>2020-10-05T14:21:20.694Z</td>\n",
       "      <td>5f7b2be031a8c6681cfb4342</td>\n",
       "    </tr>\n",
       "    <tr>\n",
       "      <td>1</td>\n",
       "      <td>DR-2-TX</td>\n",
       "      <td>2</td>\n",
       "      <td>TX</td>\n",
       "      <td>DR</td>\n",
       "      <td>1953-05-15</td>\n",
       "      <td>1953</td>\n",
       "      <td>Tornado</td>\n",
       "      <td>TORNADO &amp; HEAVY RAINFALL</td>\n",
       "      <td>0</td>\n",
       "      <td>1</td>\n",
       "      <td>1</td>\n",
       "      <td>1</td>\n",
       "      <td>1953-05-15</td>\n",
       "      <td>1953-05-15T04:00:00.000Z</td>\n",
       "      <td>1958-01-01T05:00:00.000Z</td>\n",
       "      <td>48</td>\n",
       "      <td>0</td>\n",
       "      <td>0</td>\n",
       "      <td>Statewide</td>\n",
       "      <td>53003</td>\n",
       "      <td>c5a1a4a1030d6730d9c562cdbe7c830f</td>\n",
       "      <td>2020-10-05T14:21:20.696Z</td>\n",
       "      <td>5f7b2be031a8c6681cfb4345</td>\n",
       "    </tr>\n",
       "    <tr>\n",
       "      <td>2</td>\n",
       "      <td>DR-5-MT</td>\n",
       "      <td>5</td>\n",
       "      <td>MT</td>\n",
       "      <td>DR</td>\n",
       "      <td>1953-06-06</td>\n",
       "      <td>1953</td>\n",
       "      <td>Flood</td>\n",
       "      <td>FLOODS</td>\n",
       "      <td>0</td>\n",
       "      <td>1</td>\n",
       "      <td>1</td>\n",
       "      <td>1</td>\n",
       "      <td>1953-06-06</td>\n",
       "      <td>1953-06-06T04:00:00.000Z</td>\n",
       "      <td>1955-12-01T05:00:00.000Z</td>\n",
       "      <td>30</td>\n",
       "      <td>0</td>\n",
       "      <td>0</td>\n",
       "      <td>Statewide</td>\n",
       "      <td>53006</td>\n",
       "      <td>59c5483387ca13c6a3c1bc692f4860e1</td>\n",
       "      <td>2020-10-05T14:21:20.698Z</td>\n",
       "      <td>5f7b2be031a8c6681cfb4348</td>\n",
       "    </tr>\n",
       "    <tr>\n",
       "      <td>3</td>\n",
       "      <td>DR-7-MA</td>\n",
       "      <td>7</td>\n",
       "      <td>MA</td>\n",
       "      <td>DR</td>\n",
       "      <td>1953-06-11</td>\n",
       "      <td>1953</td>\n",
       "      <td>Tornado</td>\n",
       "      <td>TORNADO</td>\n",
       "      <td>0</td>\n",
       "      <td>1</td>\n",
       "      <td>1</td>\n",
       "      <td>1</td>\n",
       "      <td>1953-06-11</td>\n",
       "      <td>1953-06-11T04:00:00.000Z</td>\n",
       "      <td>1956-06-01T04:00:00.000Z</td>\n",
       "      <td>25</td>\n",
       "      <td>0</td>\n",
       "      <td>0</td>\n",
       "      <td>Statewide</td>\n",
       "      <td>53009</td>\n",
       "      <td>6bab17e16984fc75f61a8445df3e95d9</td>\n",
       "      <td>2020-10-05T14:21:20.699Z</td>\n",
       "      <td>5f7b2be031a8c6681cfb434b</td>\n",
       "    </tr>\n",
       "    <tr>\n",
       "      <td>4</td>\n",
       "      <td>DR-8-IA</td>\n",
       "      <td>8</td>\n",
       "      <td>IA</td>\n",
       "      <td>DR</td>\n",
       "      <td>1953-06-11</td>\n",
       "      <td>1953</td>\n",
       "      <td>Flood</td>\n",
       "      <td>FLOOD</td>\n",
       "      <td>0</td>\n",
       "      <td>1</td>\n",
       "      <td>1</td>\n",
       "      <td>1</td>\n",
       "      <td>1953-06-11</td>\n",
       "      <td>1953-06-11T04:00:00.000Z</td>\n",
       "      <td>1955-11-01T05:00:00.000Z</td>\n",
       "      <td>19</td>\n",
       "      <td>0</td>\n",
       "      <td>0</td>\n",
       "      <td>Statewide</td>\n",
       "      <td>53008</td>\n",
       "      <td>e258e9dd25fac73939f59c8ffb5308f5</td>\n",
       "      <td>2020-10-05T14:21:20.700Z</td>\n",
       "      <td>5f7b2be031a8c6681cfb434e</td>\n",
       "    </tr>\n",
       "  </tbody>\n",
       "</table>\n",
       "</div>"
      ],
      "text/plain": [
       "  femaDeclarationString  ...                        id\n",
       "0               DR-1-GA  ...  5f7b2be031a8c6681cfb4342\n",
       "1               DR-2-TX  ...  5f7b2be031a8c6681cfb4345\n",
       "2               DR-5-MT  ...  5f7b2be031a8c6681cfb4348\n",
       "3               DR-7-MA  ...  5f7b2be031a8c6681cfb434b\n",
       "4               DR-8-IA  ...  5f7b2be031a8c6681cfb434e\n",
       "\n",
       "[5 rows x 23 columns]"
      ]
     },
     "execution_count": 49,
     "metadata": {},
     "output_type": "execute_result"
    }
   ],
   "source": [
    "#df = df.drop(columns=['disasterCloseoutDate'], axis=1)\n",
    "df.head()"
   ]
  },
  {
   "cell_type": "code",
   "execution_count": 50,
   "metadata": {},
   "outputs": [
    {
     "data": {
      "text/plain": [
       "48    4651\n",
       "29    2670\n",
       "51    2460\n",
       "21    2416\n",
       "40    2278\n",
       "13    2239\n",
       "22    2131\n",
       "12    2027\n",
       "37    1965\n",
       "72    1825\n",
       "19    1823\n",
       "28    1691\n",
       "20    1682\n",
       "1     1619\n",
       "5     1588\n",
       "47    1522\n",
       "27    1498\n",
       "18    1451\n",
       "6     1443\n",
       "31    1423\n",
       "36    1421\n",
       "38    1301\n",
       "39    1281\n",
       "17    1268\n",
       "46    1251\n",
       "42    1226\n",
       "54    1218\n",
       "23    1004\n",
       "55     891\n",
       "53     862\n",
       "45     855\n",
       "26     791\n",
       "8      642\n",
       "30     586\n",
       "34     567\n",
       "41     562\n",
       "35     495\n",
       "24     445\n",
       "25     389\n",
       "16     346\n",
       "4      323\n",
       "50     314\n",
       "33     294\n",
       "32     271\n",
       "2      247\n",
       "49     241\n",
       "9      228\n",
       "56     128\n",
       "44     102\n",
       "15      95\n",
       "78      79\n",
       "60      75\n",
       "69      62\n",
       "68      53\n",
       "10      52\n",
       "64      31\n",
       "11      22\n",
       "66      19\n",
       "70       1\n",
       "Name: fipsStateCode, dtype: int64"
      ]
     },
     "execution_count": 50,
     "metadata": {},
     "output_type": "execute_result"
    }
   ],
   "source": [
    "df['fipsStateCode'].value_counts()"
   ]
  },
  {
   "cell_type": "code",
   "execution_count": 51,
   "metadata": {},
   "outputs": [
    {
     "data": {
      "text/plain": [
       "0      1333\n",
       "3       994\n",
       "5       962\n",
       "7       949\n",
       "9       933\n",
       "       ... \n",
       "390       2\n",
       "230       1\n",
       "400       1\n",
       "80        1\n",
       "330       1\n",
       "Name: fipsCountyCode, Length: 345, dtype: int64"
      ]
     },
     "execution_count": 51,
     "metadata": {},
     "output_type": "execute_result"
    }
   ],
   "source": [
    "df['fipsCountyCode'].value_counts()"
   ]
  },
  {
   "cell_type": "code",
   "execution_count": 52,
   "metadata": {},
   "outputs": [
    {
     "data": {
      "text/plain": [
       "99005    937\n",
       "99009    917\n",
       "99001    913\n",
       "99007    896\n",
       "99015    885\n",
       "        ... \n",
       "72200      1\n",
       "99400      1\n",
       "99080      1\n",
       "56240      1\n",
       "48440      1\n",
       "Name: placeCode, Length: 1109, dtype: int64"
      ]
     },
     "execution_count": 52,
     "metadata": {},
     "output_type": "execute_result"
    }
   ],
   "source": [
    "df['placeCode'].value_counts()"
   ]
  },
  {
   "cell_type": "code",
   "execution_count": 53,
   "metadata": {},
   "outputs": [
    {
     "data": {
      "text/plain": [
       "Washington (County)     517\n",
       "Jefferson (County)      471\n",
       "Statewide               465\n",
       "Jackson (County)        455\n",
       "Franklin (County)       445\n",
       "                       ... \n",
       "T07 R17 WELS              1\n",
       "Valley (Township of)      1\n",
       "T02 R09 NWP               1\n",
       "T09 R16 WELS              1\n",
       "Fayette                   1\n",
       "Name: designatedArea, Length: 2769, dtype: int64"
      ]
     },
     "execution_count": 53,
     "metadata": {},
     "output_type": "execute_result"
    }
   ],
   "source": [
    "df['designatedArea'].value_counts()"
   ]
  },
  {
   "cell_type": "code",
   "execution_count": 54,
   "metadata": {},
   "outputs": [
    {
     "data": {
      "text/plain": [
       "20130    437\n",
       "98062    257\n",
       "20061    257\n",
       "20080    257\n",
       "5137     255\n",
       "        ... \n",
       "8115       1\n",
       "6066       1\n",
       "6034       1\n",
       "98175      1\n",
       "2049       1\n",
       "Name: declarationRequestNumber, Length: 4497, dtype: int64"
      ]
     },
     "execution_count": 54,
     "metadata": {},
     "output_type": "execute_result"
    }
   ],
   "source": [
    "df['declarationRequestNumber'].value_counts()"
   ]
  },
  {
   "cell_type": "code",
   "execution_count": 55,
   "metadata": {
    "scrolled": false
   },
   "outputs": [
    {
     "data": {
      "text/plain": [
       "d363c5e683a324a8cad2a299edcbbca6    1\n",
       "d078d3edef86bd3fb636d32f84cdb03c    1\n",
       "4d432155ff100acaff7de43a909a0bc2    1\n",
       "71f9c8c3702318825146e832809644ba    1\n",
       "132340079fe715b9b8724edcc1a046a1    1\n",
       "                                   ..\n",
       "ef2a4b26b0828a748d8fa82ce3f27dca    1\n",
       "b4f7ff05f44293dbabacb072dec558a0    1\n",
       "53928a79fd9fd92fa9a9a273ef933721    1\n",
       "4204b978a78fb94f9cb71adeb088e60f    1\n",
       "1b0edb19949c72ea541cac5e1f5d538a    1\n",
       "Name: hash, Length: 60440, dtype: int64"
      ]
     },
     "execution_count": 55,
     "metadata": {},
     "output_type": "execute_result"
    }
   ],
   "source": [
    "df['hash'].value_counts()"
   ]
  },
  {
   "cell_type": "code",
   "execution_count": 56,
   "metadata": {},
   "outputs": [
    {
     "data": {
      "text/html": [
       "<div>\n",
       "<style scoped>\n",
       "    .dataframe tbody tr th:only-of-type {\n",
       "        vertical-align: middle;\n",
       "    }\n",
       "\n",
       "    .dataframe tbody tr th {\n",
       "        vertical-align: top;\n",
       "    }\n",
       "\n",
       "    .dataframe thead th {\n",
       "        text-align: right;\n",
       "    }\n",
       "</style>\n",
       "<table border=\"1\" class=\"dataframe\">\n",
       "  <thead>\n",
       "    <tr style=\"text-align: right;\">\n",
       "      <th></th>\n",
       "      <th>femaDeclarationString</th>\n",
       "      <th>disasterNumber</th>\n",
       "      <th>state</th>\n",
       "      <th>declarationType</th>\n",
       "      <th>declarationDate</th>\n",
       "      <th>fyDeclared</th>\n",
       "      <th>incidentType</th>\n",
       "      <th>declarationTitle</th>\n",
       "      <th>ihProgramDeclared</th>\n",
       "      <th>iaProgramDeclared</th>\n",
       "      <th>paProgramDeclared</th>\n",
       "      <th>hmProgramDeclared</th>\n",
       "      <th>incidentBeginDate</th>\n",
       "      <th>incidentEndDate</th>\n",
       "      <th>disasterCloseoutDate</th>\n",
       "      <th>fipsStateCode</th>\n",
       "      <th>fipsCountyCode</th>\n",
       "      <th>placeCode</th>\n",
       "      <th>designatedArea</th>\n",
       "      <th>declarationRequestNumber</th>\n",
       "      <th>lastRefresh</th>\n",
       "      <th>id</th>\n",
       "    </tr>\n",
       "  </thead>\n",
       "  <tbody>\n",
       "    <tr>\n",
       "      <td>0</td>\n",
       "      <td>DR-1-GA</td>\n",
       "      <td>1</td>\n",
       "      <td>GA</td>\n",
       "      <td>DR</td>\n",
       "      <td>1953-05-02</td>\n",
       "      <td>1953</td>\n",
       "      <td>Tornado</td>\n",
       "      <td>TORNADO</td>\n",
       "      <td>0</td>\n",
       "      <td>1</td>\n",
       "      <td>1</td>\n",
       "      <td>1</td>\n",
       "      <td>1953-05-02</td>\n",
       "      <td>1953-05-02T04:00:00.000Z</td>\n",
       "      <td>1954-06-01T04:00:00.000Z</td>\n",
       "      <td>13</td>\n",
       "      <td>0</td>\n",
       "      <td>0</td>\n",
       "      <td>Statewide</td>\n",
       "      <td>53013</td>\n",
       "      <td>2020-10-05T14:21:20.694Z</td>\n",
       "      <td>5f7b2be031a8c6681cfb4342</td>\n",
       "    </tr>\n",
       "    <tr>\n",
       "      <td>1</td>\n",
       "      <td>DR-2-TX</td>\n",
       "      <td>2</td>\n",
       "      <td>TX</td>\n",
       "      <td>DR</td>\n",
       "      <td>1953-05-15</td>\n",
       "      <td>1953</td>\n",
       "      <td>Tornado</td>\n",
       "      <td>TORNADO &amp; HEAVY RAINFALL</td>\n",
       "      <td>0</td>\n",
       "      <td>1</td>\n",
       "      <td>1</td>\n",
       "      <td>1</td>\n",
       "      <td>1953-05-15</td>\n",
       "      <td>1953-05-15T04:00:00.000Z</td>\n",
       "      <td>1958-01-01T05:00:00.000Z</td>\n",
       "      <td>48</td>\n",
       "      <td>0</td>\n",
       "      <td>0</td>\n",
       "      <td>Statewide</td>\n",
       "      <td>53003</td>\n",
       "      <td>2020-10-05T14:21:20.696Z</td>\n",
       "      <td>5f7b2be031a8c6681cfb4345</td>\n",
       "    </tr>\n",
       "    <tr>\n",
       "      <td>2</td>\n",
       "      <td>DR-5-MT</td>\n",
       "      <td>5</td>\n",
       "      <td>MT</td>\n",
       "      <td>DR</td>\n",
       "      <td>1953-06-06</td>\n",
       "      <td>1953</td>\n",
       "      <td>Flood</td>\n",
       "      <td>FLOODS</td>\n",
       "      <td>0</td>\n",
       "      <td>1</td>\n",
       "      <td>1</td>\n",
       "      <td>1</td>\n",
       "      <td>1953-06-06</td>\n",
       "      <td>1953-06-06T04:00:00.000Z</td>\n",
       "      <td>1955-12-01T05:00:00.000Z</td>\n",
       "      <td>30</td>\n",
       "      <td>0</td>\n",
       "      <td>0</td>\n",
       "      <td>Statewide</td>\n",
       "      <td>53006</td>\n",
       "      <td>2020-10-05T14:21:20.698Z</td>\n",
       "      <td>5f7b2be031a8c6681cfb4348</td>\n",
       "    </tr>\n",
       "    <tr>\n",
       "      <td>3</td>\n",
       "      <td>DR-7-MA</td>\n",
       "      <td>7</td>\n",
       "      <td>MA</td>\n",
       "      <td>DR</td>\n",
       "      <td>1953-06-11</td>\n",
       "      <td>1953</td>\n",
       "      <td>Tornado</td>\n",
       "      <td>TORNADO</td>\n",
       "      <td>0</td>\n",
       "      <td>1</td>\n",
       "      <td>1</td>\n",
       "      <td>1</td>\n",
       "      <td>1953-06-11</td>\n",
       "      <td>1953-06-11T04:00:00.000Z</td>\n",
       "      <td>1956-06-01T04:00:00.000Z</td>\n",
       "      <td>25</td>\n",
       "      <td>0</td>\n",
       "      <td>0</td>\n",
       "      <td>Statewide</td>\n",
       "      <td>53009</td>\n",
       "      <td>2020-10-05T14:21:20.699Z</td>\n",
       "      <td>5f7b2be031a8c6681cfb434b</td>\n",
       "    </tr>\n",
       "    <tr>\n",
       "      <td>4</td>\n",
       "      <td>DR-8-IA</td>\n",
       "      <td>8</td>\n",
       "      <td>IA</td>\n",
       "      <td>DR</td>\n",
       "      <td>1953-06-11</td>\n",
       "      <td>1953</td>\n",
       "      <td>Flood</td>\n",
       "      <td>FLOOD</td>\n",
       "      <td>0</td>\n",
       "      <td>1</td>\n",
       "      <td>1</td>\n",
       "      <td>1</td>\n",
       "      <td>1953-06-11</td>\n",
       "      <td>1953-06-11T04:00:00.000Z</td>\n",
       "      <td>1955-11-01T05:00:00.000Z</td>\n",
       "      <td>19</td>\n",
       "      <td>0</td>\n",
       "      <td>0</td>\n",
       "      <td>Statewide</td>\n",
       "      <td>53008</td>\n",
       "      <td>2020-10-05T14:21:20.700Z</td>\n",
       "      <td>5f7b2be031a8c6681cfb434e</td>\n",
       "    </tr>\n",
       "    <tr>\n",
       "      <td>...</td>\n",
       "      <td>...</td>\n",
       "      <td>...</td>\n",
       "      <td>...</td>\n",
       "      <td>...</td>\n",
       "      <td>...</td>\n",
       "      <td>...</td>\n",
       "      <td>...</td>\n",
       "      <td>...</td>\n",
       "      <td>...</td>\n",
       "      <td>...</td>\n",
       "      <td>...</td>\n",
       "      <td>...</td>\n",
       "      <td>...</td>\n",
       "      <td>...</td>\n",
       "      <td>...</td>\n",
       "      <td>...</td>\n",
       "      <td>...</td>\n",
       "      <td>...</td>\n",
       "      <td>...</td>\n",
       "      <td>...</td>\n",
       "      <td>...</td>\n",
       "      <td>...</td>\n",
       "    </tr>\n",
       "    <tr>\n",
       "      <td>60435</td>\n",
       "      <td>FM-5382-NV</td>\n",
       "      <td>5382</td>\n",
       "      <td>NV</td>\n",
       "      <td>FM</td>\n",
       "      <td>2020-11-18</td>\n",
       "      <td>2021</td>\n",
       "      <td>Fire</td>\n",
       "      <td>PINEHAVEN FIRE</td>\n",
       "      <td>0</td>\n",
       "      <td>0</td>\n",
       "      <td>1</td>\n",
       "      <td>1</td>\n",
       "      <td>2020-11-17</td>\n",
       "      <td>NaN</td>\n",
       "      <td>NaN</td>\n",
       "      <td>32</td>\n",
       "      <td>31</td>\n",
       "      <td>99031</td>\n",
       "      <td>Washoe (County)</td>\n",
       "      <td>20323</td>\n",
       "      <td>2020-11-19T16:42:40.333Z</td>\n",
       "      <td>5fb6a0800eb5d36238b4d770</td>\n",
       "    </tr>\n",
       "    <tr>\n",
       "      <td>60436</td>\n",
       "      <td>DR-4569-CA</td>\n",
       "      <td>4569</td>\n",
       "      <td>CA</td>\n",
       "      <td>DR</td>\n",
       "      <td>2020-10-17</td>\n",
       "      <td>2021</td>\n",
       "      <td>Fire</td>\n",
       "      <td>WILDFIRES</td>\n",
       "      <td>0</td>\n",
       "      <td>0</td>\n",
       "      <td>1</td>\n",
       "      <td>1</td>\n",
       "      <td>2020-09-04</td>\n",
       "      <td>2020-11-18T04:00:00.000Z</td>\n",
       "      <td>NaN</td>\n",
       "      <td>6</td>\n",
       "      <td>15</td>\n",
       "      <td>99015</td>\n",
       "      <td>Del Norte (County)</td>\n",
       "      <td>20302</td>\n",
       "      <td>2020-11-25T20:42:27.057Z</td>\n",
       "      <td>5fbec1b30eb5d36238660eac</td>\n",
       "    </tr>\n",
       "    <tr>\n",
       "      <td>60437</td>\n",
       "      <td>DR-4569-CA</td>\n",
       "      <td>4569</td>\n",
       "      <td>CA</td>\n",
       "      <td>DR</td>\n",
       "      <td>2020-10-17</td>\n",
       "      <td>2021</td>\n",
       "      <td>Fire</td>\n",
       "      <td>WILDFIRES</td>\n",
       "      <td>0</td>\n",
       "      <td>0</td>\n",
       "      <td>1</td>\n",
       "      <td>1</td>\n",
       "      <td>2020-09-04</td>\n",
       "      <td>2020-11-18T04:00:00.000Z</td>\n",
       "      <td>NaN</td>\n",
       "      <td>6</td>\n",
       "      <td>115</td>\n",
       "      <td>99115</td>\n",
       "      <td>Yuba (County)</td>\n",
       "      <td>20302</td>\n",
       "      <td>2020-11-25T20:42:27.058Z</td>\n",
       "      <td>5fbec1b30eb5d36238660ebd</td>\n",
       "    </tr>\n",
       "    <tr>\n",
       "      <td>60438</td>\n",
       "      <td>DR-4566-DE</td>\n",
       "      <td>4566</td>\n",
       "      <td>DE</td>\n",
       "      <td>DR</td>\n",
       "      <td>2020-10-02</td>\n",
       "      <td>2021</td>\n",
       "      <td>Hurricane</td>\n",
       "      <td>TROPICAL STORM ISAIAS</td>\n",
       "      <td>0</td>\n",
       "      <td>0</td>\n",
       "      <td>1</td>\n",
       "      <td>1</td>\n",
       "      <td>2020-08-05</td>\n",
       "      <td>2020-08-08T03:59:00.000Z</td>\n",
       "      <td>NaN</td>\n",
       "      <td>10</td>\n",
       "      <td>3</td>\n",
       "      <td>99003</td>\n",
       "      <td>New Castle (County)</td>\n",
       "      <td>20253</td>\n",
       "      <td>2020-12-02T21:41:43.367Z</td>\n",
       "      <td>5fc80a170eb5d36238431c13</td>\n",
       "    </tr>\n",
       "    <tr>\n",
       "      <td>60439</td>\n",
       "      <td>FM-5383-CA</td>\n",
       "      <td>5383</td>\n",
       "      <td>CA</td>\n",
       "      <td>FM</td>\n",
       "      <td>2020-12-03</td>\n",
       "      <td>2021</td>\n",
       "      <td>Fire</td>\n",
       "      <td>BOND FIRE</td>\n",
       "      <td>0</td>\n",
       "      <td>0</td>\n",
       "      <td>1</td>\n",
       "      <td>1</td>\n",
       "      <td>2020-12-03</td>\n",
       "      <td>NaN</td>\n",
       "      <td>NaN</td>\n",
       "      <td>6</td>\n",
       "      <td>59</td>\n",
       "      <td>99059</td>\n",
       "      <td>Orange (County)</td>\n",
       "      <td>20326</td>\n",
       "      <td>2020-12-04T16:21:54.945Z</td>\n",
       "      <td>5fca62220eb5d36238b29901</td>\n",
       "    </tr>\n",
       "  </tbody>\n",
       "</table>\n",
       "<p>60440 rows × 22 columns</p>\n",
       "</div>"
      ],
      "text/plain": [
       "      femaDeclarationString  ...                        id\n",
       "0                   DR-1-GA  ...  5f7b2be031a8c6681cfb4342\n",
       "1                   DR-2-TX  ...  5f7b2be031a8c6681cfb4345\n",
       "2                   DR-5-MT  ...  5f7b2be031a8c6681cfb4348\n",
       "3                   DR-7-MA  ...  5f7b2be031a8c6681cfb434b\n",
       "4                   DR-8-IA  ...  5f7b2be031a8c6681cfb434e\n",
       "...                     ...  ...                       ...\n",
       "60435            FM-5382-NV  ...  5fb6a0800eb5d36238b4d770\n",
       "60436            DR-4569-CA  ...  5fbec1b30eb5d36238660eac\n",
       "60437            DR-4569-CA  ...  5fbec1b30eb5d36238660ebd\n",
       "60438            DR-4566-DE  ...  5fc80a170eb5d36238431c13\n",
       "60439            FM-5383-CA  ...  5fca62220eb5d36238b29901\n",
       "\n",
       "[60440 rows x 22 columns]"
      ]
     },
     "execution_count": 56,
     "metadata": {},
     "output_type": "execute_result"
    }
   ],
   "source": [
    "df = df.drop(columns=['hash'], axis=1)\n",
    "df"
   ]
  },
  {
   "cell_type": "code",
   "execution_count": 57,
   "metadata": {
    "scrolled": true
   },
   "outputs": [
    {
     "data": {
      "text/plain": [
       "2020-10-05T14:21:20.707Z    6\n",
       "2020-10-05T14:21:20.705Z    6\n",
       "2020-10-05T14:21:20.709Z    5\n",
       "2020-10-05T14:21:20.708Z    5\n",
       "2020-10-05T14:21:20.706Z    5\n",
       "                           ..\n",
       "2020-10-05T14:22:35.137Z    1\n",
       "2020-10-05T14:22:09.676Z    1\n",
       "2020-10-05T14:21:33.539Z    1\n",
       "2020-10-05T14:21:35.690Z    1\n",
       "2020-10-05T14:21:31.149Z    1\n",
       "Name: lastRefresh, Length: 51842, dtype: int64"
      ]
     },
     "execution_count": 57,
     "metadata": {},
     "output_type": "execute_result"
    }
   ],
   "source": [
    "# This column is just showing us when the data was last refreshed so we can drop\n",
    "df['lastRefresh'].value_counts()"
   ]
  },
  {
   "cell_type": "code",
   "execution_count": 58,
   "metadata": {},
   "outputs": [
    {
     "data": {
      "text/html": [
       "<div>\n",
       "<style scoped>\n",
       "    .dataframe tbody tr th:only-of-type {\n",
       "        vertical-align: middle;\n",
       "    }\n",
       "\n",
       "    .dataframe tbody tr th {\n",
       "        vertical-align: top;\n",
       "    }\n",
       "\n",
       "    .dataframe thead th {\n",
       "        text-align: right;\n",
       "    }\n",
       "</style>\n",
       "<table border=\"1\" class=\"dataframe\">\n",
       "  <thead>\n",
       "    <tr style=\"text-align: right;\">\n",
       "      <th></th>\n",
       "      <th>femaDeclarationString</th>\n",
       "      <th>disasterNumber</th>\n",
       "      <th>state</th>\n",
       "      <th>declarationType</th>\n",
       "      <th>declarationDate</th>\n",
       "      <th>fyDeclared</th>\n",
       "      <th>incidentType</th>\n",
       "      <th>declarationTitle</th>\n",
       "      <th>ihProgramDeclared</th>\n",
       "      <th>iaProgramDeclared</th>\n",
       "      <th>paProgramDeclared</th>\n",
       "      <th>hmProgramDeclared</th>\n",
       "      <th>incidentBeginDate</th>\n",
       "      <th>incidentEndDate</th>\n",
       "      <th>disasterCloseoutDate</th>\n",
       "      <th>fipsStateCode</th>\n",
       "      <th>fipsCountyCode</th>\n",
       "      <th>placeCode</th>\n",
       "      <th>designatedArea</th>\n",
       "      <th>declarationRequestNumber</th>\n",
       "      <th>id</th>\n",
       "    </tr>\n",
       "  </thead>\n",
       "  <tbody>\n",
       "    <tr>\n",
       "      <td>0</td>\n",
       "      <td>DR-1-GA</td>\n",
       "      <td>1</td>\n",
       "      <td>GA</td>\n",
       "      <td>DR</td>\n",
       "      <td>1953-05-02</td>\n",
       "      <td>1953</td>\n",
       "      <td>Tornado</td>\n",
       "      <td>TORNADO</td>\n",
       "      <td>0</td>\n",
       "      <td>1</td>\n",
       "      <td>1</td>\n",
       "      <td>1</td>\n",
       "      <td>1953-05-02</td>\n",
       "      <td>1953-05-02T04:00:00.000Z</td>\n",
       "      <td>1954-06-01T04:00:00.000Z</td>\n",
       "      <td>13</td>\n",
       "      <td>0</td>\n",
       "      <td>0</td>\n",
       "      <td>Statewide</td>\n",
       "      <td>53013</td>\n",
       "      <td>5f7b2be031a8c6681cfb4342</td>\n",
       "    </tr>\n",
       "    <tr>\n",
       "      <td>1</td>\n",
       "      <td>DR-2-TX</td>\n",
       "      <td>2</td>\n",
       "      <td>TX</td>\n",
       "      <td>DR</td>\n",
       "      <td>1953-05-15</td>\n",
       "      <td>1953</td>\n",
       "      <td>Tornado</td>\n",
       "      <td>TORNADO &amp; HEAVY RAINFALL</td>\n",
       "      <td>0</td>\n",
       "      <td>1</td>\n",
       "      <td>1</td>\n",
       "      <td>1</td>\n",
       "      <td>1953-05-15</td>\n",
       "      <td>1953-05-15T04:00:00.000Z</td>\n",
       "      <td>1958-01-01T05:00:00.000Z</td>\n",
       "      <td>48</td>\n",
       "      <td>0</td>\n",
       "      <td>0</td>\n",
       "      <td>Statewide</td>\n",
       "      <td>53003</td>\n",
       "      <td>5f7b2be031a8c6681cfb4345</td>\n",
       "    </tr>\n",
       "    <tr>\n",
       "      <td>2</td>\n",
       "      <td>DR-5-MT</td>\n",
       "      <td>5</td>\n",
       "      <td>MT</td>\n",
       "      <td>DR</td>\n",
       "      <td>1953-06-06</td>\n",
       "      <td>1953</td>\n",
       "      <td>Flood</td>\n",
       "      <td>FLOODS</td>\n",
       "      <td>0</td>\n",
       "      <td>1</td>\n",
       "      <td>1</td>\n",
       "      <td>1</td>\n",
       "      <td>1953-06-06</td>\n",
       "      <td>1953-06-06T04:00:00.000Z</td>\n",
       "      <td>1955-12-01T05:00:00.000Z</td>\n",
       "      <td>30</td>\n",
       "      <td>0</td>\n",
       "      <td>0</td>\n",
       "      <td>Statewide</td>\n",
       "      <td>53006</td>\n",
       "      <td>5f7b2be031a8c6681cfb4348</td>\n",
       "    </tr>\n",
       "    <tr>\n",
       "      <td>3</td>\n",
       "      <td>DR-7-MA</td>\n",
       "      <td>7</td>\n",
       "      <td>MA</td>\n",
       "      <td>DR</td>\n",
       "      <td>1953-06-11</td>\n",
       "      <td>1953</td>\n",
       "      <td>Tornado</td>\n",
       "      <td>TORNADO</td>\n",
       "      <td>0</td>\n",
       "      <td>1</td>\n",
       "      <td>1</td>\n",
       "      <td>1</td>\n",
       "      <td>1953-06-11</td>\n",
       "      <td>1953-06-11T04:00:00.000Z</td>\n",
       "      <td>1956-06-01T04:00:00.000Z</td>\n",
       "      <td>25</td>\n",
       "      <td>0</td>\n",
       "      <td>0</td>\n",
       "      <td>Statewide</td>\n",
       "      <td>53009</td>\n",
       "      <td>5f7b2be031a8c6681cfb434b</td>\n",
       "    </tr>\n",
       "    <tr>\n",
       "      <td>4</td>\n",
       "      <td>DR-8-IA</td>\n",
       "      <td>8</td>\n",
       "      <td>IA</td>\n",
       "      <td>DR</td>\n",
       "      <td>1953-06-11</td>\n",
       "      <td>1953</td>\n",
       "      <td>Flood</td>\n",
       "      <td>FLOOD</td>\n",
       "      <td>0</td>\n",
       "      <td>1</td>\n",
       "      <td>1</td>\n",
       "      <td>1</td>\n",
       "      <td>1953-06-11</td>\n",
       "      <td>1953-06-11T04:00:00.000Z</td>\n",
       "      <td>1955-11-01T05:00:00.000Z</td>\n",
       "      <td>19</td>\n",
       "      <td>0</td>\n",
       "      <td>0</td>\n",
       "      <td>Statewide</td>\n",
       "      <td>53008</td>\n",
       "      <td>5f7b2be031a8c6681cfb434e</td>\n",
       "    </tr>\n",
       "    <tr>\n",
       "      <td>...</td>\n",
       "      <td>...</td>\n",
       "      <td>...</td>\n",
       "      <td>...</td>\n",
       "      <td>...</td>\n",
       "      <td>...</td>\n",
       "      <td>...</td>\n",
       "      <td>...</td>\n",
       "      <td>...</td>\n",
       "      <td>...</td>\n",
       "      <td>...</td>\n",
       "      <td>...</td>\n",
       "      <td>...</td>\n",
       "      <td>...</td>\n",
       "      <td>...</td>\n",
       "      <td>...</td>\n",
       "      <td>...</td>\n",
       "      <td>...</td>\n",
       "      <td>...</td>\n",
       "      <td>...</td>\n",
       "      <td>...</td>\n",
       "      <td>...</td>\n",
       "    </tr>\n",
       "    <tr>\n",
       "      <td>60435</td>\n",
       "      <td>FM-5382-NV</td>\n",
       "      <td>5382</td>\n",
       "      <td>NV</td>\n",
       "      <td>FM</td>\n",
       "      <td>2020-11-18</td>\n",
       "      <td>2021</td>\n",
       "      <td>Fire</td>\n",
       "      <td>PINEHAVEN FIRE</td>\n",
       "      <td>0</td>\n",
       "      <td>0</td>\n",
       "      <td>1</td>\n",
       "      <td>1</td>\n",
       "      <td>2020-11-17</td>\n",
       "      <td>NaN</td>\n",
       "      <td>NaN</td>\n",
       "      <td>32</td>\n",
       "      <td>31</td>\n",
       "      <td>99031</td>\n",
       "      <td>Washoe (County)</td>\n",
       "      <td>20323</td>\n",
       "      <td>5fb6a0800eb5d36238b4d770</td>\n",
       "    </tr>\n",
       "    <tr>\n",
       "      <td>60436</td>\n",
       "      <td>DR-4569-CA</td>\n",
       "      <td>4569</td>\n",
       "      <td>CA</td>\n",
       "      <td>DR</td>\n",
       "      <td>2020-10-17</td>\n",
       "      <td>2021</td>\n",
       "      <td>Fire</td>\n",
       "      <td>WILDFIRES</td>\n",
       "      <td>0</td>\n",
       "      <td>0</td>\n",
       "      <td>1</td>\n",
       "      <td>1</td>\n",
       "      <td>2020-09-04</td>\n",
       "      <td>2020-11-18T04:00:00.000Z</td>\n",
       "      <td>NaN</td>\n",
       "      <td>6</td>\n",
       "      <td>15</td>\n",
       "      <td>99015</td>\n",
       "      <td>Del Norte (County)</td>\n",
       "      <td>20302</td>\n",
       "      <td>5fbec1b30eb5d36238660eac</td>\n",
       "    </tr>\n",
       "    <tr>\n",
       "      <td>60437</td>\n",
       "      <td>DR-4569-CA</td>\n",
       "      <td>4569</td>\n",
       "      <td>CA</td>\n",
       "      <td>DR</td>\n",
       "      <td>2020-10-17</td>\n",
       "      <td>2021</td>\n",
       "      <td>Fire</td>\n",
       "      <td>WILDFIRES</td>\n",
       "      <td>0</td>\n",
       "      <td>0</td>\n",
       "      <td>1</td>\n",
       "      <td>1</td>\n",
       "      <td>2020-09-04</td>\n",
       "      <td>2020-11-18T04:00:00.000Z</td>\n",
       "      <td>NaN</td>\n",
       "      <td>6</td>\n",
       "      <td>115</td>\n",
       "      <td>99115</td>\n",
       "      <td>Yuba (County)</td>\n",
       "      <td>20302</td>\n",
       "      <td>5fbec1b30eb5d36238660ebd</td>\n",
       "    </tr>\n",
       "    <tr>\n",
       "      <td>60438</td>\n",
       "      <td>DR-4566-DE</td>\n",
       "      <td>4566</td>\n",
       "      <td>DE</td>\n",
       "      <td>DR</td>\n",
       "      <td>2020-10-02</td>\n",
       "      <td>2021</td>\n",
       "      <td>Hurricane</td>\n",
       "      <td>TROPICAL STORM ISAIAS</td>\n",
       "      <td>0</td>\n",
       "      <td>0</td>\n",
       "      <td>1</td>\n",
       "      <td>1</td>\n",
       "      <td>2020-08-05</td>\n",
       "      <td>2020-08-08T03:59:00.000Z</td>\n",
       "      <td>NaN</td>\n",
       "      <td>10</td>\n",
       "      <td>3</td>\n",
       "      <td>99003</td>\n",
       "      <td>New Castle (County)</td>\n",
       "      <td>20253</td>\n",
       "      <td>5fc80a170eb5d36238431c13</td>\n",
       "    </tr>\n",
       "    <tr>\n",
       "      <td>60439</td>\n",
       "      <td>FM-5383-CA</td>\n",
       "      <td>5383</td>\n",
       "      <td>CA</td>\n",
       "      <td>FM</td>\n",
       "      <td>2020-12-03</td>\n",
       "      <td>2021</td>\n",
       "      <td>Fire</td>\n",
       "      <td>BOND FIRE</td>\n",
       "      <td>0</td>\n",
       "      <td>0</td>\n",
       "      <td>1</td>\n",
       "      <td>1</td>\n",
       "      <td>2020-12-03</td>\n",
       "      <td>NaN</td>\n",
       "      <td>NaN</td>\n",
       "      <td>6</td>\n",
       "      <td>59</td>\n",
       "      <td>99059</td>\n",
       "      <td>Orange (County)</td>\n",
       "      <td>20326</td>\n",
       "      <td>5fca62220eb5d36238b29901</td>\n",
       "    </tr>\n",
       "  </tbody>\n",
       "</table>\n",
       "<p>60440 rows × 21 columns</p>\n",
       "</div>"
      ],
      "text/plain": [
       "      femaDeclarationString  ...                        id\n",
       "0                   DR-1-GA  ...  5f7b2be031a8c6681cfb4342\n",
       "1                   DR-2-TX  ...  5f7b2be031a8c6681cfb4345\n",
       "2                   DR-5-MT  ...  5f7b2be031a8c6681cfb4348\n",
       "3                   DR-7-MA  ...  5f7b2be031a8c6681cfb434b\n",
       "4                   DR-8-IA  ...  5f7b2be031a8c6681cfb434e\n",
       "...                     ...  ...                       ...\n",
       "60435            FM-5382-NV  ...  5fb6a0800eb5d36238b4d770\n",
       "60436            DR-4569-CA  ...  5fbec1b30eb5d36238660eac\n",
       "60437            DR-4569-CA  ...  5fbec1b30eb5d36238660ebd\n",
       "60438            DR-4566-DE  ...  5fc80a170eb5d36238431c13\n",
       "60439            FM-5383-CA  ...  5fca62220eb5d36238b29901\n",
       "\n",
       "[60440 rows x 21 columns]"
      ]
     },
     "execution_count": 58,
     "metadata": {},
     "output_type": "execute_result"
    }
   ],
   "source": [
    "df = df.drop(columns=['lastRefresh'], axis=1)\n",
    "df"
   ]
  },
  {
   "cell_type": "code",
   "execution_count": 59,
   "metadata": {
    "scrolled": true
   },
   "outputs": [
    {
     "data": {
      "text/plain": [
       "5f7b2c3131a8c6681cffef74    1\n",
       "5f7b2c3031a8c6681cffe29e    1\n",
       "5f7b2bec31a8c6681cfbce8c    1\n",
       "5f7b2c0731a8c6681cfd63ce    1\n",
       "5f7b2bed31a8c6681cfbda47    1\n",
       "                           ..\n",
       "5f7b2c3131a8c6681cfff852    1\n",
       "5f7b2c0531a8c6681cfd3e08    1\n",
       "5f7b2c0231a8c6681cfd0d26    1\n",
       "5f7b2c0831a8c6681cfd79fb    1\n",
       "5f7b2bfe31a8c6681cfcbf8f    1\n",
       "Name: id, Length: 60440, dtype: int64"
      ]
     },
     "execution_count": 59,
     "metadata": {},
     "output_type": "execute_result"
    }
   ],
   "source": [
    "df['id'].value_counts()"
   ]
  },
  {
   "cell_type": "markdown",
   "metadata": {},
   "source": [
    "# Data Preparation (Preparing for Modeling)"
   ]
  },
  {
   "cell_type": "code",
   "execution_count": 60,
   "metadata": {},
   "outputs": [
    {
     "data": {
      "text/plain": [
       "['Severe Storm(s)']"
      ]
     },
     "execution_count": 60,
     "metadata": {},
     "output_type": "execute_result"
    }
   ],
   "source": [
    "# Finding the top 3 Natural Disasters\n",
    "# We will make vizualizations of these\n",
    "natdisasters = list(df['incidentType'].value_counts().head(1).index)\n",
    "natdisasters"
   ]
  },
  {
   "cell_type": "code",
   "execution_count": 61,
   "metadata": {
    "scrolled": true
   },
   "outputs": [
    {
     "data": {
      "text/plain": [
       "Severe Storm(s)    16957\n",
       "Name: incidentType, dtype: int64"
      ]
     },
     "execution_count": 61,
     "metadata": {},
     "output_type": "execute_result"
    }
   ],
   "source": [
    "df = df[df['incidentType'].isin(natdisasters)]\n",
    "df['incidentType'].value_counts()"
   ]
  },
  {
   "cell_type": "code",
   "execution_count": 62,
   "metadata": {
    "scrolled": true
   },
   "outputs": [
    {
     "data": {
      "text/html": [
       "<div>\n",
       "<style scoped>\n",
       "    .dataframe tbody tr th:only-of-type {\n",
       "        vertical-align: middle;\n",
       "    }\n",
       "\n",
       "    .dataframe tbody tr th {\n",
       "        vertical-align: top;\n",
       "    }\n",
       "\n",
       "    .dataframe thead th {\n",
       "        text-align: right;\n",
       "    }\n",
       "</style>\n",
       "<table border=\"1\" class=\"dataframe\">\n",
       "  <thead>\n",
       "    <tr style=\"text-align: right;\">\n",
       "      <th></th>\n",
       "      <th>femaDeclarationString</th>\n",
       "      <th>disasterNumber</th>\n",
       "      <th>state</th>\n",
       "      <th>declarationType</th>\n",
       "      <th>declarationDate</th>\n",
       "      <th>fyDeclared</th>\n",
       "      <th>incidentType</th>\n",
       "      <th>declarationTitle</th>\n",
       "      <th>ihProgramDeclared</th>\n",
       "      <th>iaProgramDeclared</th>\n",
       "      <th>paProgramDeclared</th>\n",
       "      <th>hmProgramDeclared</th>\n",
       "      <th>incidentBeginDate</th>\n",
       "      <th>incidentEndDate</th>\n",
       "      <th>disasterCloseoutDate</th>\n",
       "      <th>fipsStateCode</th>\n",
       "      <th>fipsCountyCode</th>\n",
       "      <th>placeCode</th>\n",
       "      <th>designatedArea</th>\n",
       "      <th>declarationRequestNumber</th>\n",
       "      <th>id</th>\n",
       "    </tr>\n",
       "  </thead>\n",
       "  <tbody>\n",
       "    <tr>\n",
       "      <td>52</td>\n",
       "      <td>DR-56-NC</td>\n",
       "      <td>56</td>\n",
       "      <td>NC</td>\n",
       "      <td>DR</td>\n",
       "      <td>1956-04-24</td>\n",
       "      <td>1956</td>\n",
       "      <td>Severe Storm(s)</td>\n",
       "      <td>SEVERE STORM</td>\n",
       "      <td>0</td>\n",
       "      <td>1</td>\n",
       "      <td>1</td>\n",
       "      <td>1</td>\n",
       "      <td>1956-04-24</td>\n",
       "      <td>1956-04-24T05:00:00.000Z</td>\n",
       "      <td>1957-09-01T04:00:00.000Z</td>\n",
       "      <td>37</td>\n",
       "      <td>0</td>\n",
       "      <td>0</td>\n",
       "      <td>Statewide</td>\n",
       "      <td>56009</td>\n",
       "      <td>5f7b2be031a8c6681cfb4410</td>\n",
       "    </tr>\n",
       "    <tr>\n",
       "      <td>55</td>\n",
       "      <td>DR-61-PA</td>\n",
       "      <td>61</td>\n",
       "      <td>PA</td>\n",
       "      <td>DR</td>\n",
       "      <td>1956-08-09</td>\n",
       "      <td>1956</td>\n",
       "      <td>Severe Storm(s)</td>\n",
       "      <td>STORM</td>\n",
       "      <td>0</td>\n",
       "      <td>1</td>\n",
       "      <td>1</td>\n",
       "      <td>1</td>\n",
       "      <td>1956-08-09</td>\n",
       "      <td>1956-08-09T04:00:00.000Z</td>\n",
       "      <td>1959-06-01T04:00:00.000Z</td>\n",
       "      <td>42</td>\n",
       "      <td>0</td>\n",
       "      <td>0</td>\n",
       "      <td>Statewide</td>\n",
       "      <td>56016</td>\n",
       "      <td>5f7b2be031a8c6681cfb4416</td>\n",
       "    </tr>\n",
       "    <tr>\n",
       "      <td>59</td>\n",
       "      <td>DR-58-PA</td>\n",
       "      <td>58</td>\n",
       "      <td>PA</td>\n",
       "      <td>DR</td>\n",
       "      <td>1956-05-21</td>\n",
       "      <td>1956</td>\n",
       "      <td>Severe Storm(s)</td>\n",
       "      <td>SEVERE STORM</td>\n",
       "      <td>0</td>\n",
       "      <td>1</td>\n",
       "      <td>1</td>\n",
       "      <td>1</td>\n",
       "      <td>1956-05-21</td>\n",
       "      <td>1956-05-21T04:00:00.000Z</td>\n",
       "      <td>1959-06-01T04:00:00.000Z</td>\n",
       "      <td>42</td>\n",
       "      <td>0</td>\n",
       "      <td>0</td>\n",
       "      <td>Statewide</td>\n",
       "      <td>56015</td>\n",
       "      <td>5f7b2be031a8c6681cfb441e</td>\n",
       "    </tr>\n",
       "    <tr>\n",
       "      <td>97</td>\n",
       "      <td>DR-103-TX</td>\n",
       "      <td>103</td>\n",
       "      <td>TX</td>\n",
       "      <td>DR</td>\n",
       "      <td>1960-07-15</td>\n",
       "      <td>1960</td>\n",
       "      <td>Severe Storm(s)</td>\n",
       "      <td>HEAVY RAINS, HAIL, FLOODS &amp; TORNADOES</td>\n",
       "      <td>0</td>\n",
       "      <td>1</td>\n",
       "      <td>1</td>\n",
       "      <td>1</td>\n",
       "      <td>1960-07-15</td>\n",
       "      <td>1960-07-15T04:00:00.000Z</td>\n",
       "      <td>1962-10-04T04:00:00.000Z</td>\n",
       "      <td>48</td>\n",
       "      <td>0</td>\n",
       "      <td>0</td>\n",
       "      <td>Statewide</td>\n",
       "      <td>60022</td>\n",
       "      <td>5f7b2be031a8c6681cfb4484</td>\n",
       "    </tr>\n",
       "    <tr>\n",
       "      <td>102</td>\n",
       "      <td>DR-104-OK</td>\n",
       "      <td>104</td>\n",
       "      <td>OK</td>\n",
       "      <td>DR</td>\n",
       "      <td>1960-07-15</td>\n",
       "      <td>1960</td>\n",
       "      <td>Severe Storm(s)</td>\n",
       "      <td>HEAVY RAINS, HAIL, FLOODS &amp; TORNADOES</td>\n",
       "      <td>0</td>\n",
       "      <td>1</td>\n",
       "      <td>1</td>\n",
       "      <td>1</td>\n",
       "      <td>1960-07-15</td>\n",
       "      <td>1960-07-15T04:00:00.000Z</td>\n",
       "      <td>1962-03-20T05:00:00.000Z</td>\n",
       "      <td>40</td>\n",
       "      <td>0</td>\n",
       "      <td>0</td>\n",
       "      <td>Statewide</td>\n",
       "      <td>60021</td>\n",
       "      <td>5f7b2be031a8c6681cfb44d4</td>\n",
       "    </tr>\n",
       "  </tbody>\n",
       "</table>\n",
       "</div>"
      ],
      "text/plain": [
       "    femaDeclarationString  ...                        id\n",
       "52               DR-56-NC  ...  5f7b2be031a8c6681cfb4410\n",
       "55               DR-61-PA  ...  5f7b2be031a8c6681cfb4416\n",
       "59               DR-58-PA  ...  5f7b2be031a8c6681cfb441e\n",
       "97              DR-103-TX  ...  5f7b2be031a8c6681cfb4484\n",
       "102             DR-104-OK  ...  5f7b2be031a8c6681cfb44d4\n",
       "\n",
       "[5 rows x 21 columns]"
      ]
     },
     "execution_count": 62,
     "metadata": {},
     "output_type": "execute_result"
    }
   ],
   "source": [
    "df.head()"
   ]
  },
  {
   "cell_type": "code",
   "execution_count": 63,
   "metadata": {
    "scrolled": true
   },
   "outputs": [
    {
     "data": {
      "text/plain": [
       "['Severe Storm(s)']"
      ]
     },
     "execution_count": 63,
     "metadata": {},
     "output_type": "execute_result"
    }
   ],
   "source": [
    "severestorm = list(df['incidentType'].value_counts().head(1).index)\n",
    "severestorm"
   ]
  },
  {
   "cell_type": "code",
   "execution_count": 64,
   "metadata": {
    "scrolled": true
   },
   "outputs": [
    {
     "data": {
      "text/html": [
       "<div>\n",
       "<style scoped>\n",
       "    .dataframe tbody tr th:only-of-type {\n",
       "        vertical-align: middle;\n",
       "    }\n",
       "\n",
       "    .dataframe tbody tr th {\n",
       "        vertical-align: top;\n",
       "    }\n",
       "\n",
       "    .dataframe thead th {\n",
       "        text-align: right;\n",
       "    }\n",
       "</style>\n",
       "<table border=\"1\" class=\"dataframe\">\n",
       "  <thead>\n",
       "    <tr style=\"text-align: right;\">\n",
       "      <th></th>\n",
       "      <th>femaDeclarationString</th>\n",
       "      <th>disasterNumber</th>\n",
       "      <th>state</th>\n",
       "      <th>declarationType</th>\n",
       "      <th>declarationDate</th>\n",
       "      <th>fyDeclared</th>\n",
       "      <th>incidentType</th>\n",
       "      <th>declarationTitle</th>\n",
       "      <th>ihProgramDeclared</th>\n",
       "      <th>iaProgramDeclared</th>\n",
       "      <th>paProgramDeclared</th>\n",
       "      <th>hmProgramDeclared</th>\n",
       "      <th>incidentBeginDate</th>\n",
       "      <th>incidentEndDate</th>\n",
       "      <th>disasterCloseoutDate</th>\n",
       "      <th>fipsStateCode</th>\n",
       "      <th>fipsCountyCode</th>\n",
       "      <th>placeCode</th>\n",
       "      <th>designatedArea</th>\n",
       "      <th>declarationRequestNumber</th>\n",
       "      <th>id</th>\n",
       "    </tr>\n",
       "    <tr>\n",
       "      <th>date</th>\n",
       "      <th></th>\n",
       "      <th></th>\n",
       "      <th></th>\n",
       "      <th></th>\n",
       "      <th></th>\n",
       "      <th></th>\n",
       "      <th></th>\n",
       "      <th></th>\n",
       "      <th></th>\n",
       "      <th></th>\n",
       "      <th></th>\n",
       "      <th></th>\n",
       "      <th></th>\n",
       "      <th></th>\n",
       "      <th></th>\n",
       "      <th></th>\n",
       "      <th></th>\n",
       "      <th></th>\n",
       "      <th></th>\n",
       "      <th></th>\n",
       "      <th></th>\n",
       "    </tr>\n",
       "  </thead>\n",
       "  <tbody>\n",
       "    <tr>\n",
       "      <td>1956-04-24</td>\n",
       "      <td>DR-56-NC</td>\n",
       "      <td>56</td>\n",
       "      <td>NC</td>\n",
       "      <td>DR</td>\n",
       "      <td>1956-04-24</td>\n",
       "      <td>1956</td>\n",
       "      <td>Severe Storm(s)</td>\n",
       "      <td>SEVERE STORM</td>\n",
       "      <td>0</td>\n",
       "      <td>1</td>\n",
       "      <td>1</td>\n",
       "      <td>1</td>\n",
       "      <td>1956-04-24</td>\n",
       "      <td>1956-04-24T05:00:00.000Z</td>\n",
       "      <td>1957-09-01T04:00:00.000Z</td>\n",
       "      <td>37</td>\n",
       "      <td>0</td>\n",
       "      <td>0</td>\n",
       "      <td>Statewide</td>\n",
       "      <td>56009</td>\n",
       "      <td>5f7b2be031a8c6681cfb4410</td>\n",
       "    </tr>\n",
       "    <tr>\n",
       "      <td>1956-08-09</td>\n",
       "      <td>DR-61-PA</td>\n",
       "      <td>61</td>\n",
       "      <td>PA</td>\n",
       "      <td>DR</td>\n",
       "      <td>1956-08-09</td>\n",
       "      <td>1956</td>\n",
       "      <td>Severe Storm(s)</td>\n",
       "      <td>STORM</td>\n",
       "      <td>0</td>\n",
       "      <td>1</td>\n",
       "      <td>1</td>\n",
       "      <td>1</td>\n",
       "      <td>1956-08-09</td>\n",
       "      <td>1956-08-09T04:00:00.000Z</td>\n",
       "      <td>1959-06-01T04:00:00.000Z</td>\n",
       "      <td>42</td>\n",
       "      <td>0</td>\n",
       "      <td>0</td>\n",
       "      <td>Statewide</td>\n",
       "      <td>56016</td>\n",
       "      <td>5f7b2be031a8c6681cfb4416</td>\n",
       "    </tr>\n",
       "    <tr>\n",
       "      <td>1956-05-21</td>\n",
       "      <td>DR-58-PA</td>\n",
       "      <td>58</td>\n",
       "      <td>PA</td>\n",
       "      <td>DR</td>\n",
       "      <td>1956-05-21</td>\n",
       "      <td>1956</td>\n",
       "      <td>Severe Storm(s)</td>\n",
       "      <td>SEVERE STORM</td>\n",
       "      <td>0</td>\n",
       "      <td>1</td>\n",
       "      <td>1</td>\n",
       "      <td>1</td>\n",
       "      <td>1956-05-21</td>\n",
       "      <td>1956-05-21T04:00:00.000Z</td>\n",
       "      <td>1959-06-01T04:00:00.000Z</td>\n",
       "      <td>42</td>\n",
       "      <td>0</td>\n",
       "      <td>0</td>\n",
       "      <td>Statewide</td>\n",
       "      <td>56015</td>\n",
       "      <td>5f7b2be031a8c6681cfb441e</td>\n",
       "    </tr>\n",
       "    <tr>\n",
       "      <td>1960-07-15</td>\n",
       "      <td>DR-103-TX</td>\n",
       "      <td>103</td>\n",
       "      <td>TX</td>\n",
       "      <td>DR</td>\n",
       "      <td>1960-07-15</td>\n",
       "      <td>1960</td>\n",
       "      <td>Severe Storm(s)</td>\n",
       "      <td>HEAVY RAINS, HAIL, FLOODS &amp; TORNADOES</td>\n",
       "      <td>0</td>\n",
       "      <td>1</td>\n",
       "      <td>1</td>\n",
       "      <td>1</td>\n",
       "      <td>1960-07-15</td>\n",
       "      <td>1960-07-15T04:00:00.000Z</td>\n",
       "      <td>1962-10-04T04:00:00.000Z</td>\n",
       "      <td>48</td>\n",
       "      <td>0</td>\n",
       "      <td>0</td>\n",
       "      <td>Statewide</td>\n",
       "      <td>60022</td>\n",
       "      <td>5f7b2be031a8c6681cfb4484</td>\n",
       "    </tr>\n",
       "    <tr>\n",
       "      <td>1960-07-15</td>\n",
       "      <td>DR-104-OK</td>\n",
       "      <td>104</td>\n",
       "      <td>OK</td>\n",
       "      <td>DR</td>\n",
       "      <td>1960-07-15</td>\n",
       "      <td>1960</td>\n",
       "      <td>Severe Storm(s)</td>\n",
       "      <td>HEAVY RAINS, HAIL, FLOODS &amp; TORNADOES</td>\n",
       "      <td>0</td>\n",
       "      <td>1</td>\n",
       "      <td>1</td>\n",
       "      <td>1</td>\n",
       "      <td>1960-07-15</td>\n",
       "      <td>1960-07-15T04:00:00.000Z</td>\n",
       "      <td>1962-03-20T05:00:00.000Z</td>\n",
       "      <td>40</td>\n",
       "      <td>0</td>\n",
       "      <td>0</td>\n",
       "      <td>Statewide</td>\n",
       "      <td>60021</td>\n",
       "      <td>5f7b2be031a8c6681cfb44d4</td>\n",
       "    </tr>\n",
       "    <tr>\n",
       "      <td>...</td>\n",
       "      <td>...</td>\n",
       "      <td>...</td>\n",
       "      <td>...</td>\n",
       "      <td>...</td>\n",
       "      <td>...</td>\n",
       "      <td>...</td>\n",
       "      <td>...</td>\n",
       "      <td>...</td>\n",
       "      <td>...</td>\n",
       "      <td>...</td>\n",
       "      <td>...</td>\n",
       "      <td>...</td>\n",
       "      <td>...</td>\n",
       "      <td>...</td>\n",
       "      <td>...</td>\n",
       "      <td>...</td>\n",
       "      <td>...</td>\n",
       "      <td>...</td>\n",
       "      <td>...</td>\n",
       "      <td>...</td>\n",
       "      <td>...</td>\n",
       "    </tr>\n",
       "    <tr>\n",
       "      <td>2020-10-02</td>\n",
       "      <td>DR-4565-ND</td>\n",
       "      <td>4565</td>\n",
       "      <td>ND</td>\n",
       "      <td>DR</td>\n",
       "      <td>2020-10-02</td>\n",
       "      <td>2021</td>\n",
       "      <td>Severe Storm(s)</td>\n",
       "      <td>SEVERE STORMS AND FLOODING</td>\n",
       "      <td>0</td>\n",
       "      <td>0</td>\n",
       "      <td>1</td>\n",
       "      <td>1</td>\n",
       "      <td>2020-06-29</td>\n",
       "      <td>2020-07-01T04:00:00.000Z</td>\n",
       "      <td>NaN</td>\n",
       "      <td>38</td>\n",
       "      <td>5</td>\n",
       "      <td>99005</td>\n",
       "      <td>Benson (County)</td>\n",
       "      <td>20254</td>\n",
       "      <td>5f7b2c3131a8c6681cfffa45</td>\n",
       "    </tr>\n",
       "    <tr>\n",
       "      <td>2020-10-02</td>\n",
       "      <td>DR-4565-ND</td>\n",
       "      <td>4565</td>\n",
       "      <td>ND</td>\n",
       "      <td>DR</td>\n",
       "      <td>2020-10-02</td>\n",
       "      <td>2021</td>\n",
       "      <td>Severe Storm(s)</td>\n",
       "      <td>SEVERE STORMS AND FLOODING</td>\n",
       "      <td>0</td>\n",
       "      <td>0</td>\n",
       "      <td>1</td>\n",
       "      <td>1</td>\n",
       "      <td>2020-06-29</td>\n",
       "      <td>2020-07-01T04:00:00.000Z</td>\n",
       "      <td>NaN</td>\n",
       "      <td>38</td>\n",
       "      <td>53</td>\n",
       "      <td>99053</td>\n",
       "      <td>McKenzie (County)</td>\n",
       "      <td>20254</td>\n",
       "      <td>5f7b2c3131a8c6681cfffa5f</td>\n",
       "    </tr>\n",
       "    <tr>\n",
       "      <td>2020-10-02</td>\n",
       "      <td>DR-4565-ND</td>\n",
       "      <td>4565</td>\n",
       "      <td>ND</td>\n",
       "      <td>DR</td>\n",
       "      <td>2020-10-02</td>\n",
       "      <td>2021</td>\n",
       "      <td>Severe Storm(s)</td>\n",
       "      <td>SEVERE STORMS AND FLOODING</td>\n",
       "      <td>0</td>\n",
       "      <td>0</td>\n",
       "      <td>1</td>\n",
       "      <td>1</td>\n",
       "      <td>2020-06-29</td>\n",
       "      <td>2020-07-01T04:00:00.000Z</td>\n",
       "      <td>NaN</td>\n",
       "      <td>38</td>\n",
       "      <td>61</td>\n",
       "      <td>99061</td>\n",
       "      <td>Mountrail (County)</td>\n",
       "      <td>20254</td>\n",
       "      <td>5f7b2c3131a8c6681cfffa62</td>\n",
       "    </tr>\n",
       "    <tr>\n",
       "      <td>2020-10-02</td>\n",
       "      <td>DR-4565-ND</td>\n",
       "      <td>4565</td>\n",
       "      <td>ND</td>\n",
       "      <td>DR</td>\n",
       "      <td>2020-10-02</td>\n",
       "      <td>2021</td>\n",
       "      <td>Severe Storm(s)</td>\n",
       "      <td>SEVERE STORMS AND FLOODING</td>\n",
       "      <td>0</td>\n",
       "      <td>0</td>\n",
       "      <td>1</td>\n",
       "      <td>1</td>\n",
       "      <td>2020-06-29</td>\n",
       "      <td>2020-07-01T04:00:00.000Z</td>\n",
       "      <td>NaN</td>\n",
       "      <td>38</td>\n",
       "      <td>63</td>\n",
       "      <td>99063</td>\n",
       "      <td>Nelson (County)</td>\n",
       "      <td>20254</td>\n",
       "      <td>5f7b2c3131a8c6681cfffa69</td>\n",
       "    </tr>\n",
       "    <tr>\n",
       "      <td>2020-10-02</td>\n",
       "      <td>DR-4565-ND</td>\n",
       "      <td>4565</td>\n",
       "      <td>ND</td>\n",
       "      <td>DR</td>\n",
       "      <td>2020-10-02</td>\n",
       "      <td>2021</td>\n",
       "      <td>Severe Storm(s)</td>\n",
       "      <td>SEVERE STORMS AND FLOODING</td>\n",
       "      <td>0</td>\n",
       "      <td>0</td>\n",
       "      <td>1</td>\n",
       "      <td>1</td>\n",
       "      <td>2020-06-29</td>\n",
       "      <td>2020-07-01T04:00:00.000Z</td>\n",
       "      <td>NaN</td>\n",
       "      <td>38</td>\n",
       "      <td>103</td>\n",
       "      <td>99103</td>\n",
       "      <td>Wells (County)</td>\n",
       "      <td>20254</td>\n",
       "      <td>5f7b2c3131a8c6681cfffa8c</td>\n",
       "    </tr>\n",
       "  </tbody>\n",
       "</table>\n",
       "<p>16957 rows × 21 columns</p>\n",
       "</div>"
      ],
      "text/plain": [
       "           femaDeclarationString  ...                        id\n",
       "date                              ...                          \n",
       "1956-04-24              DR-56-NC  ...  5f7b2be031a8c6681cfb4410\n",
       "1956-08-09              DR-61-PA  ...  5f7b2be031a8c6681cfb4416\n",
       "1956-05-21              DR-58-PA  ...  5f7b2be031a8c6681cfb441e\n",
       "1960-07-15             DR-103-TX  ...  5f7b2be031a8c6681cfb4484\n",
       "1960-07-15             DR-104-OK  ...  5f7b2be031a8c6681cfb44d4\n",
       "...                          ...  ...                       ...\n",
       "2020-10-02            DR-4565-ND  ...  5f7b2c3131a8c6681cfffa45\n",
       "2020-10-02            DR-4565-ND  ...  5f7b2c3131a8c6681cfffa5f\n",
       "2020-10-02            DR-4565-ND  ...  5f7b2c3131a8c6681cfffa62\n",
       "2020-10-02            DR-4565-ND  ...  5f7b2c3131a8c6681cfffa69\n",
       "2020-10-02            DR-4565-ND  ...  5f7b2c3131a8c6681cfffa8c\n",
       "\n",
       "[16957 rows x 21 columns]"
      ]
     },
     "execution_count": 64,
     "metadata": {},
     "output_type": "execute_result"
    }
   ],
   "source": [
    "# Make Date the index \n",
    "df['date'] = pd.to_datetime(df['declarationDate'])\n",
    "df.set_index('date', inplace=True)\n",
    "df"
   ]
  },
  {
   "cell_type": "code",
   "execution_count": 65,
   "metadata": {
    "scrolled": true
   },
   "outputs": [
    {
     "data": {
      "text/plain": [
       "incidentType     date      \n",
       "Severe Storm(s)  1956-04-01     1\n",
       "                 1956-05-01     1\n",
       "                 1956-06-01     0\n",
       "                 1956-07-01     0\n",
       "                 1956-08-01     1\n",
       "                               ..\n",
       "                 2020-06-01     0\n",
       "                 2020-07-01    68\n",
       "                 2020-08-01    23\n",
       "                 2020-09-01     1\n",
       "                 2020-10-01     6\n",
       "Name: id, Length: 775, dtype: int64"
      ]
     },
     "execution_count": 65,
     "metadata": {},
     "output_type": "execute_result"
    }
   ],
   "source": [
    "# The 'MS' string groups the data in buckets by start of the month\n",
    "df.groupby(['incidentType']).resample('MS').count()['id']"
   ]
  },
  {
   "cell_type": "code",
   "execution_count": 66,
   "metadata": {},
   "outputs": [],
   "source": [
    "freq = 'MS'"
   ]
  },
  {
   "cell_type": "code",
   "execution_count": 67,
   "metadata": {},
   "outputs": [
    {
     "data": {
      "text/plain": [
       "DatetimeIndex(['1953-05-01', '1953-05-02', '1953-05-03', '1953-05-04',\n",
       "               '1953-05-05', '1953-05-06', '1953-05-07', '1953-05-08',\n",
       "               '1953-05-09', '1953-05-10',\n",
       "               ...\n",
       "               '2019-12-23', '2019-12-24', '2019-12-25', '2019-12-26',\n",
       "               '2019-12-27', '2019-12-28', '2019-12-29', '2019-12-30',\n",
       "               '2019-12-31', '2020-01-01'],\n",
       "              dtype='datetime64[ns]', length=24352, freq='D')"
      ]
     },
     "execution_count": 67,
     "metadata": {},
     "output_type": "execute_result"
    }
   ],
   "source": [
    "pd.date_range(start='1953-05-01', end='2020-01-01')"
   ]
  },
  {
   "cell_type": "code",
   "execution_count": 68,
   "metadata": {
    "scrolled": false
   },
   "outputs": [
    {
     "data": {
      "image/png": "[encoded data removed]",
      "text/plain": [
       "<Figure size 432x288 with 1 Axes>"
      ]
     },
     "metadata": {
      "needs_background": "light"
     },
     "output_type": "display_data"
    }
   ],
   "source": [
    "ts_natdisasters = df.groupby(['incidentType']).resample(freq).count()['id']\n",
    "ts_natdisasters.plot.line(color='red')\n",
    "plt.title('Natural Disasters by Year')\n",
    "plt.savefig('natdisasters-by-year')\n",
    "plt.show()"
   ]
  },
  {
   "cell_type": "code",
   "execution_count": 69,
   "metadata": {
    "scrolled": true
   },
   "outputs": [
    {
     "data": {
      "text/plain": [
       "['Severe Storm(s)']"
      ]
     },
     "execution_count": 69,
     "metadata": {},
     "output_type": "execute_result"
    }
   ],
   "source": [
    "natdisasters"
   ]
  },
  {
   "cell_type": "code",
   "execution_count": 70,
   "metadata": {},
   "outputs": [],
   "source": [
    "#natdisasters.drop('Biological')"
   ]
  },
  {
   "cell_type": "code",
   "execution_count": 71,
   "metadata": {},
   "outputs": [],
   "source": [
    "# Severe Storm(s)"
   ]
  },
  {
   "cell_type": "code",
   "execution_count": 72,
   "metadata": {
    "scrolled": true
   },
   "outputs": [
    {
     "data": {
      "image/png": "[encoded data removed]",
      "text/plain": [
       "<Figure size 432x288 with 1 Axes>"
      ]
     },
     "metadata": {
      "needs_background": "light"
     },
     "output_type": "display_data"
    }
   ],
   "source": [
    "sstorms = {}\n",
    "for disaster in natdisasters:\n",
    "    ts = ts_natdisasters[disaster].asfreq(freq).rename(disaster)\n",
    "    plt.figure()\n",
    "    ts.plot(title=disaster)\n",
    "    sstorms[disaster] = ts"
   ]
  },
  {
   "cell_type": "code",
   "execution_count": 73,
   "metadata": {
    "scrolled": false
   },
   "outputs": [
    {
     "data": {
      "text/html": [
       "<div>\n",
       "<style scoped>\n",
       "    .dataframe tbody tr th:only-of-type {\n",
       "        vertical-align: middle;\n",
       "    }\n",
       "\n",
       "    .dataframe tbody tr th {\n",
       "        vertical-align: top;\n",
       "    }\n",
       "\n",
       "    .dataframe thead th {\n",
       "        text-align: right;\n",
       "    }\n",
       "</style>\n",
       "<table border=\"1\" class=\"dataframe\">\n",
       "  <thead>\n",
       "    <tr style=\"text-align: right;\">\n",
       "      <th></th>\n",
       "      <th>Severe Storm(s)</th>\n",
       "    </tr>\n",
       "    <tr>\n",
       "      <th>date</th>\n",
       "      <th></th>\n",
       "    </tr>\n",
       "  </thead>\n",
       "  <tbody>\n",
       "    <tr>\n",
       "      <td>1956-04-01</td>\n",
       "      <td>1</td>\n",
       "    </tr>\n",
       "    <tr>\n",
       "      <td>1956-05-01</td>\n",
       "      <td>1</td>\n",
       "    </tr>\n",
       "    <tr>\n",
       "      <td>1956-06-01</td>\n",
       "      <td>0</td>\n",
       "    </tr>\n",
       "    <tr>\n",
       "      <td>1956-07-01</td>\n",
       "      <td>0</td>\n",
       "    </tr>\n",
       "    <tr>\n",
       "      <td>1956-08-01</td>\n",
       "      <td>1</td>\n",
       "    </tr>\n",
       "    <tr>\n",
       "      <td>...</td>\n",
       "      <td>...</td>\n",
       "    </tr>\n",
       "    <tr>\n",
       "      <td>2020-06-01</td>\n",
       "      <td>0</td>\n",
       "    </tr>\n",
       "    <tr>\n",
       "      <td>2020-07-01</td>\n",
       "      <td>68</td>\n",
       "    </tr>\n",
       "    <tr>\n",
       "      <td>2020-08-01</td>\n",
       "      <td>23</td>\n",
       "    </tr>\n",
       "    <tr>\n",
       "      <td>2020-09-01</td>\n",
       "      <td>1</td>\n",
       "    </tr>\n",
       "    <tr>\n",
       "      <td>2020-10-01</td>\n",
       "      <td>6</td>\n",
       "    </tr>\n",
       "  </tbody>\n",
       "</table>\n",
       "<p>775 rows × 1 columns</p>\n",
       "</div>"
      ],
      "text/plain": [
       "            Severe Storm(s)\n",
       "date                       \n",
       "1956-04-01                1\n",
       "1956-05-01                1\n",
       "1956-06-01                0\n",
       "1956-07-01                0\n",
       "1956-08-01                1\n",
       "...                     ...\n",
       "2020-06-01                0\n",
       "2020-07-01               68\n",
       "2020-08-01               23\n",
       "2020-09-01                1\n",
       "2020-10-01                6\n",
       "\n",
       "[775 rows x 1 columns]"
      ]
     },
     "execution_count": 73,
     "metadata": {},
     "output_type": "execute_result"
    }
   ],
   "source": [
    "df = pd.DataFrame(sstorms) \n",
    "df"
   ]
  },
  {
   "cell_type": "code",
   "execution_count": 74,
   "metadata": {},
   "outputs": [],
   "source": [
    "#sstorms = sstorms.drop(['Biological']) "
   ]
  },
  {
   "cell_type": "code",
   "execution_count": 75,
   "metadata": {},
   "outputs": [],
   "source": [
    "df.fillna(0, inplace=True)"
   ]
  },
  {
   "cell_type": "code",
   "execution_count": 76,
   "metadata": {
    "scrolled": false
   },
   "outputs": [
    {
     "data": {
      "text/plain": [
       "DatetimeIndex(['1956-04-01', '1956-05-01', '1956-06-01', '1956-07-01',\n",
       "               '1956-08-01', '1956-09-01', '1956-10-01', '1956-11-01',\n",
       "               '1956-12-01', '1957-01-01',\n",
       "               ...\n",
       "               '2020-01-01', '2020-02-01', '2020-03-01', '2020-04-01',\n",
       "               '2020-05-01', '2020-06-01', '2020-07-01', '2020-08-01',\n",
       "               '2020-09-01', '2020-10-01'],\n",
       "              dtype='datetime64[ns]', name='date', length=775, freq='MS')"
      ]
     },
     "execution_count": 76,
     "metadata": {},
     "output_type": "execute_result"
    }
   ],
   "source": [
    "df.index"
   ]
  },
  {
   "cell_type": "markdown",
   "metadata": {},
   "source": [
    "# Vizualizations for Non-Technical Audience"
   ]
  },
  {
   "cell_type": "code",
   "execution_count": 77,
   "metadata": {
    "scrolled": true
   },
   "outputs": [],
   "source": [
    "#df['Fire']"
   ]
  },
  {
   "cell_type": "code",
   "execution_count": 78,
   "metadata": {},
   "outputs": [],
   "source": [
    "# Look at Lab for sampling\n",
    "# MS or ME"
   ]
  },
  {
   "cell_type": "code",
   "execution_count": 79,
   "metadata": {},
   "outputs": [],
   "source": [
    "## Making into df after running for loop\n",
    "## Rewatching office hours video - forcasting\n",
    "## Deleting biological\n",
    "## Specific periods of time of year"
   ]
  },
  {
   "cell_type": "code",
   "execution_count": 80,
   "metadata": {
    "scrolled": true
   },
   "outputs": [],
   "source": [
    "# sstorms = df[df['incidentType'] == 'Severe Storm(s)']\n",
    "# sstorms"
   ]
  },
  {
   "cell_type": "code",
   "execution_count": 81,
   "metadata": {},
   "outputs": [],
   "source": [
    "#ts_sstorms = sstorms.resample('A').count()['id']\n",
    "#ts_sstorms.plot.line(color='red')\n",
    "##plt.savefig('severestorms-by-year')\n",
    "#plt.show()"
   ]
  },
  {
   "cell_type": "code",
   "execution_count": 82,
   "metadata": {
    "scrolled": true
   },
   "outputs": [],
   "source": [
    "#hurricanes = df[df['incidentType'] =='Hurricane']\n",
    "#hurricanes"
   ]
  },
  {
   "cell_type": "code",
   "execution_count": 83,
   "metadata": {},
   "outputs": [],
   "source": [
    "#hurricanes.nunique()"
   ]
  },
  {
   "cell_type": "code",
   "execution_count": 84,
   "metadata": {
    "scrolled": false
   },
   "outputs": [],
   "source": [
    "#ts_hurricanes = hurricanes.resample('A').count()['id']\n",
    "#ts_hurricanes.plot.line(color='purple')\n",
    "#plt.title('Hurricanes by Year')\n",
    "#plt.savefig('hurricanes-by-year')\n",
    "#plt.show()"
   ]
  },
  {
   "cell_type": "code",
   "execution_count": 85,
   "metadata": {},
   "outputs": [],
   "source": [
    "# Plotting the cumulation of hurricanes\n",
    "#ts_hurricanes.cumsum().plot()"
   ]
  },
  {
   "cell_type": "code",
   "execution_count": 86,
   "metadata": {},
   "outputs": [],
   "source": [
    "# Flood"
   ]
  },
  {
   "cell_type": "code",
   "execution_count": 87,
   "metadata": {},
   "outputs": [],
   "source": [
    "#floods = df[df['incidentType'] =='Flood']\n",
    "#floods"
   ]
  },
  {
   "cell_type": "code",
   "execution_count": 88,
   "metadata": {},
   "outputs": [],
   "source": [
    "#ts_flood = floods.resample('A').count()['id']\n",
    "#ts_flood.plot.line(color='blue')\n",
    "#plt.title('Floods by Year')\n",
    "#plt.savefig('floods-by-year')\n",
    "#plt.show()"
   ]
  },
  {
   "cell_type": "code",
   "execution_count": 89,
   "metadata": {},
   "outputs": [],
   "source": [
    "# Biological"
   ]
  },
  {
   "cell_type": "code",
   "execution_count": 90,
   "metadata": {},
   "outputs": [],
   "source": [
    "#Biological = df[df['incidentType'] =='Biological']\n",
    "#Biological"
   ]
  },
  {
   "cell_type": "code",
   "execution_count": 91,
   "metadata": {
    "scrolled": true
   },
   "outputs": [],
   "source": [
    "#ts_Biological = Biological.resample('MS').count()['id']\n",
    "#ts_Biological.plot.line(color='orange')\n",
    "#plt.title('Biological by Year')\n",
    "#plt.savefig('Biological-by-year')\n",
    "#plt.show()"
   ]
  },
  {
   "cell_type": "code",
   "execution_count": 92,
   "metadata": {},
   "outputs": [],
   "source": [
    "# Bio is COVID\n",
    "# Not include in this model"
   ]
  },
  {
   "cell_type": "code",
   "execution_count": 93,
   "metadata": {},
   "outputs": [],
   "source": [
    "# Snow"
   ]
  },
  {
   "cell_type": "code",
   "execution_count": 94,
   "metadata": {},
   "outputs": [],
   "source": [
    "#Snow = df[df['incidentType'] =='Snow']\n",
    "#Snow"
   ]
  },
  {
   "cell_type": "code",
   "execution_count": 95,
   "metadata": {},
   "outputs": [],
   "source": [
    "#ts_Snow = Snow.resample('A').count()['id']\n",
    "#ts_Snow.plot.line(color='orange')\n",
    "#plt.title('Snow by Year')\n",
    "#plt.savefig('Snow-by-year')\n",
    "#plt.show()"
   ]
  },
  {
   "cell_type": "code",
   "execution_count": 96,
   "metadata": {},
   "outputs": [],
   "source": [
    "#'Fire'"
   ]
  },
  {
   "cell_type": "code",
   "execution_count": 97,
   "metadata": {},
   "outputs": [],
   "source": [
    "#Fire = df[df['incidentType'] =='Fire']\n",
    "#Fire"
   ]
  },
  {
   "cell_type": "code",
   "execution_count": 98,
   "metadata": {},
   "outputs": [],
   "source": [
    "#ts_Fire = Fire.resample('A').count()['id']\n",
    "#ts_Fire.plot.line(color='red')\n",
    "#plt.title('Fire by Year')\n",
    "#plt.savefig('Fire-by-year')\n",
    "#plt.show()"
   ]
  },
  {
   "cell_type": "code",
   "execution_count": 99,
   "metadata": {},
   "outputs": [],
   "source": [
    "#'Severe Ice Storm'"
   ]
  },
  {
   "cell_type": "code",
   "execution_count": 100,
   "metadata": {},
   "outputs": [],
   "source": [
    "#Ice = df[df['incidentType'] =='Severe Ice Storm']\n",
    "#Ice"
   ]
  },
  {
   "cell_type": "code",
   "execution_count": 101,
   "metadata": {},
   "outputs": [],
   "source": [
    "#ts_Ice = Ice.resample('A').count()['id']\n",
    "#ts_Ice.plot.line(color='blue')\n",
    "#plt.title('Ice by Year')\n",
    "#plt.savefig('Ice-by-year')\n",
    "#plt.show()"
   ]
  },
  {
   "cell_type": "code",
   "execution_count": 102,
   "metadata": {},
   "outputs": [],
   "source": [
    "#'Tornado'"
   ]
  },
  {
   "cell_type": "code",
   "execution_count": 103,
   "metadata": {},
   "outputs": [],
   "source": [
    "#Tornado = df[df['incidentType'] =='Tornado']\n",
    "#Tornado"
   ]
  },
  {
   "cell_type": "code",
   "execution_count": 104,
   "metadata": {},
   "outputs": [],
   "source": [
    "#ts_Tornado = Tornado.resample('A').count()['id']\n",
    "#ts_Tornado.plot.line(color='orange')\n",
    "#plt.title('Tornado by Year')\n",
    "#plt.savefig('Tornado-by-year')\n",
    "#plt.show()"
   ]
  },
  {
   "cell_type": "markdown",
   "metadata": {},
   "source": [
    "# Modeling"
   ]
  },
  {
   "cell_type": "code",
   "execution_count": 105,
   "metadata": {},
   "outputs": [],
   "source": [
    "# One of the most common methods used in time series forecasting is known as the ARIMA model, \n",
    "# which stands for AutoregRessive Integrated Moving Average. \n",
    "# ARIMA is a model that can be fitted to time series data in order to \n",
    "# better understand or predict future points in the series."
   ]
  },
  {
   "cell_type": "code",
   "execution_count": 106,
   "metadata": {},
   "outputs": [],
   "source": [
    "# Defining (p,d,q)\n",
    "# p = auto-regressive part of model. Incorporates the effect of past values into our model.\n",
    "# d = Integrated component of an ARIMA model. Concerned with the amount of differencing \n",
    "# as it identifies the number of lag values to subtract from the current observation.  \n",
    "# q = Moving average part of the model. Used to set the error of the model as a \n",
    "# linear combination of the error values observed at previous time point in the past.\n",
    "# ARIMA(p,d,q) = seasonality, trend, and noise in datasets"
   ]
  },
  {
   "cell_type": "code",
   "execution_count": 107,
   "metadata": {},
   "outputs": [],
   "source": [
    "# Define the p, d and q parameters to take any value between 0 and 2\n",
    "p = d = q = range(0, 2)\n",
    "\n",
    "# Generate all different combinations of p, q and q triplets\n",
    "pdq = list(itertools.product(p, d, q))\n",
    "\n",
    "# Generate all different combinations of seasonal p, q and q triplets\n",
    "pdqs = [(x[0], x[1], x[2], 12) for x in list(itertools.product(p, d, q))]"
   ]
  },
  {
   "cell_type": "code",
   "execution_count": 108,
   "metadata": {},
   "outputs": [
    {
     "name": "stdout",
     "output_type": "stream",
     "text": [
      "ARIMA (0, 0, 0) x (0, 0, 0, 12)12 : AIC Calculated =8298.192893826115\n",
      "ARIMA (0, 0, 0) x (0, 0, 1, 12)12 : AIC Calculated =8040.916702726013\n",
      "ARIMA (0, 0, 0) x (0, 1, 0, 12)12 : AIC Calculated =8168.361684807872\n",
      "ARIMA (0, 0, 0) x (0, 1, 1, 12)12 : AIC Calculated =7730.3726171532735\n",
      "ARIMA (0, 0, 0) x (1, 0, 0, 12)12 : AIC Calculated =7967.076203949631\n",
      "ARIMA (0, 0, 0) x (1, 0, 1, 12)12 : AIC Calculated =7841.941128568544\n",
      "ARIMA (0, 0, 0) x (1, 1, 0, 12)12 : AIC Calculated =7902.415280600185\n",
      "ARIMA (0, 0, 0) x (1, 1, 1, 12)12 : AIC Calculated =7731.598958404081\n",
      "ARIMA (0, 0, 1) x (0, 0, 0, 12)12 : AIC Calculated =8134.43127403524\n",
      "ARIMA (0, 0, 1) x (0, 0, 1, 12)12 : AIC Calculated =7939.095371953137\n",
      "ARIMA (0, 0, 1) x (0, 1, 0, 12)12 : AIC Calculated =8140.601024179337\n",
      "ARIMA (0, 0, 1) x (0, 1, 1, 12)12 : AIC Calculated =7691.962477127088\n",
      "ARIMA (0, 0, 1) x (1, 0, 0, 12)12 : AIC Calculated =7912.551877745274\n",
      "ARIMA (0, 0, 1) x (1, 0, 1, 12)12 : AIC Calculated =7802.437558476519\n",
      "ARIMA (0, 0, 1) x (1, 1, 0, 12)12 : AIC Calculated =7879.610717356403\n",
      "ARIMA (0, 0, 1) x (1, 1, 1, 12)12 : AIC Calculated =7693.045836379444\n",
      "ARIMA (0, 1, 0) x (0, 0, 0, 12)12 : AIC Calculated =8226.060758387264\n",
      "ARIMA (0, 1, 0) x (0, 0, 1, 12)12 : AIC Calculated =8101.953757890237\n",
      "ARIMA (0, 1, 0) x (0, 1, 0, 12)12 : AIC Calculated =8534.793291314996\n",
      "ARIMA (0, 1, 0) x (0, 1, 1, 12)12 : AIC Calculated =8016.6958406069825\n",
      "ARIMA (0, 1, 0) x (1, 0, 0, 12)12 : AIC Calculated =8110.387795328124\n",
      "ARIMA (0, 1, 0) x (1, 0, 1, 12)12 : AIC Calculated =8101.98992589869\n",
      "ARIMA (0, 1, 0) x (1, 1, 0, 12)12 : AIC Calculated =8242.635480456396\n",
      "ARIMA (0, 1, 0) x (1, 1, 1, 12)12 : AIC Calculated =8016.26783682139\n",
      "ARIMA (0, 1, 1) x (0, 0, 0, 12)12 : AIC Calculated =7896.222502894212\n",
      "ARIMA (0, 1, 1) x (0, 0, 1, 12)12 : AIC Calculated =7770.126696898267\n",
      "ARIMA (0, 1, 1) x (0, 1, 0, 12)12 : AIC Calculated =8156.409906804648\n",
      "ARIMA (0, 1, 1) x (0, 1, 1, 12)12 : AIC Calculated =7649.357200298895\n",
      "ARIMA (0, 1, 1) x (1, 0, 0, 12)12 : AIC Calculated =7786.901112441761\n",
      "ARIMA (0, 1, 1) x (1, 0, 1, 12)12 : AIC Calculated =7761.2022383083\n",
      "ARIMA (0, 1, 1) x (1, 1, 0, 12)12 : AIC Calculated =7907.303917767563\n",
      "ARIMA (0, 1, 1) x (1, 1, 1, 12)12 : AIC Calculated =7651.242952970274\n",
      "ARIMA (1, 0, 0) x (0, 0, 0, 12)12 : AIC Calculated =8034.796050245982\n",
      "ARIMA (1, 0, 0) x (0, 0, 1, 12)12 : AIC Calculated =7884.502258258738\n",
      "ARIMA (1, 0, 0) x (0, 1, 0, 12)12 : AIC Calculated =8145.168063880588\n",
      "ARIMA (1, 0, 0) x (0, 1, 1, 12)12 : AIC Calculated =7689.68407067575\n",
      "ARIMA (1, 0, 0) x (1, 0, 0, 12)12 : AIC Calculated =7866.420826101557\n",
      "ARIMA (1, 0, 0) x (1, 0, 1, 12)12 : AIC Calculated =7799.530599006099\n",
      "ARIMA (1, 0, 0) x (1, 1, 0, 12)12 : AIC Calculated =7863.474478125283\n",
      "ARIMA (1, 0, 0) x (1, 1, 1, 12)12 : AIC Calculated =7690.745962758743\n",
      "ARIMA (1, 0, 1) x (0, 0, 0, 12)12 : AIC Calculated =7906.625377633254\n",
      "ARIMA (1, 0, 1) x (0, 0, 1, 12)12 : AIC Calculated =7780.539616415433\n",
      "ARIMA (1, 0, 1) x (0, 1, 0, 12)12 : AIC Calculated =8129.041442580342\n",
      "ARIMA (1, 0, 1) x (0, 1, 1, 12)12 : AIC Calculated =7649.99497299375\n",
      "ARIMA (1, 0, 1) x (1, 0, 0, 12)12 : AIC Calculated =7787.3741432991355\n",
      "ARIMA (1, 0, 1) x (1, 0, 1, 12)12 : AIC Calculated =7760.974650580229\n",
      "ARIMA (1, 0, 1) x (1, 1, 0, 12)12 : AIC Calculated =7852.595154215222\n",
      "ARIMA (1, 0, 1) x (1, 1, 1, 12)12 : AIC Calculated =7651.106746581218\n",
      "ARIMA (1, 1, 0) x (0, 0, 0, 12)12 : AIC Calculated =8041.949193970432\n",
      "ARIMA (1, 1, 0) x (0, 0, 1, 12)12 : AIC Calculated =7917.854191786881\n",
      "ARIMA (1, 1, 0) x (0, 1, 0, 12)12 : AIC Calculated =8338.698641255176\n",
      "ARIMA (1, 1, 0) x (0, 1, 1, 12)12 : AIC Calculated =7818.330692623951\n",
      "ARIMA (1, 1, 0) x (1, 0, 0, 12)12 : AIC Calculated =7916.30818176142\n",
      "ARIMA (1, 1, 0) x (1, 0, 1, 12)12 : AIC Calculated =7916.477828453812\n",
      "ARIMA (1, 1, 0) x (1, 1, 0, 12)12 : AIC Calculated =8044.045799235461\n",
      "ARIMA (1, 1, 0) x (1, 1, 1, 12)12 : AIC Calculated =7819.084552008884\n",
      "ARIMA (1, 1, 1) x (0, 0, 0, 12)12 : AIC Calculated =7868.0993161062215\n",
      "ARIMA (1, 1, 1) x (0, 0, 1, 12)12 : AIC Calculated =7743.18792590436\n",
      "ARIMA (1, 1, 1) x (0, 1, 0, 12)12 : AIC Calculated =8133.162319101009\n",
      "ARIMA (1, 1, 1) x (0, 1, 1, 12)12 : AIC Calculated =7637.902050560408\n",
      "ARIMA (1, 1, 1) x (1, 0, 0, 12)12 : AIC Calculated =7750.426742861544\n",
      "ARIMA (1, 1, 1) x (1, 0, 1, 12)12 : AIC Calculated =7740.601878537862\n",
      "ARIMA (1, 1, 1) x (1, 1, 0, 12)12 : AIC Calculated =7861.555808864281\n",
      "ARIMA (1, 1, 1) x (1, 1, 1, 12)12 : AIC Calculated =7639.676479345611\n"
     ]
    }
   ],
   "source": [
    "ans = []\n",
    "for comb in pdq:\n",
    "    for combs in pdqs:\n",
    "        try:\n",
    "            mod = sm.tsa.statespace.SARIMAX(ts_natdisasters,\n",
    "                                            order=comb,\n",
    "                                            seasonal_order=combs,\n",
    "                                            enforce_stationarity=False,\n",
    "                                            enforce_invertibility=False)\n",
    "\n",
    "            output = mod.fit()\n",
    "            ans.append([comb, combs, output.aic])\n",
    "            print('ARIMA {} x {}12 : AIC Calculated ={}'.format(comb, combs, output.aic))\n",
    "        except:\n",
    "            continue"
   ]
  },
  {
   "cell_type": "code",
   "execution_count": 109,
   "metadata": {
    "scrolled": true
   },
   "outputs": [
    {
     "data": {
      "text/plain": [
       "pdq         (1, 1, 1)\n",
       "pdqs    (0, 1, 1, 12)\n",
       "aic          7637.902\n",
       "Name: 59, dtype: object"
      ]
     },
     "execution_count": 109,
     "metadata": {},
     "output_type": "execute_result"
    }
   ],
   "source": [
    "# Find the parameters with minimal AIC value\n",
    "ans_df = pd.DataFrame(ans, columns=['pdq', 'pdqs', 'aic'])\n",
    "ans_df.loc[ans_df['aic'].idxmin()]"
   ]
  },
  {
   "cell_type": "code",
   "execution_count": 110,
   "metadata": {
    "scrolled": false
   },
   "outputs": [
    {
     "data": {
      "text/plain": [
       "DatetimeIndex(['1956-04-01', '1956-05-01', '1956-06-01', '1956-07-01',\n",
       "               '1956-08-01', '1956-09-01', '1956-10-01', '1956-11-01',\n",
       "               '1956-12-01', '1957-01-01',\n",
       "               ...\n",
       "               '2020-01-01', '2020-02-01', '2020-03-01', '2020-04-01',\n",
       "               '2020-05-01', '2020-06-01', '2020-07-01', '2020-08-01',\n",
       "               '2020-09-01', '2020-10-01'],\n",
       "              dtype='datetime64[ns]', name='date', length=775, freq='MS')"
      ]
     },
     "execution_count": 110,
     "metadata": {},
     "output_type": "execute_result"
    }
   ],
   "source": [
    "df.index"
   ]
  },
  {
   "cell_type": "code",
   "execution_count": 111,
   "metadata": {},
   "outputs": [
    {
     "name": "stdout",
     "output_type": "stream",
     "text": [
      "==============================================================================\n",
      "                 coef    std err          z      P>|z|      [0.025      0.975]\n",
      "------------------------------------------------------------------------------\n",
      "ar.L1          0.1487      0.026      5.750      0.000       0.098       0.199\n",
      "ma.L1         -0.9479      0.010    -92.741      0.000      -0.968      -0.928\n",
      "ma.S.L12      -1.0779      0.011    -94.269      0.000      -1.100      -1.055\n",
      "sigma2      1324.9141     38.608     34.317      0.000    1249.243    1400.585\n",
      "==============================================================================\n"
     ]
    }
   ],
   "source": [
    "# (1,1,1) is the optimal parameter values that we will now use for our SARIMAX model\n",
    "\n",
    "ARIMA_MODEL = sm.tsa.statespace.SARIMAX(ts_natdisasters, \n",
    "                                        order=(1, 1, 1), \n",
    "                                        seasonal_order=(0, 1, 1, 12), \n",
    "                                        enforce_stationarity=False, \n",
    "                                        enforce_invertibility=False)\n",
    "\n",
    "# Fit the model and print results\n",
    "output = ARIMA_MODEL.fit()\n",
    "\n",
    "print(output.summary().tables[1])"
   ]
  },
  {
   "cell_type": "code",
   "execution_count": 112,
   "metadata": {},
   "outputs": [
    {
     "data": {
      "image/png": "[encoded data removed]",
      "text/plain": [
       "<Figure size 1080x1296 with 4 Axes>"
      ]
     },
     "metadata": {
      "needs_background": "light"
     },
     "output_type": "display_data"
    }
   ],
   "source": [
    "# Call plot_diagnostics() on the results calculated above \n",
    "output.plot_diagnostics(figsize=(15, 18))\n",
    "plt.show()"
   ]
  },
  {
   "cell_type": "code",
   "execution_count": 113,
   "metadata": {},
   "outputs": [],
   "source": [
    "# The Histogram KDE line and N(0,1) are not matching well at all. \n",
    "# This is an indication that the resuduals are not normally distrubuted.\n",
    "# The QQ plot is not the worst but we could find some improvements\n",
    "# Standarized residual is not bad except for one spot where there is obvious noise"
   ]
  },
  {
   "cell_type": "code",
   "execution_count": 114,
   "metadata": {},
   "outputs": [],
   "source": [
    "# Get predictions starting from 01-01-2010 and calculate confidence intervals\n",
    "pred = output.get_prediction(start_date=('1953-06-01'), dynamic=True)\n",
    "pred_conf = pred.conf_int()"
   ]
  },
  {
   "cell_type": "code",
   "execution_count": 115,
   "metadata": {
    "scrolled": false
   },
   "outputs": [
    {
     "ename": "TypeError",
     "evalue": "('Severe Storm(s)', Timestamp('1956-04-01 00:00:00', freq='MS')) is not a string",
     "output_type": "error",
     "traceback": [
      "\u001b[1;31m---------------------------------------------------------------------------\u001b[0m",
      "\u001b[1;31mTypeError\u001b[0m                                 Traceback (most recent call last)",
      "\u001b[1;32m<ipython-input-115-6d9938679858>\u001b[0m in \u001b[0;36m<module>\u001b[1;34m\u001b[0m\n\u001b[0;32m     12\u001b[0m ax.fill_between(pred_conf.index,\n\u001b[0;32m     13\u001b[0m                 \u001b[0mpred_conf\u001b[0m\u001b[1;33m.\u001b[0m\u001b[0miloc\u001b[0m\u001b[1;33m[\u001b[0m\u001b[1;33m:\u001b[0m\u001b[1;33m,\u001b[0m \u001b[1;36m0\u001b[0m\u001b[1;33m]\u001b[0m\u001b[1;33m,\u001b[0m\u001b[1;33m\u001b[0m\u001b[1;33m\u001b[0m\u001b[0m\n\u001b[1;32m---> 14\u001b[1;33m                 pred_conf.iloc[:, 1], color='g', alpha=0.5)\n\u001b[0m\u001b[0;32m     15\u001b[0m \u001b[1;33m\u001b[0m\u001b[0m\n\u001b[0;32m     16\u001b[0m \u001b[1;31m# Set axes labels\u001b[0m\u001b[1;33m\u001b[0m\u001b[1;33m\u001b[0m\u001b[1;33m\u001b[0m\u001b[0m\n",
      "\u001b[1;32m~\\Anaconda3\\envs\\learn-env\\lib\\site-packages\\matplotlib\\__init__.py\u001b[0m in \u001b[0;36minner\u001b[1;34m(ax, data, *args, **kwargs)\u001b[0m\n\u001b[0;32m   1599\u001b[0m     \u001b[1;32mdef\u001b[0m \u001b[0minner\u001b[0m\u001b[1;33m(\u001b[0m\u001b[0max\u001b[0m\u001b[1;33m,\u001b[0m \u001b[1;33m*\u001b[0m\u001b[0margs\u001b[0m\u001b[1;33m,\u001b[0m \u001b[0mdata\u001b[0m\u001b[1;33m=\u001b[0m\u001b[1;32mNone\u001b[0m\u001b[1;33m,\u001b[0m \u001b[1;33m**\u001b[0m\u001b[0mkwargs\u001b[0m\u001b[1;33m)\u001b[0m\u001b[1;33m:\u001b[0m\u001b[1;33m\u001b[0m\u001b[1;33m\u001b[0m\u001b[0m\n\u001b[0;32m   1600\u001b[0m         \u001b[1;32mif\u001b[0m \u001b[0mdata\u001b[0m \u001b[1;32mis\u001b[0m \u001b[1;32mNone\u001b[0m\u001b[1;33m:\u001b[0m\u001b[1;33m\u001b[0m\u001b[1;33m\u001b[0m\u001b[0m\n\u001b[1;32m-> 1601\u001b[1;33m             \u001b[1;32mreturn\u001b[0m \u001b[0mfunc\u001b[0m\u001b[1;33m(\u001b[0m\u001b[0max\u001b[0m\u001b[1;33m,\u001b[0m \u001b[1;33m*\u001b[0m\u001b[0mmap\u001b[0m\u001b[1;33m(\u001b[0m\u001b[0msanitize_sequence\u001b[0m\u001b[1;33m,\u001b[0m \u001b[0margs\u001b[0m\u001b[1;33m)\u001b[0m\u001b[1;33m,\u001b[0m \u001b[1;33m**\u001b[0m\u001b[0mkwargs\u001b[0m\u001b[1;33m)\u001b[0m\u001b[1;33m\u001b[0m\u001b[1;33m\u001b[0m\u001b[0m\n\u001b[0m\u001b[0;32m   1602\u001b[0m \u001b[1;33m\u001b[0m\u001b[0m\n\u001b[0;32m   1603\u001b[0m         \u001b[0mbound\u001b[0m \u001b[1;33m=\u001b[0m \u001b[0mnew_sig\u001b[0m\u001b[1;33m.\u001b[0m\u001b[0mbind\u001b[0m\u001b[1;33m(\u001b[0m\u001b[0max\u001b[0m\u001b[1;33m,\u001b[0m \u001b[1;33m*\u001b[0m\u001b[0margs\u001b[0m\u001b[1;33m,\u001b[0m \u001b[1;33m**\u001b[0m\u001b[0mkwargs\u001b[0m\u001b[1;33m)\u001b[0m\u001b[1;33m\u001b[0m\u001b[1;33m\u001b[0m\u001b[0m\n",
      "\u001b[1;32m~\\Anaconda3\\envs\\learn-env\\lib\\site-packages\\matplotlib\\axes\\_axes.py\u001b[0m in \u001b[0;36mfill_between\u001b[1;34m(self, x, y1, y2, where, interpolate, step, **kwargs)\u001b[0m\n\u001b[0;32m   5218\u001b[0m \u001b[1;33m\u001b[0m\u001b[0m\n\u001b[0;32m   5219\u001b[0m         \u001b[1;31m# Handle united data, such as dates\u001b[0m\u001b[1;33m\u001b[0m\u001b[1;33m\u001b[0m\u001b[1;33m\u001b[0m\u001b[0m\n\u001b[1;32m-> 5220\u001b[1;33m         \u001b[0mself\u001b[0m\u001b[1;33m.\u001b[0m\u001b[0m_process_unit_info\u001b[0m\u001b[1;33m(\u001b[0m\u001b[0mxdata\u001b[0m\u001b[1;33m=\u001b[0m\u001b[0mx\u001b[0m\u001b[1;33m,\u001b[0m \u001b[0mydata\u001b[0m\u001b[1;33m=\u001b[0m\u001b[0my1\u001b[0m\u001b[1;33m,\u001b[0m \u001b[0mkwargs\u001b[0m\u001b[1;33m=\u001b[0m\u001b[0mkwargs\u001b[0m\u001b[1;33m)\u001b[0m\u001b[1;33m\u001b[0m\u001b[1;33m\u001b[0m\u001b[0m\n\u001b[0m\u001b[0;32m   5221\u001b[0m         \u001b[0mself\u001b[0m\u001b[1;33m.\u001b[0m\u001b[0m_process_unit_info\u001b[0m\u001b[1;33m(\u001b[0m\u001b[0mydata\u001b[0m\u001b[1;33m=\u001b[0m\u001b[0my2\u001b[0m\u001b[1;33m)\u001b[0m\u001b[1;33m\u001b[0m\u001b[1;33m\u001b[0m\u001b[0m\n\u001b[0;32m   5222\u001b[0m \u001b[1;33m\u001b[0m\u001b[0m\n",
      "\u001b[1;32m~\\Anaconda3\\envs\\learn-env\\lib\\site-packages\\matplotlib\\axes\\_base.py\u001b[0m in \u001b[0;36m_process_unit_info\u001b[1;34m(self, xdata, ydata, kwargs)\u001b[0m\n\u001b[0;32m   2123\u001b[0m             \u001b[1;32mreturn\u001b[0m \u001b[0mkwargs\u001b[0m\u001b[1;33m\u001b[0m\u001b[1;33m\u001b[0m\u001b[0m\n\u001b[0;32m   2124\u001b[0m \u001b[1;33m\u001b[0m\u001b[0m\n\u001b[1;32m-> 2125\u001b[1;33m         \u001b[0mkwargs\u001b[0m \u001b[1;33m=\u001b[0m \u001b[0m_process_single_axis\u001b[0m\u001b[1;33m(\u001b[0m\u001b[0mxdata\u001b[0m\u001b[1;33m,\u001b[0m \u001b[0mself\u001b[0m\u001b[1;33m.\u001b[0m\u001b[0mxaxis\u001b[0m\u001b[1;33m,\u001b[0m \u001b[1;34m'xunits'\u001b[0m\u001b[1;33m,\u001b[0m \u001b[0mkwargs\u001b[0m\u001b[1;33m)\u001b[0m\u001b[1;33m\u001b[0m\u001b[1;33m\u001b[0m\u001b[0m\n\u001b[0m\u001b[0;32m   2126\u001b[0m         \u001b[0mkwargs\u001b[0m \u001b[1;33m=\u001b[0m \u001b[0m_process_single_axis\u001b[0m\u001b[1;33m(\u001b[0m\u001b[0mydata\u001b[0m\u001b[1;33m,\u001b[0m \u001b[0mself\u001b[0m\u001b[1;33m.\u001b[0m\u001b[0myaxis\u001b[0m\u001b[1;33m,\u001b[0m \u001b[1;34m'yunits'\u001b[0m\u001b[1;33m,\u001b[0m \u001b[0mkwargs\u001b[0m\u001b[1;33m)\u001b[0m\u001b[1;33m\u001b[0m\u001b[1;33m\u001b[0m\u001b[0m\n\u001b[0;32m   2127\u001b[0m         \u001b[1;32mreturn\u001b[0m \u001b[0mkwargs\u001b[0m\u001b[1;33m\u001b[0m\u001b[1;33m\u001b[0m\u001b[0m\n",
      "\u001b[1;32m~\\Anaconda3\\envs\\learn-env\\lib\\site-packages\\matplotlib\\axes\\_base.py\u001b[0m in \u001b[0;36m_process_single_axis\u001b[1;34m(data, axis, unit_name, kwargs)\u001b[0m\n\u001b[0;32m   2106\u001b[0m                 \u001b[1;31m# We only need to update if there is nothing set yet.\u001b[0m\u001b[1;33m\u001b[0m\u001b[1;33m\u001b[0m\u001b[1;33m\u001b[0m\u001b[0m\n\u001b[0;32m   2107\u001b[0m                 \u001b[1;32mif\u001b[0m \u001b[1;32mnot\u001b[0m \u001b[0maxis\u001b[0m\u001b[1;33m.\u001b[0m\u001b[0mhave_units\u001b[0m\u001b[1;33m(\u001b[0m\u001b[1;33m)\u001b[0m\u001b[1;33m:\u001b[0m\u001b[1;33m\u001b[0m\u001b[1;33m\u001b[0m\u001b[0m\n\u001b[1;32m-> 2108\u001b[1;33m                     \u001b[0maxis\u001b[0m\u001b[1;33m.\u001b[0m\u001b[0mupdate_units\u001b[0m\u001b[1;33m(\u001b[0m\u001b[0mdata\u001b[0m\u001b[1;33m)\u001b[0m\u001b[1;33m\u001b[0m\u001b[1;33m\u001b[0m\u001b[0m\n\u001b[0m\u001b[0;32m   2109\u001b[0m \u001b[1;33m\u001b[0m\u001b[0m\n\u001b[0;32m   2110\u001b[0m             \u001b[1;31m# Check for units in the kwargs, and if present update axis\u001b[0m\u001b[1;33m\u001b[0m\u001b[1;33m\u001b[0m\u001b[1;33m\u001b[0m\u001b[0m\n",
      "\u001b[1;32m~\\Anaconda3\\envs\\learn-env\\lib\\site-packages\\matplotlib\\axis.py\u001b[0m in \u001b[0;36mupdate_units\u001b[1;34m(self, data)\u001b[0m\n\u001b[0;32m   1491\u001b[0m         \u001b[0mneednew\u001b[0m \u001b[1;33m=\u001b[0m \u001b[0mself\u001b[0m\u001b[1;33m.\u001b[0m\u001b[0mconverter\u001b[0m \u001b[1;33m!=\u001b[0m \u001b[0mconverter\u001b[0m\u001b[1;33m\u001b[0m\u001b[1;33m\u001b[0m\u001b[0m\n\u001b[0;32m   1492\u001b[0m         \u001b[0mself\u001b[0m\u001b[1;33m.\u001b[0m\u001b[0mconverter\u001b[0m \u001b[1;33m=\u001b[0m \u001b[0mconverter\u001b[0m\u001b[1;33m\u001b[0m\u001b[1;33m\u001b[0m\u001b[0m\n\u001b[1;32m-> 1493\u001b[1;33m         \u001b[0mdefault\u001b[0m \u001b[1;33m=\u001b[0m \u001b[0mself\u001b[0m\u001b[1;33m.\u001b[0m\u001b[0mconverter\u001b[0m\u001b[1;33m.\u001b[0m\u001b[0mdefault_units\u001b[0m\u001b[1;33m(\u001b[0m\u001b[0mdata\u001b[0m\u001b[1;33m,\u001b[0m \u001b[0mself\u001b[0m\u001b[1;33m)\u001b[0m\u001b[1;33m\u001b[0m\u001b[1;33m\u001b[0m\u001b[0m\n\u001b[0m\u001b[0;32m   1494\u001b[0m         \u001b[1;32mif\u001b[0m \u001b[0mdefault\u001b[0m \u001b[1;32mis\u001b[0m \u001b[1;32mnot\u001b[0m \u001b[1;32mNone\u001b[0m \u001b[1;32mand\u001b[0m \u001b[0mself\u001b[0m\u001b[1;33m.\u001b[0m\u001b[0munits\u001b[0m \u001b[1;32mis\u001b[0m \u001b[1;32mNone\u001b[0m\u001b[1;33m:\u001b[0m\u001b[1;33m\u001b[0m\u001b[1;33m\u001b[0m\u001b[0m\n\u001b[0;32m   1495\u001b[0m             \u001b[0mself\u001b[0m\u001b[1;33m.\u001b[0m\u001b[0mset_units\u001b[0m\u001b[1;33m(\u001b[0m\u001b[0mdefault\u001b[0m\u001b[1;33m)\u001b[0m\u001b[1;33m\u001b[0m\u001b[1;33m\u001b[0m\u001b[0m\n",
      "\u001b[1;32m~\\Anaconda3\\envs\\learn-env\\lib\\site-packages\\matplotlib\\category.py\u001b[0m in \u001b[0;36mdefault_units\u001b[1;34m(data, axis)\u001b[0m\n\u001b[0;32m    113\u001b[0m         \u001b[1;31m# default_units->axis_info->convert\u001b[0m\u001b[1;33m\u001b[0m\u001b[1;33m\u001b[0m\u001b[1;33m\u001b[0m\u001b[0m\n\u001b[0;32m    114\u001b[0m         \u001b[1;32mif\u001b[0m \u001b[0maxis\u001b[0m\u001b[1;33m.\u001b[0m\u001b[0munits\u001b[0m \u001b[1;32mis\u001b[0m \u001b[1;32mNone\u001b[0m\u001b[1;33m:\u001b[0m\u001b[1;33m\u001b[0m\u001b[1;33m\u001b[0m\u001b[0m\n\u001b[1;32m--> 115\u001b[1;33m             \u001b[0maxis\u001b[0m\u001b[1;33m.\u001b[0m\u001b[0mset_units\u001b[0m\u001b[1;33m(\u001b[0m\u001b[0mUnitData\u001b[0m\u001b[1;33m(\u001b[0m\u001b[0mdata\u001b[0m\u001b[1;33m)\u001b[0m\u001b[1;33m)\u001b[0m\u001b[1;33m\u001b[0m\u001b[1;33m\u001b[0m\u001b[0m\n\u001b[0m\u001b[0;32m    116\u001b[0m         \u001b[1;32melse\u001b[0m\u001b[1;33m:\u001b[0m\u001b[1;33m\u001b[0m\u001b[1;33m\u001b[0m\u001b[0m\n\u001b[0;32m    117\u001b[0m             \u001b[0maxis\u001b[0m\u001b[1;33m.\u001b[0m\u001b[0munits\u001b[0m\u001b[1;33m.\u001b[0m\u001b[0mupdate\u001b[0m\u001b[1;33m(\u001b[0m\u001b[0mdata\u001b[0m\u001b[1;33m)\u001b[0m\u001b[1;33m\u001b[0m\u001b[1;33m\u001b[0m\u001b[0m\n",
      "\u001b[1;32m~\\Anaconda3\\envs\\learn-env\\lib\\site-packages\\matplotlib\\category.py\u001b[0m in \u001b[0;36m__init__\u001b[1;34m(self, data)\u001b[0m\n\u001b[0;32m    179\u001b[0m         \u001b[0mself\u001b[0m\u001b[1;33m.\u001b[0m\u001b[0m_counter\u001b[0m \u001b[1;33m=\u001b[0m \u001b[0mitertools\u001b[0m\u001b[1;33m.\u001b[0m\u001b[0mcount\u001b[0m\u001b[1;33m(\u001b[0m\u001b[1;33m)\u001b[0m\u001b[1;33m\u001b[0m\u001b[1;33m\u001b[0m\u001b[0m\n\u001b[0;32m    180\u001b[0m         \u001b[1;32mif\u001b[0m \u001b[0mdata\u001b[0m \u001b[1;32mis\u001b[0m \u001b[1;32mnot\u001b[0m \u001b[1;32mNone\u001b[0m\u001b[1;33m:\u001b[0m\u001b[1;33m\u001b[0m\u001b[1;33m\u001b[0m\u001b[0m\n\u001b[1;32m--> 181\u001b[1;33m             \u001b[0mself\u001b[0m\u001b[1;33m.\u001b[0m\u001b[0mupdate\u001b[0m\u001b[1;33m(\u001b[0m\u001b[0mdata\u001b[0m\u001b[1;33m)\u001b[0m\u001b[1;33m\u001b[0m\u001b[1;33m\u001b[0m\u001b[0m\n\u001b[0m\u001b[0;32m    182\u001b[0m \u001b[1;33m\u001b[0m\u001b[0m\n\u001b[0;32m    183\u001b[0m     \u001b[1;33m@\u001b[0m\u001b[0mstaticmethod\u001b[0m\u001b[1;33m\u001b[0m\u001b[1;33m\u001b[0m\u001b[0m\n",
      "\u001b[1;32m~\\Anaconda3\\envs\\learn-env\\lib\\site-packages\\matplotlib\\category.py\u001b[0m in \u001b[0;36mupdate\u001b[1;34m(self, data)\u001b[0m\n\u001b[0;32m    216\u001b[0m             \u001b[1;31m# OrderedDict just iterates over unique values in data.\u001b[0m\u001b[1;33m\u001b[0m\u001b[1;33m\u001b[0m\u001b[1;33m\u001b[0m\u001b[0m\n\u001b[0;32m    217\u001b[0m             \u001b[1;32mif\u001b[0m \u001b[1;32mnot\u001b[0m \u001b[0misinstance\u001b[0m\u001b[1;33m(\u001b[0m\u001b[0mval\u001b[0m\u001b[1;33m,\u001b[0m \u001b[1;33m(\u001b[0m\u001b[0mstr\u001b[0m\u001b[1;33m,\u001b[0m \u001b[0mbytes\u001b[0m\u001b[1;33m)\u001b[0m\u001b[1;33m)\u001b[0m\u001b[1;33m:\u001b[0m\u001b[1;33m\u001b[0m\u001b[1;33m\u001b[0m\u001b[0m\n\u001b[1;32m--> 218\u001b[1;33m                 \u001b[1;32mraise\u001b[0m \u001b[0mTypeError\u001b[0m\u001b[1;33m(\u001b[0m\u001b[1;34m\"{val!r} is not a string\"\u001b[0m\u001b[1;33m.\u001b[0m\u001b[0mformat\u001b[0m\u001b[1;33m(\u001b[0m\u001b[0mval\u001b[0m\u001b[1;33m=\u001b[0m\u001b[0mval\u001b[0m\u001b[1;33m)\u001b[0m\u001b[1;33m)\u001b[0m\u001b[1;33m\u001b[0m\u001b[1;33m\u001b[0m\u001b[0m\n\u001b[0m\u001b[0;32m    219\u001b[0m             \u001b[1;32mif\u001b[0m \u001b[0mconvertible\u001b[0m\u001b[1;33m:\u001b[0m\u001b[1;33m\u001b[0m\u001b[1;33m\u001b[0m\u001b[0m\n\u001b[0;32m    220\u001b[0m                 \u001b[1;31m# this will only be called so long as convertible is True.\u001b[0m\u001b[1;33m\u001b[0m\u001b[1;33m\u001b[0m\u001b[1;33m\u001b[0m\u001b[0m\n",
      "\u001b[1;31mTypeError\u001b[0m: ('Severe Storm(s)', Timestamp('1956-04-01 00:00:00', freq='MS')) is not a string"
     ]
    },
    {
     "data": {
      "image/png": "[encoded data removed]",
      "text/plain": [
       "<Figure size 1080x432 with 1 Axes>"
      ]
     },
     "metadata": {
      "needs_background": "light"
     },
     "output_type": "display_data"
    }
   ],
   "source": [
    "# Plot real vs predicted values along with confidence interval\n",
    "\n",
    "rcParams['figure.figsize'] = 15, 6\n",
    "\n",
    "# Plot observed values\n",
    "ax = ts_natdisasters['1970':].plot(label='observed')\n",
    "\n",
    "# Plot predicted values\n",
    "pred.predicted_mean.plot(ax=ax, label='One-step ahead Forecast', alpha=0.9)\n",
    "\n",
    "# Plot the range for confidence intervals\n",
    "ax.fill_between(pred_conf.index,\n",
    "                pred_conf.iloc[:, 0],\n",
    "                pred_conf.iloc[:, 1], color='g', alpha=0.5)\n",
    "\n",
    "# Set axes labels\n",
    "ax.set_xlabel('Date')\n",
    "ax.set_ylabel('Natural Disasters')\n",
    "plt.legend()\n",
    "plt.title('Predicted and Forcasted Natural Disasters')\n",
    "\n",
    "plt.show()"
   ]
  },
  {
   "cell_type": "code",
   "execution_count": null,
   "metadata": {},
   "outputs": [],
   "source": [
    "# Error message: ('Flood', Timestamp('1953-05-01 00:00:00')) is not a string\n",
    "#you have a Multiindex now. You’d want to first slice out a particular disaster type. \n",
    "#Then THAT series/df will only have a normal datetime index\n",
    "# We will need to slice out a particular disaster type and model them seperately"
   ]
  },
  {
   "cell_type": "code",
   "execution_count": 116,
   "metadata": {},
   "outputs": [
    {
     "name": "stdout",
     "output_type": "stream",
     "text": [
      "The Mean Squared Error of our forecasts is 2642.36\n"
     ]
    }
   ],
   "source": [
    "# Get the real and predicted values\n",
    "natdisasters_forecasted = pred.predicted_mean\n",
    "natdisasters_truth = ts_natdisasters['1953-06-01':]\n",
    "\n",
    "# Compute the mean square error\n",
    "mse = ((natdisasters_forecasted - natdisasters_truth) ** 2).mean()\n",
    "print('The Mean Squared Error of our forecasts is {}'.format(round(mse, 2)))"
   ]
  },
  {
   "cell_type": "code",
   "execution_count": 117,
   "metadata": {},
   "outputs": [
    {
     "ename": "KeyError",
     "evalue": "'The `start` argument could not be matched to a location related to the index of the data.'",
     "output_type": "error",
     "traceback": [
      "\u001b[1;31m---------------------------------------------------------------------------\u001b[0m",
      "\u001b[1;31mKeyError\u001b[0m                                  Traceback (most recent call last)",
      "\u001b[1;32m~\\Anaconda3\\envs\\learn-env\\lib\\site-packages\\pandas\\core\\indexes\\base.py\u001b[0m in \u001b[0;36mget_loc\u001b[1;34m(self, key, method, tolerance)\u001b[0m\n\u001b[0;32m   2896\u001b[0m             \u001b[1;32mtry\u001b[0m\u001b[1;33m:\u001b[0m\u001b[1;33m\u001b[0m\u001b[1;33m\u001b[0m\u001b[0m\n\u001b[1;32m-> 2897\u001b[1;33m                 \u001b[1;32mreturn\u001b[0m \u001b[0mself\u001b[0m\u001b[1;33m.\u001b[0m\u001b[0m_engine\u001b[0m\u001b[1;33m.\u001b[0m\u001b[0mget_loc\u001b[0m\u001b[1;33m(\u001b[0m\u001b[0mkey\u001b[0m\u001b[1;33m)\u001b[0m\u001b[1;33m\u001b[0m\u001b[1;33m\u001b[0m\u001b[0m\n\u001b[0m\u001b[0;32m   2898\u001b[0m             \u001b[1;32mexcept\u001b[0m \u001b[0mKeyError\u001b[0m\u001b[1;33m:\u001b[0m\u001b[1;33m\u001b[0m\u001b[1;33m\u001b[0m\u001b[0m\n",
      "\u001b[1;32mpandas\\_libs\\index.pyx\u001b[0m in \u001b[0;36mpandas._libs.index.IndexEngine.get_loc\u001b[1;34m()\u001b[0m\n",
      "\u001b[1;32mpandas\\_libs\\index.pyx\u001b[0m in \u001b[0;36mpandas._libs.index.IndexEngine.get_loc\u001b[1;34m()\u001b[0m\n",
      "\u001b[1;32mpandas\\_libs\\hashtable_class_helper.pxi\u001b[0m in \u001b[0;36mpandas._libs.hashtable.PyObjectHashTable.get_item\u001b[1;34m()\u001b[0m\n",
      "\u001b[1;32mpandas\\_libs\\hashtable_class_helper.pxi\u001b[0m in \u001b[0;36mpandas._libs.hashtable.PyObjectHashTable.get_item\u001b[1;34m()\u001b[0m\n",
      "\u001b[1;31mKeyError\u001b[0m: Timestamp('1953-06-01 00:00:00')",
      "\nDuring handling of the above exception, another exception occurred:\n",
      "\u001b[1;31mKeyError\u001b[0m                                  Traceback (most recent call last)",
      "\u001b[1;32m~\\Anaconda3\\envs\\learn-env\\lib\\site-packages\\statsmodels\\tsa\\base\\tsa_model.py\u001b[0m in \u001b[0;36m_get_index_label_loc\u001b[1;34m(self, key, base_index)\u001b[0m\n\u001b[0;32m    425\u001b[0m                 \u001b[1;32mif\u001b[0m \u001b[1;32mnot\u001b[0m \u001b[0misinstance\u001b[0m\u001b[1;33m(\u001b[0m\u001b[0mkey\u001b[0m\u001b[1;33m,\u001b[0m \u001b[1;33m(\u001b[0m\u001b[0mint\u001b[0m\u001b[1;33m,\u001b[0m \u001b[0mlong\u001b[0m\u001b[1;33m,\u001b[0m \u001b[0mnp\u001b[0m\u001b[1;33m.\u001b[0m\u001b[0minteger\u001b[0m\u001b[1;33m)\u001b[0m\u001b[1;33m)\u001b[0m\u001b[1;33m:\u001b[0m\u001b[1;33m\u001b[0m\u001b[1;33m\u001b[0m\u001b[0m\n\u001b[1;32m--> 426\u001b[1;33m                     \u001b[0mloc\u001b[0m \u001b[1;33m=\u001b[0m \u001b[0mself\u001b[0m\u001b[1;33m.\u001b[0m\u001b[0mdata\u001b[0m\u001b[1;33m.\u001b[0m\u001b[0mrow_labels\u001b[0m\u001b[1;33m.\u001b[0m\u001b[0mget_loc\u001b[0m\u001b[1;33m(\u001b[0m\u001b[0mkey\u001b[0m\u001b[1;33m)\u001b[0m\u001b[1;33m\u001b[0m\u001b[1;33m\u001b[0m\u001b[0m\n\u001b[0m\u001b[0;32m    427\u001b[0m                 \u001b[1;32melse\u001b[0m\u001b[1;33m:\u001b[0m\u001b[1;33m\u001b[0m\u001b[1;33m\u001b[0m\u001b[0m\n",
      "\u001b[1;32m~\\Anaconda3\\envs\\learn-env\\lib\\site-packages\\pandas\\core\\indexes\\multi.py\u001b[0m in \u001b[0;36mget_loc\u001b[1;34m(self, key, method)\u001b[0m\n\u001b[0;32m   2673\u001b[0m         \u001b[1;32mif\u001b[0m \u001b[1;32mnot\u001b[0m \u001b[0misinstance\u001b[0m\u001b[1;33m(\u001b[0m\u001b[0mkey\u001b[0m\u001b[1;33m,\u001b[0m \u001b[0mtuple\u001b[0m\u001b[1;33m)\u001b[0m\u001b[1;33m:\u001b[0m\u001b[1;33m\u001b[0m\u001b[1;33m\u001b[0m\u001b[0m\n\u001b[1;32m-> 2674\u001b[1;33m             \u001b[0mloc\u001b[0m \u001b[1;33m=\u001b[0m \u001b[0mself\u001b[0m\u001b[1;33m.\u001b[0m\u001b[0m_get_level_indexer\u001b[0m\u001b[1;33m(\u001b[0m\u001b[0mkey\u001b[0m\u001b[1;33m,\u001b[0m \u001b[0mlevel\u001b[0m\u001b[1;33m=\u001b[0m\u001b[1;36m0\u001b[0m\u001b[1;33m)\u001b[0m\u001b[1;33m\u001b[0m\u001b[1;33m\u001b[0m\u001b[0m\n\u001b[0m\u001b[0;32m   2675\u001b[0m             \u001b[1;32mreturn\u001b[0m \u001b[0m_maybe_to_slice\u001b[0m\u001b[1;33m(\u001b[0m\u001b[0mloc\u001b[0m\u001b[1;33m)\u001b[0m\u001b[1;33m\u001b[0m\u001b[1;33m\u001b[0m\u001b[0m\n",
      "\u001b[1;32m~\\Anaconda3\\envs\\learn-env\\lib\\site-packages\\pandas\\core\\indexes\\multi.py\u001b[0m in \u001b[0;36m_get_level_indexer\u001b[1;34m(self, key, level, indexer)\u001b[0m\n\u001b[0;32m   2938\u001b[0m \u001b[1;33m\u001b[0m\u001b[0m\n\u001b[1;32m-> 2939\u001b[1;33m             \u001b[0mcode\u001b[0m \u001b[1;33m=\u001b[0m \u001b[0mlevel_index\u001b[0m\u001b[1;33m.\u001b[0m\u001b[0mget_loc\u001b[0m\u001b[1;33m(\u001b[0m\u001b[0mkey\u001b[0m\u001b[1;33m)\u001b[0m\u001b[1;33m\u001b[0m\u001b[1;33m\u001b[0m\u001b[0m\n\u001b[0m\u001b[0;32m   2940\u001b[0m \u001b[1;33m\u001b[0m\u001b[0m\n",
      "\u001b[1;32m~\\Anaconda3\\envs\\learn-env\\lib\\site-packages\\pandas\\core\\indexes\\base.py\u001b[0m in \u001b[0;36mget_loc\u001b[1;34m(self, key, method, tolerance)\u001b[0m\n\u001b[0;32m   2898\u001b[0m             \u001b[1;32mexcept\u001b[0m \u001b[0mKeyError\u001b[0m\u001b[1;33m:\u001b[0m\u001b[1;33m\u001b[0m\u001b[1;33m\u001b[0m\u001b[0m\n\u001b[1;32m-> 2899\u001b[1;33m                 \u001b[1;32mreturn\u001b[0m \u001b[0mself\u001b[0m\u001b[1;33m.\u001b[0m\u001b[0m_engine\u001b[0m\u001b[1;33m.\u001b[0m\u001b[0mget_loc\u001b[0m\u001b[1;33m(\u001b[0m\u001b[0mself\u001b[0m\u001b[1;33m.\u001b[0m\u001b[0m_maybe_cast_indexer\u001b[0m\u001b[1;33m(\u001b[0m\u001b[0mkey\u001b[0m\u001b[1;33m)\u001b[0m\u001b[1;33m)\u001b[0m\u001b[1;33m\u001b[0m\u001b[1;33m\u001b[0m\u001b[0m\n\u001b[0m\u001b[0;32m   2900\u001b[0m         \u001b[0mindexer\u001b[0m \u001b[1;33m=\u001b[0m \u001b[0mself\u001b[0m\u001b[1;33m.\u001b[0m\u001b[0mget_indexer\u001b[0m\u001b[1;33m(\u001b[0m\u001b[1;33m[\u001b[0m\u001b[0mkey\u001b[0m\u001b[1;33m]\u001b[0m\u001b[1;33m,\u001b[0m \u001b[0mmethod\u001b[0m\u001b[1;33m=\u001b[0m\u001b[0mmethod\u001b[0m\u001b[1;33m,\u001b[0m \u001b[0mtolerance\u001b[0m\u001b[1;33m=\u001b[0m\u001b[0mtolerance\u001b[0m\u001b[1;33m)\u001b[0m\u001b[1;33m\u001b[0m\u001b[1;33m\u001b[0m\u001b[0m\n",
      "\u001b[1;32mpandas\\_libs\\index.pyx\u001b[0m in \u001b[0;36mpandas._libs.index.IndexEngine.get_loc\u001b[1;34m()\u001b[0m\n",
      "\u001b[1;32mpandas\\_libs\\index.pyx\u001b[0m in \u001b[0;36mpandas._libs.index.IndexEngine.get_loc\u001b[1;34m()\u001b[0m\n",
      "\u001b[1;32mpandas\\_libs\\hashtable_class_helper.pxi\u001b[0m in \u001b[0;36mpandas._libs.hashtable.PyObjectHashTable.get_item\u001b[1;34m()\u001b[0m\n",
      "\u001b[1;32mpandas\\_libs\\hashtable_class_helper.pxi\u001b[0m in \u001b[0;36mpandas._libs.hashtable.PyObjectHashTable.get_item\u001b[1;34m()\u001b[0m\n",
      "\u001b[1;31mKeyError\u001b[0m: Timestamp('1953-06-01 00:00:00')",
      "\nDuring handling of the above exception, another exception occurred:\n",
      "\u001b[1;31mKeyError\u001b[0m                                  Traceback (most recent call last)",
      "\u001b[1;32m~\\Anaconda3\\envs\\learn-env\\lib\\site-packages\\statsmodels\\tsa\\base\\tsa_model.py\u001b[0m in \u001b[0;36m_get_prediction_index\u001b[1;34m(self, start, end, index, silent)\u001b[0m\n\u001b[0;32m    521\u001b[0m         \u001b[1;32mtry\u001b[0m\u001b[1;33m:\u001b[0m\u001b[1;33m\u001b[0m\u001b[1;33m\u001b[0m\u001b[0m\n\u001b[1;32m--> 522\u001b[1;33m             \u001b[0mstart\u001b[0m\u001b[1;33m,\u001b[0m \u001b[0mstart_index\u001b[0m\u001b[1;33m,\u001b[0m \u001b[0mstart_oos\u001b[0m \u001b[1;33m=\u001b[0m \u001b[0mself\u001b[0m\u001b[1;33m.\u001b[0m\u001b[0m_get_index_label_loc\u001b[0m\u001b[1;33m(\u001b[0m\u001b[0mstart\u001b[0m\u001b[1;33m)\u001b[0m\u001b[1;33m\u001b[0m\u001b[1;33m\u001b[0m\u001b[0m\n\u001b[0m\u001b[0;32m    523\u001b[0m         \u001b[1;32mexcept\u001b[0m \u001b[0mKeyError\u001b[0m\u001b[1;33m:\u001b[0m\u001b[1;33m\u001b[0m\u001b[1;33m\u001b[0m\u001b[0m\n",
      "\u001b[1;32m~\\Anaconda3\\envs\\learn-env\\lib\\site-packages\\statsmodels\\tsa\\base\\tsa_model.py\u001b[0m in \u001b[0;36m_get_index_label_loc\u001b[1;34m(self, key, base_index)\u001b[0m\n\u001b[0;32m    457\u001b[0m             \u001b[1;32mexcept\u001b[0m\u001b[1;33m:\u001b[0m\u001b[1;33m\u001b[0m\u001b[1;33m\u001b[0m\u001b[0m\n\u001b[1;32m--> 458\u001b[1;33m                 \u001b[1;32mraise\u001b[0m \u001b[0me\u001b[0m\u001b[1;33m\u001b[0m\u001b[1;33m\u001b[0m\u001b[0m\n\u001b[0m\u001b[0;32m    459\u001b[0m         \u001b[1;32mreturn\u001b[0m \u001b[0mloc\u001b[0m\u001b[1;33m,\u001b[0m \u001b[0mindex\u001b[0m\u001b[1;33m,\u001b[0m \u001b[0mindex_was_expanded\u001b[0m\u001b[1;33m\u001b[0m\u001b[1;33m\u001b[0m\u001b[0m\n",
      "\u001b[1;32m~\\Anaconda3\\envs\\learn-env\\lib\\site-packages\\statsmodels\\tsa\\base\\tsa_model.py\u001b[0m in \u001b[0;36m_get_index_label_loc\u001b[1;34m(self, key, base_index)\u001b[0m\n\u001b[0;32m    421\u001b[0m             loc, index, index_was_expanded = (\n\u001b[1;32m--> 422\u001b[1;33m                 self._get_index_loc(key, base_index))\n\u001b[0m\u001b[0;32m    423\u001b[0m         \u001b[1;32mexcept\u001b[0m \u001b[0mKeyError\u001b[0m \u001b[1;32mas\u001b[0m \u001b[0me\u001b[0m\u001b[1;33m:\u001b[0m\u001b[1;33m\u001b[0m\u001b[1;33m\u001b[0m\u001b[0m\n",
      "\u001b[1;32m~\\Anaconda3\\envs\\learn-env\\lib\\site-packages\\statsmodels\\tsa\\base\\tsa_model.py\u001b[0m in \u001b[0;36m_get_index_loc\u001b[1;34m(self, key, base_index)\u001b[0m\n\u001b[0;32m    371\u001b[0m             \u001b[1;32mexcept\u001b[0m \u001b[1;33m(\u001b[0m\u001b[0mIndexError\u001b[0m\u001b[1;33m,\u001b[0m \u001b[0mValueError\u001b[0m\u001b[1;33m)\u001b[0m \u001b[1;32mas\u001b[0m \u001b[0me\u001b[0m\u001b[1;33m:\u001b[0m\u001b[1;33m\u001b[0m\u001b[1;33m\u001b[0m\u001b[0m\n\u001b[1;32m--> 372\u001b[1;33m                 \u001b[1;32mraise\u001b[0m \u001b[0mKeyError\u001b[0m\u001b[1;33m(\u001b[0m\u001b[0mstr\u001b[0m\u001b[1;33m(\u001b[0m\u001b[0me\u001b[0m\u001b[1;33m)\u001b[0m\u001b[1;33m)\u001b[0m\u001b[1;33m\u001b[0m\u001b[1;33m\u001b[0m\u001b[0m\n\u001b[0m\u001b[0;32m    373\u001b[0m             \u001b[0mloc\u001b[0m \u001b[1;33m=\u001b[0m \u001b[0mkey\u001b[0m\u001b[1;33m\u001b[0m\u001b[1;33m\u001b[0m\u001b[0m\n",
      "\u001b[1;31mKeyError\u001b[0m: 'only integers, slices (`:`), ellipsis (`...`), numpy.newaxis (`None`) and integer or boolean arrays are valid indices'",
      "\nDuring handling of the above exception, another exception occurred:\n",
      "\u001b[1;31mKeyError\u001b[0m                                  Traceback (most recent call last)",
      "\u001b[1;32m<ipython-input-117-0373bb8ab3df>\u001b[0m in \u001b[0;36m<module>\u001b[1;34m\u001b[0m\n\u001b[0;32m      1\u001b[0m \u001b[1;31m# Get dynamic predictions with confidence intervals as above\u001b[0m\u001b[1;33m\u001b[0m\u001b[1;33m\u001b[0m\u001b[1;33m\u001b[0m\u001b[0m\n\u001b[1;32m----> 2\u001b[1;33m \u001b[0mpred_dynamic\u001b[0m \u001b[1;33m=\u001b[0m \u001b[0moutput\u001b[0m\u001b[1;33m.\u001b[0m\u001b[0mget_prediction\u001b[0m\u001b[1;33m(\u001b[0m\u001b[0mstart\u001b[0m\u001b[1;33m=\u001b[0m\u001b[0mpd\u001b[0m\u001b[1;33m.\u001b[0m\u001b[0mto_datetime\u001b[0m\u001b[1;33m(\u001b[0m\u001b[1;34m'1953-06-01'\u001b[0m\u001b[1;33m)\u001b[0m\u001b[1;33m,\u001b[0m \u001b[0mdynamic\u001b[0m\u001b[1;33m=\u001b[0m\u001b[1;32mTrue\u001b[0m\u001b[1;33m,\u001b[0m \u001b[0mfull_results\u001b[0m\u001b[1;33m=\u001b[0m\u001b[1;32mTrue\u001b[0m\u001b[1;33m)\u001b[0m\u001b[1;33m\u001b[0m\u001b[1;33m\u001b[0m\u001b[0m\n\u001b[0m\u001b[0;32m      3\u001b[0m \u001b[0mpred_dynamic_conf\u001b[0m \u001b[1;33m=\u001b[0m \u001b[0mpred_dynamic\u001b[0m\u001b[1;33m.\u001b[0m\u001b[0mconf_int\u001b[0m\u001b[1;33m(\u001b[0m\u001b[1;33m)\u001b[0m\u001b[1;33m\u001b[0m\u001b[1;33m\u001b[0m\u001b[0m\n",
      "\u001b[1;32m~\\Anaconda3\\envs\\learn-env\\lib\\site-packages\\statsmodels\\tsa\\statespace\\sarimax.py\u001b[0m in \u001b[0;36mget_prediction\u001b[1;34m(self, start, end, dynamic, index, exog, **kwargs)\u001b[0m\n\u001b[0;32m   1892\u001b[0m         \u001b[1;31m# Handle start, end, dynamic\u001b[0m\u001b[1;33m\u001b[0m\u001b[1;33m\u001b[0m\u001b[1;33m\u001b[0m\u001b[0m\n\u001b[0;32m   1893\u001b[0m         _start, _end, _out_of_sample, prediction_index = (\n\u001b[1;32m-> 1894\u001b[1;33m             self.model._get_prediction_index(start, end, index, silent=True))\n\u001b[0m\u001b[0;32m   1895\u001b[0m \u001b[1;33m\u001b[0m\u001b[0m\n\u001b[0;32m   1896\u001b[0m         \u001b[1;31m# Handle exogenous parameters\u001b[0m\u001b[1;33m\u001b[0m\u001b[1;33m\u001b[0m\u001b[1;33m\u001b[0m\u001b[0m\n",
      "\u001b[1;32m~\\Anaconda3\\envs\\learn-env\\lib\\site-packages\\statsmodels\\tsa\\base\\tsa_model.py\u001b[0m in \u001b[0;36m_get_prediction_index\u001b[1;34m(self, start, end, index, silent)\u001b[0m\n\u001b[0;32m    522\u001b[0m             \u001b[0mstart\u001b[0m\u001b[1;33m,\u001b[0m \u001b[0mstart_index\u001b[0m\u001b[1;33m,\u001b[0m \u001b[0mstart_oos\u001b[0m \u001b[1;33m=\u001b[0m \u001b[0mself\u001b[0m\u001b[1;33m.\u001b[0m\u001b[0m_get_index_label_loc\u001b[0m\u001b[1;33m(\u001b[0m\u001b[0mstart\u001b[0m\u001b[1;33m)\u001b[0m\u001b[1;33m\u001b[0m\u001b[1;33m\u001b[0m\u001b[0m\n\u001b[0;32m    523\u001b[0m         \u001b[1;32mexcept\u001b[0m \u001b[0mKeyError\u001b[0m\u001b[1;33m:\u001b[0m\u001b[1;33m\u001b[0m\u001b[1;33m\u001b[0m\u001b[0m\n\u001b[1;32m--> 524\u001b[1;33m             raise KeyError('The `start` argument could not be matched to a'\n\u001b[0m\u001b[0;32m    525\u001b[0m                            ' location related to the index of the data.')\n\u001b[0;32m    526\u001b[0m         \u001b[1;32mif\u001b[0m \u001b[0mend\u001b[0m \u001b[1;32mis\u001b[0m \u001b[1;32mNone\u001b[0m\u001b[1;33m:\u001b[0m\u001b[1;33m\u001b[0m\u001b[1;33m\u001b[0m\u001b[0m\n",
      "\u001b[1;31mKeyError\u001b[0m: 'The `start` argument could not be matched to a location related to the index of the data.'"
     ]
    }
   ],
   "source": [
    "# Get dynamic predictions with confidence intervals as above \n",
    "pred_dynamic = output.get_prediction(start=pd.to_datetime('1953-06-01'), dynamic=True, full_results=True)\n",
    "pred_dynamic_conf = pred_dynamic.conf_int()"
   ]
  },
  {
   "cell_type": "code",
   "execution_count": 118,
   "metadata": {},
   "outputs": [
    {
     "ename": "NameError",
     "evalue": "name 'pred_dynamic' is not defined",
     "output_type": "error",
     "traceback": [
      "\u001b[1;31m---------------------------------------------------------------------------\u001b[0m",
      "\u001b[1;31mNameError\u001b[0m                                 Traceback (most recent call last)",
      "\u001b[1;32m<ipython-input-118-eedfe6b3cd37>\u001b[0m in \u001b[0;36m<module>\u001b[1;34m\u001b[0m\n\u001b[0;32m      2\u001b[0m \u001b[1;33m\u001b[0m\u001b[0m\n\u001b[0;32m      3\u001b[0m \u001b[0max\u001b[0m \u001b[1;33m=\u001b[0m \u001b[0mts_natdisasters\u001b[0m\u001b[1;33m[\u001b[0m\u001b[1;34m'1970'\u001b[0m\u001b[1;33m:\u001b[0m\u001b[1;33m]\u001b[0m\u001b[1;33m.\u001b[0m\u001b[0mplot\u001b[0m\u001b[1;33m(\u001b[0m\u001b[0mlabel\u001b[0m\u001b[1;33m=\u001b[0m\u001b[1;34m'observed'\u001b[0m\u001b[1;33m,\u001b[0m \u001b[0mfigsize\u001b[0m\u001b[1;33m=\u001b[0m\u001b[1;33m(\u001b[0m\u001b[1;36m20\u001b[0m\u001b[1;33m,\u001b[0m \u001b[1;36m15\u001b[0m\u001b[1;33m)\u001b[0m\u001b[1;33m)\u001b[0m\u001b[1;33m\u001b[0m\u001b[1;33m\u001b[0m\u001b[0m\n\u001b[1;32m----> 4\u001b[1;33m \u001b[0mpred_dynamic\u001b[0m\u001b[1;33m.\u001b[0m\u001b[0mpredicted_mean\u001b[0m\u001b[1;33m.\u001b[0m\u001b[0mplot\u001b[0m\u001b[1;33m(\u001b[0m\u001b[0mlabel\u001b[0m\u001b[1;33m=\u001b[0m\u001b[1;34m'Dynamic Forecast'\u001b[0m\u001b[1;33m,\u001b[0m \u001b[0max\u001b[0m\u001b[1;33m=\u001b[0m\u001b[0max\u001b[0m\u001b[1;33m)\u001b[0m\u001b[1;33m\u001b[0m\u001b[1;33m\u001b[0m\u001b[0m\n\u001b[0m\u001b[0;32m      5\u001b[0m \u001b[1;33m\u001b[0m\u001b[0m\n\u001b[0;32m      6\u001b[0m ax.fill_between(pred_dynamic_conf.index,\n",
      "\u001b[1;31mNameError\u001b[0m: name 'pred_dynamic' is not defined"
     ]
    },
    {
     "data": {
      "image/png": "[encoded data removed]",
      "text/plain": [
       "<Figure size 1440x1080 with 1 Axes>"
      ]
     },
     "metadata": {
      "needs_background": "light"
     },
     "output_type": "display_data"
    }
   ],
   "source": [
    "# Plot the dynamic forecast with confidence intervals.\n",
    "\n",
    "ax = ts_natdisasters['1970':].plot(label='observed', figsize=(20, 15))\n",
    "pred_dynamic.predicted_mean.plot(label='Dynamic Forecast', ax=ax)\n",
    "\n",
    "ax.fill_between(pred_dynamic_conf.index,\n",
    "                pred_dynamic_conf.iloc[:, 0],\n",
    "                pred_dynamic_conf.iloc[:, 1], color='g', alpha=.3)\n",
    "\n",
    "ax.fill_betweenx(ax.get_ylim(), pd.to_datetime('1953-05-01'), natdisasters_forecasted.index[-1], alpha=.1, zorder=-1)\n",
    "\n",
    "ax.set_xlabel('Date')\n",
    "ax.set_ylabel('Natural Disasters')\n",
    "\n",
    "plt.legend()\n",
    "plt.show()"
   ]
  },
  {
   "cell_type": "code",
   "execution_count": 119,
   "metadata": {},
   "outputs": [
    {
     "ename": "NameError",
     "evalue": "name 'pred_dynamic' is not defined",
     "output_type": "error",
     "traceback": [
      "\u001b[1;31m---------------------------------------------------------------------------\u001b[0m",
      "\u001b[1;31mNameError\u001b[0m                                 Traceback (most recent call last)",
      "\u001b[1;32m<ipython-input-119-eb33d6374f63>\u001b[0m in \u001b[0;36m<module>\u001b[1;34m\u001b[0m\n\u001b[0;32m      1\u001b[0m \u001b[1;31m# Extract the predicted and true values of our time series\u001b[0m\u001b[1;33m\u001b[0m\u001b[1;33m\u001b[0m\u001b[1;33m\u001b[0m\u001b[0m\n\u001b[1;32m----> 2\u001b[1;33m \u001b[0mnatdisasters_forecasted\u001b[0m \u001b[1;33m=\u001b[0m \u001b[0mpred_dynamic\u001b[0m\u001b[1;33m.\u001b[0m\u001b[0mpredicted_mean\u001b[0m\u001b[1;33m\u001b[0m\u001b[1;33m\u001b[0m\u001b[0m\n\u001b[0m\u001b[0;32m      3\u001b[0m \u001b[0mnatdisasters_truth\u001b[0m \u001b[1;33m=\u001b[0m \u001b[0mts_natdisasters\u001b[0m\u001b[1;33m[\u001b[0m\u001b[1;34m'1953-06-01'\u001b[0m\u001b[1;33m:\u001b[0m\u001b[1;33m]\u001b[0m\u001b[1;33m\u001b[0m\u001b[1;33m\u001b[0m\u001b[0m\n\u001b[0;32m      4\u001b[0m \u001b[1;33m\u001b[0m\u001b[0m\n\u001b[0;32m      5\u001b[0m \u001b[1;31m# Compute the mean square error\u001b[0m\u001b[1;33m\u001b[0m\u001b[1;33m\u001b[0m\u001b[1;33m\u001b[0m\u001b[0m\n",
      "\u001b[1;31mNameError\u001b[0m: name 'pred_dynamic' is not defined"
     ]
    }
   ],
   "source": [
    "# Extract the predicted and true values of our time series\n",
    "natdisasters_forecasted = pred_dynamic.predicted_mean\n",
    "natdisasters_truth = ts_natdisasters['1953-06-01':]\n",
    "\n",
    "# Compute the mean square error\n",
    "mse = ((natdisasters_forecasted - natdisasters_truth) ** 2).mean()\n",
    "print('The Mean Squared Error of our forecasts is {}'.format(round(mse, 2)))"
   ]
  },
  {
   "cell_type": "code",
   "execution_count": 120,
   "metadata": {},
   "outputs": [],
   "source": [
    "# Get forecast 500 steps ahead in future\n",
    "prediction = output.get_forecast(steps=500)\n",
    "\n",
    "# Get confidence intervals of forecasts\n",
    "pred_conf = prediction.conf_int()"
   ]
  },
  {
   "cell_type": "code",
   "execution_count": 121,
   "metadata": {},
   "outputs": [
    {
     "data": {
      "image/png": "[encoded data removed]",
      "text/plain": [
       "<Figure size 1440x1080 with 1 Axes>"
      ]
     },
     "metadata": {
      "needs_background": "light"
     },
     "output_type": "display_data"
    }
   ],
   "source": [
    "# Plot future predictions with confidence intervals\n",
    "ax = ts_natdisasters.plot(label='observed', figsize=(20, 15))\n",
    "prediction.predicted_mean.plot(ax=ax, label='Forecast')\n",
    "ax.fill_between(pred_conf.index,\n",
    "                pred_conf.iloc[:, 0],\n",
    "                pred_conf.iloc[:, 1], color='k', alpha=0.25)\n",
    "ax.set_xlabel('Date')\n",
    "ax.set_ylabel('Natural Disasters')\n",
    "\n",
    "plt.legend()\n",
    "plt.show()"
   ]
  },
  {
   "cell_type": "code",
   "execution_count": null,
   "metadata": {},
   "outputs": [],
   "source": []
  }
 ],
 "metadata": {
  "kernelspec": {
   "display_name": "Python [conda env:learn-env] *",
   "language": "python",
   "name": "conda-env-learn-env-py"
  },
  "language_info": {
   "codemirror_mode": {
    "name": "ipython",
    "version": 3
   },
   "file_extension": ".py",
   "mimetype": "text/x-python",
   "name": "python",
   "nbconvert_exporter": "python",
   "pygments_lexer": "ipython3",
   "version": "3.6.9"
  },
  "toc": {
   "base_numbering": 1,
   "nav_menu": {},
   "number_sections": true,
   "sideBar": true,
   "skip_h1_title": false,
   "title_cell": "Table of Contents",
   "title_sidebar": "Contents",
   "toc_cell": false,
   "toc_position": {},
   "toc_section_display": true,
   "toc_window_display": false
  }
 },
 "nbformat": 4,
 "nbformat_minor": 2
}
